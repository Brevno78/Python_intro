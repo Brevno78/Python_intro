{
 "cells": [
  {
   "cell_type": "markdown",
   "id": "37e70265-a8b4-413c-ac6f-54b4d28310a3",
   "metadata": {},
   "source": [
    "Словарь в Python — это коллекция элементов, где каждый элемент имеет уникальный ключ и ассоциированное с ним некоторое значение. Значения могут быть любыми объектами: числами, строками, списками, другими словарями"
   ]
  },
  {
   "cell_type": "markdown",
   "id": "4f424e84-0969-4b4d-89dc-742f8836cd46",
   "metadata": {},
   "source": [
    "Определение словаря имеет следующий синтаксис: dictionary = { ключ1:значение1, ключ2:значение2, ....}. В фигурных скобках через запятую определяется последовательность элементов, где для каждого элемента сначала указывается ключ и через двоеточие его значение. "
   ]
  },
  {
   "cell_type": "markdown",
   "id": "e3e83f19-0f20-4275-86e0-56142f2533ed",
   "metadata": {},
   "source": [
    "Некоторые особенности работы со словарями в Python:\n",
    "- Пустой словарь можно определить так: my_dict = {}.\n",
    "- Для обращения к элементам после названия словаря в квадратных скобках указывается ключ элемента: dictionary[ключ]."
   ]
  },
  {
   "cell_type": "markdown",
   "id": "69962254-9a88-4aa2-9975-95eb3389b585",
   "metadata": {},
   "source": [
    "МЕТОДЫ РАБОТЫ СО СЛОВАРЯМИ."
   ]
  },
  {
   "cell_type": "markdown",
   "id": "1be71b59-771d-4dfa-ae1d-815ebf2d46c3",
   "metadata": {},
   "source": [
    "Создание словаря"
   ]
  },
  {
   "cell_type": "markdown",
   "id": "d062a613-7a97-4698-9a6a-fabb7b263e5d",
   "metadata": {},
   "source": [
    "Для создания словаря в Python необходимо передать последовательность элементов внутри фигурных скобок {}, разделив их запятыми (,). Каждый элемент имеет ключ и значение, выраженное парой «ключ: значение»."
   ]
  },
  {
   "cell_type": "markdown",
   "id": "546f3cab-c44b-43ef-9fea-9c96b77edf96",
   "metadata": {},
   "source": [
    "Создание пустого словаря:"
   ]
  },
  {
   "cell_type": "code",
   "execution_count": 1,
   "id": "7791a783-f5c9-46bd-888e-1544cc492f3c",
   "metadata": {},
   "outputs": [
    {
     "name": "stdout",
     "output_type": "stream",
     "text": [
      "{}\n"
     ]
    }
   ],
   "source": [
    "dict_sample = {}\n",
    "print(dict_sample)"
   ]
  },
  {
   "cell_type": "markdown",
   "id": "5c9872c7-29a1-4762-b76a-7ce521530cfc",
   "metadata": {},
   "source": [
    "Cловарь, где ключи являются целыми числами:"
   ]
  },
  {
   "cell_type": "code",
   "execution_count": 2,
   "id": "94e2d414-5cc6-41a4-b46f-44f0cd8f6179",
   "metadata": {},
   "outputs": [
    {
     "name": "stdout",
     "output_type": "stream",
     "text": [
      "{1: 'mango', 2: 'pawpaw'}\n"
     ]
    }
   ],
   "source": [
    "dict_sample = {1: 'mango', 2: 'pawpaw'}\n",
    "print(dict_sample)"
   ]
  },
  {
   "cell_type": "markdown",
   "id": "0b0166cc-f8b4-4512-93f3-68d911c0abe2",
   "metadata": {},
   "source": [
    "Создание словаря с ключами разных типов:"
   ]
  },
  {
   "cell_type": "code",
   "execution_count": 3,
   "id": "b925019d-a6d1-416e-829e-eb63890e18b3",
   "metadata": {},
   "outputs": [
    {
     "name": "stdout",
     "output_type": "stream",
     "text": [
      "{'Fruit': 'mango', 1: [1, 2, 3, 4]}\n"
     ]
    }
   ],
   "source": [
    "dict_sample_1 = {'Fruit': 'mango', 1: [1, 2, 3, 4,]}\n",
    "print(dict_sample_1)"
   ]
  },
  {
   "cell_type": "markdown",
   "id": "184d1af8-fea7-491f-9220-acc4fcc9e6e6",
   "metadata": {},
   "source": [
    "Можно также создать словарь, явно вызвав метод dict()"
   ]
  },
  {
   "cell_type": "code",
   "execution_count": 4,
   "id": "409167f1-acf0-472c-b7f3-e1a3d2ae9d5a",
   "metadata": {},
   "outputs": [
    {
     "name": "stdout",
     "output_type": "stream",
     "text": [
      "{1: 'Mango', 2: 'Pawpaw'}\n"
     ]
    }
   ],
   "source": [
    "dict_sample = dict({1:'Mango', 2: 'Pawpaw'})\n",
    "print(dict_sample)"
   ]
  },
  {
   "cell_type": "markdown",
   "id": "94598d7e-9239-43aa-ba3b-28352c45a6c4",
   "metadata": {},
   "source": [
    "Словарь можно создать с помощью последовательности"
   ]
  }
 ],
 "metadata": {
  "kernelspec": {
   "display_name": "Python 3 (ipykernel)",
   "language": "python",
   "name": "python3"
  },
  "language_info": {
   "codemirror_mode": {
    "name": "ipython",
    "version": 3
   },
   "file_extension": ".py",
   "mimetype": "text/x-python",
   "name": "python",
   "nbconvert_exporter": "python",
   "pygments_lexer": "ipython3",
   "version": "3.12.9"
  }
 },
 "nbformat": 4,
 "nbformat_minor": 5
}
