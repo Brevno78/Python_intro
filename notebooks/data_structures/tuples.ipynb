{
 "cells": [
  {
   "cell_type": "markdown",
   "id": "8d6fd0ec-fc71-43d5-86c6-af050c628d53",
   "metadata": {},
   "source": [
    "Кортежи в Python (тип tuple) — это неизменяемый тип данных для хранения упорядоченной последовательности элементов. После создания кортежа в него нельзя добавлять элементы, а также изменять их или удалять"
   ]
  },
  {
   "cell_type": "markdown",
   "id": "f1687b45-3001-437a-af9f-6acf6edbf1b0",
   "metadata": {},
   "source": [
    "Создать кортеж можно несколькими способами:"
   ]
  },
  {
   "cell_type": "markdown",
   "id": "c30ba031-814a-4040-b0a2-161d62902c99",
   "metadata": {},
   "source": [
    "С помощью круглых скобок. Например: my_tuple = (1, 2, 3). Если кортеж состоит из одного элемента, необходимо добавить заи\n",
    "ятую после этого элемента: single_element_tuple = (1,). "
   ]
  },
  {
   "cell_type": "markdown",
   "id": "c7cf5a5c-a66a-4132-9684-ea52baf1e33c",
   "metadata": {},
   "source": [
    "Без использования скобок, просто перечислив элементы через запятую. Например: another_tuple = 1, 2, 3."
   ]
  },
  {
   "cell_type": "markdown",
   "id": "55b9a5cc-6b3c-4933-aca3-47b3f5673ea6",
   "metadata": {},
   "source": [
    "Доступ к элементам кортежа осуществляется так же, как и к элементам списка, с помощью индексов\n"
   ]
  },
  {
   "cell_type": "markdown",
   "id": "a03d0d16-8519-44a6-90a9-75124fcc1b1b",
   "metadata": {},
   "source": [
    "Индексация начинается с нуля."
   ]
  },
  {
   "cell_type": "markdown",
   "id": "518a3e0b-9b3f-4d2e-b67b-56212eab20d2",
   "metadata": {},
   "source": [
    "Кортежи полезны, когда нужно хранить данные, которые не должны изменяться на протяжении выполнения программы. Они также могут использоваться в качестве ключей в словарях, что невозможно для списков. "
   ]
  },
  {
   "cell_type": "code",
   "execution_count": 1,
   "id": "3df54062-74d9-4400-831e-ff74381fc192",
   "metadata": {},
   "outputs": [
    {
     "name": "stdout",
     "output_type": "stream",
     "text": [
      "(1, 2, 3, 4, 5) <class 'tuple'>\n"
     ]
    }
   ],
   "source": [
    "# создание кортежа\n",
    "a = (1, 2, 3, 4, 5)\n",
    "print(a, type(a))"
   ]
  },
  {
   "cell_type": "code",
   "execution_count": 2,
   "id": "db83da57-b6a0-4bdb-ae8f-5a329649e4b0",
   "metadata": {},
   "outputs": [
    {
     "name": "stdout",
     "output_type": "stream",
     "text": [
      "(1, 2, 3, 4, 5) <class 'tuple'>\n"
     ]
    }
   ],
   "source": [
    "a = 1, 2, 3, 4, 5,\n",
    "print(a, type(a))"
   ]
  },
  {
   "cell_type": "code",
   "execution_count": 8,
   "id": "a00dbd78-85a5-4844-8483-46b443c2f9c2",
   "metadata": {},
   "outputs": [
    {
     "name": "stdout",
     "output_type": "stream",
     "text": [
      "(1, 2, 3, 4, 5, 6, 7, 8, 9) <class 'tuple'>\n"
     ]
    }
   ],
   "source": [
    "b = tuple(range(1, 10,))\n",
    "print(b, type(b))"
   ]
  },
  {
   "cell_type": "markdown",
   "id": "27fe4a77-253f-4754-a865-4da101335877",
   "metadata": {},
   "source": [
    "Методы tuple\n"
   ]
  },
  {
   "cell_type": "markdown",
   "id": "12facc62-1ba9-41e0-83e3-80aa69dfc137",
   "metadata": {},
   "source": [
    "- .index() — используется для вывода индекса элемента.\n",
    "- .count() — используется для подсчета количества элементов в кортеже.\n",
    "- sum() — складывает все элементы кортежа.\n",
    "- min() — показывает элемент кортежа с наименьшим значением.\n",
    "- max() — показывает элемент кортежа с максимальным значением.\n",
    "- len() — показывает количество элементов кортежа."
   ]
  },
  {
   "cell_type": "code",
   "execution_count": 3,
   "id": "37707c9c-0b3e-49c1-ba17-c97d4d46095f",
   "metadata": {},
   "outputs": [
    {
     "name": "stdout",
     "output_type": "stream",
     "text": [
      "(1, 2.5, 'Лондон', 'Пекин', True)\n"
     ]
    }
   ],
   "source": [
    "a_1 = (1, 2.5, 'Лондон', 'Пекин', True)\n",
    "print(a_1)"
   ]
  },
  {
   "cell_type": "markdown",
   "id": "94522d4c-2c96-48dc-a1bd-ddcee15b2d6c",
   "metadata": {},
   "source": [
    "Доступ к элементам: получить элементы кортежа можно с помощью соответствующего индекса в квадратных скобках.\n"
   ]
  },
  {
   "cell_type": "code",
   "execution_count": 4,
   "id": "9b8cb21b-2bc3-47bf-91ca-a10c1c697bf2",
   "metadata": {},
   "outputs": [
    {
     "name": "stdout",
     "output_type": "stream",
     "text": [
      "Лондон\n"
     ]
    }
   ],
   "source": [
    "print(a_1[2])"
   ]
  },
  {
   "cell_type": "markdown",
   "id": "84cb6e37-c748-4cf4-a31b-00f7064e500c",
   "metadata": {},
   "source": [
    "Последний элемент следующего кортежа — булево True. Доступ к нему мы получаем с помощью функции print."
   ]
  },
  {
   "cell_type": "code",
   "execution_count": 5,
   "id": "da964294-4a8e-424e-b579-ec3ff3d3093b",
   "metadata": {},
   "outputs": [
    {
     "name": "stdout",
     "output_type": "stream",
     "text": [
      "True\n"
     ]
    }
   ],
   "source": [
    "print(a_1[4])"
   ]
  },
  {
   "cell_type": "markdown",
   "id": "7793a4e6-06d1-4433-9717-ec62f30a23c1",
   "metadata": {},
   "source": [
    "Обратное индексирование: по аналогии с элементами списка элементы кортежа также можно получить с помощью обратного индексирования. Оно начинается с -1. Это значение указывает на последний элемент."
   ]
  },
  {
   "cell_type": "code",
   "execution_count": 7,
   "id": "7dd36ad3-4105-4e45-b4d5-7098e92b01ca",
   "metadata": {},
   "outputs": [
    {
     "name": "stdout",
     "output_type": "stream",
     "text": [
      "Пекин\n"
     ]
    }
   ],
   "source": [
    "print(a_1[-2])"
   ]
  },
  {
   "cell_type": "markdown",
   "id": "db164456-cd0b-4ace-934d-0074e71e7f15",
   "metadata": {},
   "source": [
    "Метод .len - возвращает количество этлементов в кортеже"
   ]
  },
  {
   "cell_type": "code",
   "execution_count": 25,
   "id": "eab788d1-d90f-4a96-9f27-76c25bd15678",
   "metadata": {},
   "outputs": [
    {
     "name": "stdout",
     "output_type": "stream",
     "text": [
      "5\n"
     ]
    }
   ],
   "source": [
    "a_0 = (1, 2, 3, 5, 7)\n",
    "print(len(a_0))"
   ]
  },
  {
   "cell_type": "markdown",
   "id": "c8150110-02f2-49c4-840f-75870bdedbb3",
   "metadata": {},
   "source": [
    "Метод .index - полезный метод, используемый для получения индекса конкретного элемента в кортеже."
   ]
  },
  {
   "cell_type": "code",
   "execution_count": 1,
   "id": "065b6a20-6b19-404f-85d2-18fb2e08474c",
   "metadata": {},
   "outputs": [
    {
     "name": "stdout",
     "output_type": "stream",
     "text": [
      "1\n"
     ]
    }
   ],
   "source": [
    "a_2 = ('Лондон', 'Пекин', 44, True)\n",
    "print(a_2.index('Пекин'))"
   ]
  },
  {
   "cell_type": "markdown",
   "id": "64d3bab8-3f71-401b-9029-34ccbcd5aed7",
   "metadata": {},
   "source": [
    "Метод .count подходит для определения количества вхождений определенного элемента в кортеже"
   ]
  },
  {
   "cell_type": "code",
   "execution_count": 4,
   "id": "1d09dab5-08de-4a39-a3ba-b2da2db467ba",
   "metadata": {},
   "outputs": [
    {
     "name": "stdout",
     "output_type": "stream",
     "text": [
      "4\n"
     ]
    }
   ],
   "source": [
    "a_3 = (1, 2, 3, 4, 4, 1, 3, 3, 3, 8)\n",
    "print(a_3.count(3))"
   ]
  },
  {
   "cell_type": "markdown",
   "id": "d2359835-d5e0-4624-bfb6-dae4be8255d4",
   "metadata": {},
   "source": [
    "Функция sum() возвращает общую сумму чисел внутри кортежа."
   ]
  },
  {
   "cell_type": "code",
   "execution_count": 9,
   "id": "674e7435-2a4b-47d2-b14e-b6c16973b9a4",
   "metadata": {},
   "outputs": [
    {
     "name": "stdout",
     "output_type": "stream",
     "text": [
      "113\n"
     ]
    }
   ],
   "source": [
    "a_4 = (28, 40, 33, 12)\n",
    "print(sum(a_4))"
   ]
  },
  {
   "cell_type": "markdown",
   "id": "099faac6-4eb5-4a89-b9f5-4c0cde972109",
   "metadata": {},
   "source": [
    "Функция min() вернет элемент с самым маленьким значением в кортеже."
   ]
  },
  {
   "cell_type": "code",
   "execution_count": 11,
   "id": "c892ad17-332b-4747-bfca-aac3976e40af",
   "metadata": {},
   "outputs": [
    {
     "name": "stdout",
     "output_type": "stream",
     "text": [
      "32\n"
     ]
    }
   ],
   "source": [
    "min_1 = (84, 45, 32, 94)\n",
    "print(min(min_1))"
   ]
  },
  {
   "cell_type": "markdown",
   "id": "f57857a4-c4cc-498d-a50f-ecacf5f404b3",
   "metadata": {},
   "source": [
    "Функция max() вернет элемент с максимальным значением в кортеже."
   ]
  },
  {
   "cell_type": "code",
   "execution_count": 12,
   "id": "a3a20a6c-e2f4-47e0-9044-210072876ba1",
   "metadata": {},
   "outputs": [
    {
     "name": "stdout",
     "output_type": "stream",
     "text": [
      "101\n"
     ]
    }
   ],
   "source": [
    "lucky_numbers = (5, 55, 4, 3, 101, 42)\n",
    "print(max(lucky_numbers))"
   ]
  },
  {
   "cell_type": "markdown",
   "id": "be9df8a2-ffc1-46af-ae7e-68df39a13c02",
   "metadata": {},
   "source": [
    "1. Создайте кортеж с цифрами от 0 до 9 и посчитайте сумму."
   ]
  },
  {
   "cell_type": "code",
   "execution_count": 14,
   "id": "72c28fd6-12f0-4fbb-862e-75a30254894b",
   "metadata": {},
   "outputs": [
    {
     "name": "stdout",
     "output_type": "stream",
     "text": [
      "45\n"
     ]
    }
   ],
   "source": [
    "sum_1 = (0, 1, 2, 3, 4, 5, 6, 7, 8, 9)\n",
    "print(sum(sum_1))"
   ]
  },
  {
   "cell_type": "markdown",
   "id": "8f2d2b59-967b-48a3-853c-777fb049af55",
   "metadata": {},
   "source": [
    "Введите статистику частотности букв в кортеже."
   ]
  },
  {
   "cell_type": "code",
   "execution_count": 23,
   "id": "43df24e3-8d86-4c9d-8394-c5544116fa1d",
   "metadata": {},
   "outputs": [
    {
     "name": "stdout",
     "output_type": "stream",
     "text": [
      "Количетсво букв 'т' = 5\n",
      "Количество букв 'a' = 5\n",
      "количесвто букв 'и' = 11\n"
     ]
    }
   ],
   "source": [
    "long_word = (\n",
    "    'т', 'т', 'а', 'и', 'и', 'а', 'и', \n",
    "    'и', 'и', 'т', 'т', 'а', 'и', 'и',\n",
    "    'и', 'и', 'и', 'т', 'и'\n",
    ")\n",
    "print(\"Количетсво букв 'т' =\", long_word.count('т'))\n",
    "print(\"Количество букв 'a' =\", long_word.count('т'))\n",
    "print(\"количесвто букв 'и' =\", long_word.count('и'))"
   ]
  },
  {
   "cell_type": "markdown",
   "id": "4ec22e10-a75e-427d-a581-c9ab8ae262e2",
   "metadata": {},
   "source": [
    "Допишите скрипт для расчета средней температуры.\n",
    "Постарайтесь посчитать количество дней на основе week_temp. Так наш скрипт сможет работать с данными за любой период."
   ]
  },
  {
   "cell_type": "code",
   "execution_count": 27,
   "id": "8a72beef-0cbf-4176-81ec-6774297983ab",
   "metadata": {},
   "outputs": [
    {
     "name": "stdout",
     "output_type": "stream",
     "text": [
      "28\n"
     ]
    }
   ],
   "source": [
    "week_temp = (26, 29, 34, 32, 28, 26, 23)\n",
    "sum_temp = sum(week_temp)\n",
    "days = len(week_temp)\n",
    "mean_temp = sum_temp/days\n",
    "print(int(mean_temp))\n"
   ]
  }
 ],
 "metadata": {
  "kernelspec": {
   "display_name": "Python 3 (ipykernel)",
   "language": "python",
   "name": "python3"
  },
  "language_info": {
   "codemirror_mode": {
    "name": "ipython",
    "version": 3
   },
   "file_extension": ".py",
   "mimetype": "text/x-python",
   "name": "python",
   "nbconvert_exporter": "python",
   "pygments_lexer": "ipython3",
   "version": "3.12.9"
  }
 },
 "nbformat": 4,
 "nbformat_minor": 5
}
