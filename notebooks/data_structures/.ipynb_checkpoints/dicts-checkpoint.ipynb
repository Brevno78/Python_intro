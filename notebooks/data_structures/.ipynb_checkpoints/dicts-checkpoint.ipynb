{
 "cells": [
  {
   "cell_type": "markdown",
   "id": "37e70265-a8b4-413c-ac6f-54b4d28310a3",
   "metadata": {},
   "source": [
    "Словарь в Python — это коллекция элементов, где каждый элемент имеет уникальный ключ и ассоциированное с ним некоторое значение. Значения могут быть любыми объектами: числами, строками, списками, другими словарями"
   ]
  },
  {
   "cell_type": "markdown",
   "id": "4f424e84-0969-4b4d-89dc-742f8836cd46",
   "metadata": {},
   "source": [
    "Определение словаря имеет следующий синтаксис: dictionary = { ключ1:значение1, ключ2:значение2, ....}. В фигурных скобках через запятую определяется последовательность элементов, где для каждого элемента сначала указывается ключ и через двоеточие его значение. "
   ]
  },
  {
   "cell_type": "markdown",
   "id": "e3e83f19-0f20-4275-86e0-56142f2533ed",
   "metadata": {},
   "source": [
    "Некоторые особенности работы со словарями в Python:\n",
    "- Пустой словарь можно определить так: my_dict = {}.\n",
    "- Для обращения к элементам после названия словаря в квадратных скобках указывается ключ элемента: dictionary[ключ]."
   ]
  },
  {
   "cell_type": "markdown",
   "id": "69962254-9a88-4aa2-9975-95eb3389b585",
   "metadata": {},
   "source": [
    "МЕТОДЫ РАБОТЫ СО СЛОВАРЯМИ."
   ]
  },
  {
   "cell_type": "markdown",
   "id": "1be71b59-771d-4dfa-ae1d-815ebf2d46c3",
   "metadata": {},
   "source": [
    "Создание словаря"
   ]
  },
  {
   "cell_type": "markdown",
   "id": "d062a613-7a97-4698-9a6a-fabb7b263e5d",
   "metadata": {},
   "source": [
    "Для создания словаря в Python необходимо передать последовательность элементов внутри фигурных скобок {}, разделив их запятыми (,). Каждый элемент имеет ключ и значение, выраженное парой «ключ: значение»."
   ]
  },
  {
   "cell_type": "markdown",
   "id": "546f3cab-c44b-43ef-9fea-9c96b77edf96",
   "metadata": {},
   "source": [
    "Создание пустого словаря:"
   ]
  },
  {
   "cell_type": "code",
   "execution_count": 1,
   "id": "7791a783-f5c9-46bd-888e-1544cc492f3c",
   "metadata": {},
   "outputs": [
    {
     "name": "stdout",
     "output_type": "stream",
     "text": [
      "{}\n"
     ]
    }
   ],
   "source": [
    "dict_sample = {}\n",
    "print(dict_sample)"
   ]
  },
  {
   "cell_type": "markdown",
   "id": "5c9872c7-29a1-4762-b76a-7ce521530cfc",
   "metadata": {},
   "source": [
    "Cловарь, где ключи являются целыми числами:"
   ]
  },
  {
   "cell_type": "code",
   "execution_count": 2,
   "id": "94e2d414-5cc6-41a4-b46f-44f0cd8f6179",
   "metadata": {},
   "outputs": [
    {
     "name": "stdout",
     "output_type": "stream",
     "text": [
      "{1: 'mango', 2: 'pawpaw'}\n"
     ]
    }
   ],
   "source": [
    "dict_sample = {1: 'mango', 2: 'pawpaw'}\n",
    "print(dict_sample)"
   ]
  },
  {
   "cell_type": "markdown",
   "id": "0b0166cc-f8b4-4512-93f3-68d911c0abe2",
   "metadata": {},
   "source": [
    "Создание словаря с ключами разных типов:"
   ]
  },
  {
   "cell_type": "code",
   "execution_count": 3,
   "id": "b925019d-a6d1-416e-829e-eb63890e18b3",
   "metadata": {},
   "outputs": [
    {
     "name": "stdout",
     "output_type": "stream",
     "text": [
      "{'Fruit': 'mango', 1: [1, 2, 3, 4]}\n"
     ]
    }
   ],
   "source": [
    "dict_sample_1 = {'Fruit': 'mango', 1: [1, 2, 3, 4,]}\n",
    "print(dict_sample_1)"
   ]
  },
  {
   "cell_type": "markdown",
   "id": "184d1af8-fea7-491f-9220-acc4fcc9e6e6",
   "metadata": {},
   "source": [
    "Можно также создать словарь, явно вызвав метод dict()"
   ]
  },
  {
   "cell_type": "code",
   "execution_count": 4,
   "id": "409167f1-acf0-472c-b7f3-e1a3d2ae9d5a",
   "metadata": {},
   "outputs": [
    {
     "name": "stdout",
     "output_type": "stream",
     "text": [
      "{1: 'Mango', 2: 'Pawpaw'}\n"
     ]
    }
   ],
   "source": [
    "dict_sample = dict({1:'Mango', 2: 'Pawpaw'})\n",
    "print(dict_sample)"
   ]
  },
  {
   "cell_type": "markdown",
   "id": "94598d7e-9239-43aa-ba3b-28352c45a6c4",
   "metadata": {},
   "source": [
    "Словарь можно создать с помощью последовательности"
   ]
  },
  {
   "cell_type": "code",
   "execution_count": 11,
   "id": "92464e34-10ad-46a7-8be2-658f57781c2c",
   "metadata": {},
   "outputs": [
    {
     "data": {
      "text/plain": [
       "{1: 'mango', 2: 'pawpaw'}"
      ]
     },
     "execution_count": 11,
     "metadata": {},
     "output_type": "execute_result"
    }
   ],
   "source": [
    "dict_sample = dict([(1, 'mango'), (2, 'pawpaw')])\n",
    "dict_sample"
   ]
  },
  {
   "cell_type": "markdown",
   "id": "6819221d-91c1-436f-ad5d-341db42bc169",
   "metadata": {},
   "source": [
    "Словари могут быть вложенными. Это значит, что можно создавать словари внутри существующего словаря."
   ]
  },
  {
   "cell_type": "code",
   "execution_count": 30,
   "id": "6339776f-e25e-4fbb-ab18-be17010abac2",
   "metadata": {},
   "outputs": [
    {
     "name": "stdout",
     "output_type": "stream",
     "text": [
      "(1, {'student1': 'Nicholas', 'student2': 'John', 'student3': 'Mercy'})\n",
      "(2, {'course1': 'Computer Science', 'Course2': 'Mathematics', 'corse3': 'Accounting'})\n"
     ]
    }
   ],
   "source": [
    "dict_simple_3 = {\n",
    "    1: {'student1': 'Nicholas', 'student2': 'John', 'student3': 'Mercy'},\n",
    "    2: {'course1': 'Computer Science', 'Course2': 'Mathematics', 'corse3': 'Accounting'}\n",
    "}\n",
    "print(*dict_simple_3.items(), sep = '\\n')"
   ]
  },
  {
   "cell_type": "markdown",
   "id": "700bedf1-f93a-4ce9-8f02-f224846d5489",
   "metadata": {},
   "source": [
    "Чтобы вывести содержимое словаря, можно использовать функцию print() и передать название словаря в качестве аргумента."
   ]
  },
  {
   "cell_type": "code",
   "execution_count": 35,
   "id": "20373d61-ce42-4923-b432-8b30f4eb5b48",
   "metadata": {},
   "outputs": [
    {
     "name": "stdout",
     "output_type": "stream",
     "text": [
      "('Company', 'Toyota')\n",
      "('Model', 'Premio')\n",
      "('Year', 2012)\n"
     ]
    }
   ],
   "source": [
    "dict_sample_2 = {\n",
    "    'Company': 'Toyota',\n",
    "    'Model': 'Premio',\n",
    "    'Year': 2012\n",
    "}\n",
    "print(*dict_sample_2.items(), sep = '\\n')"
   ]
  },
  {
   "cell_type": "markdown",
   "id": "9ccff0b4-aaa6-4805-ba2c-cdd71db3d0bf",
   "metadata": {},
   "source": [
    "Доступ к элементам"
   ]
  },
  {
   "cell_type": "markdown",
   "id": "648c1d5b-71d0-457c-8f18-41d18c020d7b",
   "metadata": {},
   "source": [
    "Чтобы получить доступ к элементам словаря, нужно передать ключ в квадратных скобках []."
   ]
  },
  {
   "cell_type": "code",
   "execution_count": 37,
   "id": "b10048e1-5cac-4648-aef8-10161732a9f5",
   "metadata": {},
   "outputs": [
    {
     "name": "stdout",
     "output_type": "stream",
     "text": [
      "Premio\n"
     ]
    }
   ],
   "source": [
    "dict_sample_2 = {\n",
    "    'Company': 'Toyota',\n",
    "    'Model': 'Premio',\n",
    "    'Year': 2012\n",
    "}\n",
    "x = dict_sample_2['Model']\n",
    "print(x)\n",
    "# Был создан словарь dict_sample. Затем была создана переменная x. Ее значение — это значение ключа [\"model\"] из словаря."
   ]
  },
  {
   "cell_type": "code",
   "execution_count": 44,
   "id": "65ad7780-2b76-4089-9d3e-e45ceafb2878",
   "metadata": {},
   "outputs": [
    {
     "name": "stdout",
     "output_type": "stream",
     "text": [
      "Student name - Mercy\n",
      "Course - Accounting\n",
      "Age - 23\n"
     ]
    }
   ],
   "source": [
    "dict_1 = {'Name': 'Mercy', 'Age': 23, 'Course': 'Accounting'}\n",
    "print('Student name -', dict_1['Name'])\n",
    "print('Course -', dict_1['Course'])\n",
    "print('Age -', dict_1['Age'])"
   ]
  },
  {
   "cell_type": "markdown",
   "id": "8a7abedc-22f9-4647-9ff5-2fea9375d715",
   "metadata": {},
   "source": [
    "Объект словаря также имеет функцию get(), которой можно пользоваться для доступа к элементам словаря. Ее нужно добавлять к словаря через точку и затем передавать название ключа как аргумент функции."
   ]
  },
  {
   "cell_type": "code",
   "execution_count": 46,
   "id": "ca8cf749-435c-4bf1-bdd8-fc4c2e30a989",
   "metadata": {},
   "outputs": [
    {
     "name": "stdout",
     "output_type": "stream",
     "text": [
      "Premio\n"
     ]
    }
   ],
   "source": [
    "dict_sample_2 = {\n",
    "    'Company': 'Toyota',\n",
    "    'Model': 'Premio',\n",
    "    'Year': 2012\n",
    "}\n",
    "x = dict_sample_2.get('Model')\n",
    "print(x)"
   ]
  },
  {
   "cell_type": "markdown",
   "id": "c6e80a6a-f529-42e5-86be-f1013ad1d069",
   "metadata": {},
   "source": [
    "Добавление элементов"
   ]
  },
  {
   "cell_type": "markdown",
   "id": "ec08f5ca-1b62-4b5d-9814-2eb84a7ea737",
   "metadata": {},
   "source": [
    "Существует множество способов для добавления новых элементов в словарь. Можно использовать новый ключ и присвоить ему значение."
   ]
  },
  {
   "cell_type": "code",
   "execution_count": 47,
   "id": "7d34c90f-d67a-4ce0-8234-d9b6ca320596",
   "metadata": {},
   "outputs": [
    {
     "name": "stdout",
     "output_type": "stream",
     "text": [
      "{'Company': 'Toyota', 'model': 'Premio', 'year': 2012, 'Capacity': '1800CC'}\n"
     ]
    }
   ],
   "source": [
    "dict_sample = {\n",
    "  \"Company\": \"Toyota\", \n",
    "  \"model\": \"Premio\", \n",
    "  \"year\": 2012 \n",
    "}\n",
    "dict_sample['Capacity'] = '1800CC'\n",
    "print(dict_sample)"
   ]
  },
  {
   "cell_type": "markdown",
   "id": "fdd75edf-92dd-42e0-ace1-163141f32a53",
   "metadata": {},
   "source": [
    "Вот другой пример. Для начала нужно создать пустой словарь:"
   ]
  },
  {
   "cell_type": "code",
   "execution_count": 48,
   "id": "432d046b-d8a3-4c85-9326-eeaa4b1f9cf4",
   "metadata": {},
   "outputs": [
    {
     "name": "stdout",
     "output_type": "stream",
     "text": [
      "An Empty Dictonary: \n",
      "{}\n"
     ]
    }
   ],
   "source": [
    "my_dictionary = {}\n",
    "print('An Empty Dictonary: ')\n",
    "print(my_dictionary)"
   ]
  },
  {
   "cell_type": "markdown",
   "id": "6d433ec7-6cc4-4f4a-a077-7ae984ce7ecd",
   "metadata": {},
   "source": [
    "Словарь ничего не возвращает, потому что в нем ничего не хранится. Добавим в нему элементы, один за одним:"
   ]
  },
  {
   "cell_type": "code",
   "execution_count": 52,
   "id": "5a34e051-ee5f-4e4a-81b3-62a67118a905",
   "metadata": {},
   "outputs": [
    {
     "name": "stdout",
     "output_type": "stream",
     "text": [
      "\n",
      "3 has been added:\n",
      "(0, 'apples')\n",
      "(2, 'mangoes')\n",
      "(3, 20)\n"
     ]
    }
   ],
   "source": [
    "my_dictionary[0] = 'apples'\n",
    "my_dictionary[2] = 'mangoes'\n",
    "my_dictionary[3] = 20\n",
    "print('\\n3 has been added:')\n",
    "print(*my_dictionary.items(), sep = '\\n')"
   ]
  },
  {
   "cell_type": "markdown",
   "id": "5a8a8421-378e-426b-88bb-251459dd4626",
   "metadata": {},
   "source": [
    "Можно даже добавить несколько значений для одного ключа"
   ]
  },
  {
   "cell_type": "code",
   "execution_count": 59,
   "id": "5107dc67-6c0b-4ea7-b5ed-1b21523ae9d4",
   "metadata": {},
   "outputs": [
    {
     "name": "stdout",
     "output_type": "stream",
     "text": [
      "\n",
      "3 elements have been added:\n",
      "{0: 'apples', 2: 'mangoes', 3: 20, 'Values': (1, 'Pairs', 4)}\n"
     ]
    }
   ],
   "source": [
    "my_dictionary['Values'] = 1, 'Pairs', 4\n",
    "print('\\n3 elements have been added:')\n",
    "print(my_dictionary)\n",
    "# В этом примере название ключа — \"Value\", а все что после знака = — его значения в формате множества (Set)."
   ]
  },
  {
   "cell_type": "markdown",
   "id": "c57cfcbd-11a3-4800-827b-006e1bd0dcef",
   "metadata": {},
   "source": [
    "Помимо добавления новых элементов в словарь, их можно обновлять или изменять."
   ]
  },
  {
   "cell_type": "markdown",
   "id": "0fe52af8-39ad-49be-9da2-a4504b475bb5",
   "metadata": {},
   "source": [
    "Обновление элементов"
   ]
  },
  {
   "cell_type": "markdown",
   "id": "257a3ecc-d2a1-4ce2-b65b-0bbc6f68120d",
   "metadata": {},
   "source": [
    "После добавления значения в словарь существующий элемент словаря можно изменить. Для изменения значения используется соответствующий ключ."
   ]
  },
  {
   "cell_type": "code",
   "execution_count": 93,
   "id": "d3a7af3b-ac6b-4a5d-a159-bce286c0fd92",
   "metadata": {},
   "outputs": [
    {
     "name": "stdout",
     "output_type": "stream",
     "text": [
      "('Company', 'Toyota')\n",
      "('model', 'Lazzio')\n",
      "('year', 2014)\n"
     ]
    }
   ],
   "source": [
    "dict_sample = {\n",
    "  \"Company\": \"Toyota\", \n",
    "  \"model\": \"Lazzio\", \n",
    "  \"year\": 2012 \n",
    "}\n",
    "dict_sample['year'] = 2014\n",
    "print(*dict_sample.items(), sep = '\\n')"
   ]
  },
  {
   "cell_type": "markdown",
   "id": "1e8cabaf-b732-408c-b68a-1d20e649effd",
   "metadata": {},
   "source": [
    "Удаление элементов"
   ]
  },
  {
   "cell_type": "markdown",
   "id": "e049fd77-5f18-4806-b2e5-d7058937ae23",
   "metadata": {},
   "source": [
    "Удалить элемент из словаря можно несколькими способами."
   ]
  },
  {
   "cell_type": "markdown",
   "id": "914a4f05-44d1-41a4-b80b-b053e3bae9ad",
   "metadata": {},
   "source": [
    "Ключевое слово del можно использовать для удаления элемента с конкретным ключом."
   ]
  },
  {
   "cell_type": "code",
   "execution_count": 94,
   "id": "408a629d-3a17-452b-a01e-c25128b355b1",
   "metadata": {},
   "outputs": [
    {
     "name": "stdout",
     "output_type": "stream",
     "text": [
      "('Company', 'Toyota')\n",
      "('model', 'Lazzio')\n"
     ]
    }
   ],
   "source": [
    "# Вызывается ключевое слово del, а следом за ним — название словаря.\n",
    "# квадратных скобках следом за словарем идет ключ элемента, который требуется удалить. В этом примере это \"year\". Запись \"year\" удаляется из словаря.\n",
    "del dict_sample['year']\n",
    "print(*dict_sample.items(), sep = '\\n')"
   ]
  },
  {
   "cell_type": "markdown",
   "id": "6d63dec9-d6f2-408b-a54f-815919ea54e3",
   "metadata": {},
   "source": [
    "Другой способ удалить пару ключ-значение — функция pop() с ключом записи в виде аргумента."
   ]
  },
  {
   "cell_type": "code",
   "execution_count": 97,
   "id": "ddf569ba-274a-4309-aa65-6dd039ba5d72",
   "metadata": {},
   "outputs": [
    {
     "name": "stdout",
     "output_type": "stream",
     "text": [
      "{'Company': 'Toyota', 'model': 'Premio'}\n"
     ]
    }
   ],
   "source": [
    "dict_sample = {\n",
    "  \"Company\": \"Toyota\", \n",
    "  \"model\": \"Premio\", \n",
    "  \"year\": 2012 \n",
    "} \n",
    "dict_sample.pop('year')\n",
    "print(dict_sample)\n",
    "# Функция pop() была вызвана добавлением ее к названию словаря. В этом случае будет удалена запись с ключом \"year\"."
   ]
  },
  {
   "cell_type": "markdown",
   "id": "0aac342a-7615-4e38-8da2-fa0cc2eca85e",
   "metadata": {},
   "source": [
    "Функция popitem() удаляет последний элемент в словаре. Для нее не нужно указывать конкретный ключ."
   ]
  },
  {
   "cell_type": "code",
   "execution_count": 98,
   "id": "8c66cedb-d09b-420f-8bb5-17b7a1218075",
   "metadata": {},
   "outputs": [
    {
     "name": "stdout",
     "output_type": "stream",
     "text": [
      "{'Company': 'Toyota', 'model': 'Premio'}\n"
     ]
    }
   ],
   "source": [
    "dict_sample = {\n",
    "  \"Company\": \"Toyota\", \n",
    "  \"model\": \"Premio\", \n",
    "  \"year\": 2012 \n",
    "} \n",
    "dict_sample.popitem()\n",
    "print(dict_sample)"
   ]
  },
  {
   "cell_type": "markdown",
   "id": "7ab8d367-3bde-4e60-aa41-ac8539483da6",
   "metadata": {},
   "source": [
    "Что делать, если нужно удалить целый словарь? Это будет сложно и займет много времени, если пользоваться этими методами к каждому ключу. Вместо этого можно использовать ключевое слово del для целого словаря."
   ]
  },
  {
   "attachments": {
    "66624698-bde5-4c97-ab97-db78baa7bfc0.png": {
     "image/png": "[encoded data removed]"
    }
   },
   "cell_type": "markdown",
   "id": "775b423b-b2b1-4b6f-85f6-2885bafe3377",
   "metadata": {},
   "source": [
    "![image.png](attachment:66624698-bde5-4c97-ab97-db78baa7bfc0.png)"
   ]
  },
  {
   "cell_type": "markdown",
   "id": "4ba993ef-cc40-4d09-9552-37b1922cb4cd",
   "metadata": {},
   "source": [
    "Код вернет ошибку, потому что функция print() пытается получить доступ к словарю, который уже не существует."
   ]
  },
  {
   "cell_type": "markdown",
   "id": "7665a8ca-734b-4055-a3b3-a7900c4e3e54",
   "metadata": {},
   "source": [
    "В определенных случаях может потребоваться удалить все элементы словаря, оставив его пустым. Этого можно добиться, воспользовавшись функцией clear()"
   ]
  },
  {
   "cell_type": "code",
   "execution_count": 101,
   "id": "a63a06a1-4aa0-43e2-be5d-1db9d58cf473",
   "metadata": {},
   "outputs": [
    {
     "name": "stdout",
     "output_type": "stream",
     "text": [
      "{}\n"
     ]
    }
   ],
   "source": [
    "dict_sample = {\n",
    "  \"Company\": \"Toyota\", \n",
    "  \"model\": \"Premio\", \n",
    "  \"year\": 2012 \n",
    "}\n",
    "dict_sample.clear()\n",
    "print(dict_sample)"
   ]
  },
  {
   "cell_type": "markdown",
   "id": "098c91bc-6677-4f62-baa7-5b66fe10d6b0",
   "metadata": {},
   "source": [
    "Другие распространенные методы словарей"
   ]
  },
  {
   "cell_type": "markdown",
   "id": "540a25f5-12ed-448b-9b18-7d9089ec8d1b",
   "metadata": {},
   "source": [
    "Метод len()"
   ]
  },
  {
   "cell_type": "markdown",
   "id": "6a6320eb-f76c-4b82-a17f-a7a355e89dc0",
   "metadata": {},
   "source": [
    "С помощью этого метода можно посчитать количество элементов в словаре."
   ]
  },
  {
   "cell_type": "code",
   "execution_count": 103,
   "id": "812036e0-8eb9-44b1-9146-a8f884bb0077",
   "metadata": {},
   "outputs": [
    {
     "name": "stdout",
     "output_type": "stream",
     "text": [
      "3\n"
     ]
    }
   ],
   "source": [
    "dict_sample = {\n",
    "  \"Company\": \"Toyota\", \n",
    "  \"model\": \"Premio\", \n",
    "  \"year\": 2012 \n",
    "}\n",
    "print(len(dict_sample))"
   ]
  },
  {
   "cell_type": "markdown",
   "id": "9c487883-11bd-46f9-8ab6-25a7aba6ada9",
   "metadata": {},
   "source": [
    "Метод copy()"
   ]
  },
  {
   "cell_type": "markdown",
   "id": "78eb3dce-410b-4301-897e-31fccda60b5b",
   "metadata": {},
   "source": [
    "Этот метод возвращает копию существующего словаря."
   ]
  },
  {
   "cell_type": "code",
   "execution_count": 107,
   "id": "d2dfd445-386f-4b25-bc00-3c5efb84afad",
   "metadata": {},
   "outputs": [
    {
     "name": "stdout",
     "output_type": "stream",
     "text": [
      "('Company', 'Toyota')\n",
      "('model', 'Premio')\n",
      "('year', 2012)\n"
     ]
    }
   ],
   "source": [
    "dict_sample = {\n",
    "  \"Company\": \"Toyota\", \n",
    "  \"model\": \"Premio\", \n",
    "  \"year\": 2012 \n",
    "}\n",
    "x = dict_sample.copy()\n",
    "print(*x.items(), sep = '\\n')\n",
    "# Была создана копия словаря dict_sample. Она присвоена переменной x. Если вывести x в консоль, то в ней будут те же элементы,\n",
    "# что и в словаре dict_sample.\n",
    "# Изменения в скопированном словаре не затрагивают оригинальный словапь"
   ]
  },
  {
   "cell_type": "markdown",
   "id": "403fc7bc-69f6-4563-8b88-815bcb3b185e",
   "metadata": {},
   "source": [
    "Метод items()"
   ]
  },
  {
   "cell_type": "markdown",
   "id": "fce799e7-2a05-4544-8cfe-f3b41c01e4b7",
   "metadata": {},
   "source": [
    "Этот метод возвращает итерируемый объект. Такой объект содержит пары ключ-значение для словаря по аналогии с кортежами в списке. Метод используется, когда нужно перебрать значения словаря."
   ]
  },
  {
   "cell_type": "code",
   "execution_count": 109,
   "id": "44386f0d-8abe-4917-b38d-5571d479452e",
   "metadata": {},
   "outputs": [
    {
     "name": "stdout",
     "output_type": "stream",
     "text": [
      "Company Toyota\n",
      "model Premio\n",
      "year 2012\n"
     ]
    }
   ],
   "source": [
    "dict_sample = {\n",
    "  \"Company\": \"Toyota\", \n",
    "  \"model\": \"Premio\", \n",
    "  \"year\": 2012 \n",
    "}\n",
    "for k, v in dict_sample.items():\n",
    "    print(k, v)"
   ]
  },
  {
   "cell_type": "code",
   "execution_count": 112,
   "id": "900e4d75-5b4e-4bc3-b1ca-2423b487d09d",
   "metadata": {},
   "outputs": [
    {
     "name": "stdout",
     "output_type": "stream",
     "text": [
      "dict_items([('Company', 'Toyota'), ('model', 'Premio'), ('year', 2012)])\n",
      "dict_items([('Company', 'Toyota'), ('model', 'Mark x'), ('year', 2012)])\n"
     ]
    }
   ],
   "source": [
    "# Объект, который возвращает items(), можно использовать, чтобы показать изменения в словаре.\n",
    "dict_sample = {\n",
    "  \"Company\": \"Toyota\", \n",
    "  \"model\": \"Premio\", \n",
    "  \"year\": 2012 \n",
    "} \n",
    "\n",
    "x = dict_sample.items()\n",
    "\n",
    "print(x)\n",
    "\n",
    "dict_sample['model'] = 'Mark x'\n",
    "\n",
    "print(x)\n",
    "# Вывод демонстрирует, что когда вы меняете значение в словаре, объекты элементов также обновляются."
   ]
  },
  {
   "cell_type": "markdown",
   "id": "d7a3fa33-01de-42fa-b2f9-64b6c766904e",
   "metadata": {},
   "source": [
    "Метод fromkeys()"
   ]
  },
  {
   "cell_type": "markdown",
   "id": "9aa6d644-6459-497b-8fbb-27289075d321",
   "metadata": {},
   "source": [
    "Этот метод возвращает словарь с указанными ключами и значениями. У него следующий синтаксис:"
   ]
  },
  {
   "cell_type": "markdown",
   "id": "1ead6575-5a1c-468e-8dec-976a957eaebe",
   "metadata": {},
   "source": [
    "Значение требуемого параметра keys — итерируемые объекты. Оно отвечает за ключи нового словаря. Значение для параметра value указывать необязательно. Оно отвечает за значение по умолчанию для всех ключей. По умолчанию — None."
   ]
  },
  {
   "cell_type": "markdown",
   "id": "57ccd983-2359-4ba4-a3ef-9e10220760b8",
   "metadata": {},
   "source": [
    "Предположим, что нужно создать словарь с тремя ключами и одинаковым значением. Это можно сделать следующим образом:"
   ]
  },
  {
   "cell_type": "code",
   "execution_count": 116,
   "id": "66fc2871-23c4-4465-a482-f491d944cdc8",
   "metadata": {},
   "outputs": [
    {
     "name": "stdout",
     "output_type": "stream",
     "text": [
      "{'John': 25, 'Nicholas': 25, 'Mercy': 25}\n"
     ]
    }
   ],
   "source": [
    "name = ('John', 'Nicholas', 'Mercy')\n",
    "age = 25\n",
    "\n",
    "dict_sample = dict.fromkeys(name, age)\n",
    "\n",
    "print(dict_sample)\n",
    "\n",
    "# В коде вверху определены ключи и одно значение.\n",
    "# Метод fromkeys() перебирает ключи и объединяет их со значением для создания заполненного словаря."
   ]
  },
  {
   "cell_type": "markdown",
   "id": "6142b0fe-f2f1-4881-8758-14032fa95751",
   "metadata": {},
   "source": [
    "Значение для параметра keys является обязательным. В следующем примере показано, что происходит, если параметр values не определен:\n",
    "\n"
   ]
  },
  {
   "cell_type": "code",
   "execution_count": 131,
   "id": "ac40f035-30ed-4935-a67a-1e79529e4308",
   "metadata": {},
   "outputs": [
    {
     "name": "stdout",
     "output_type": "stream",
     "text": [
      "('John', None)\n",
      "('Nicholas', None)\n",
      "('Mercy', None)\n"
     ]
    }
   ],
   "source": [
    "name = ('John', 'Nicholas', 'Mercy')\n",
    "dict_sample = dict.fromkeys(name)\n",
    "print(*dict_sample.items(), sep = '\\n')"
   ]
  },
  {
   "cell_type": "markdown",
   "id": "7c2abdce-8599-4257-bb0f-1d62084a6d63",
   "metadata": {},
   "source": [
    "Метод setdefault()"
   ]
  },
  {
   "cell_type": "markdown",
   "id": "26a3876f-212f-4c25-b825-98705539971d",
   "metadata": {},
   "source": [
    "Этот метод используется, когда нужно получить значение элемента с конкретным ключом. Если ключ не найден, он будет вставлен в словарь вместе с указанным значением."
   ]
  },
  {
   "cell_type": "markdown",
   "id": "65aa42fc-09ce-488a-a4df-106762a6b40f",
   "metadata": {},
   "source": [
    "У метода следующий синтаксис:"
   ]
  },
  {
   "cell_type": "markdown",
   "id": "bf588857-3fc1-4aa0-8b30-33c58952fe2d",
   "metadata": {},
   "source": [
    "dictionary.setdefault(keyname, value)"
   ]
  },
  {
   "cell_type": "markdown",
   "id": "7d8f29b7-54bf-46e0-94f0-c7fe051da6d7",
   "metadata": {},
   "source": [
    "В этой функции параметр keyname является обязательным. Он обозначает название ключа, значение которого нужно вернуть. Параметр value необязательный. Если в словаре уже есть ключ, параметр не будет иметь никакого эффекта. Если ключ не существует, тогда значение функции станет значением ключа. Значение по умолчанию — None.\n",
    "\n"
   ]
  },
  {
   "cell_type": "code",
   "execution_count": 133,
   "id": "e401e77f-6380-460c-8cdb-d319fe535c29",
   "metadata": {},
   "outputs": [
    {
     "name": "stdout",
     "output_type": "stream",
     "text": [
      "grey\n"
     ]
    }
   ],
   "source": [
    "dict_sample = {\n",
    "  \"Company\": \"Toyota\", \n",
    "  \"model\": \"Premio\", \n",
    "  \"year\": 2012 \n",
    "}\n",
    "x = dict_sample.setdefault('color', 'grey')\n",
    "print(x)\n",
    "# В словаре нет ключа color. Метод setdefault() вставляет этот ключ вместе со значением \"Gray\"."
   ]
  },
  {
   "cell_type": "code",
   "execution_count": 135,
   "id": "eaf42b1c-16ba-4513-98e1-e957f51bf1eb",
   "metadata": {},
   "outputs": [
    {
     "name": "stdout",
     "output_type": "stream",
     "text": [
      "Premio\n"
     ]
    }
   ],
   "source": [
    "dict_sample = {\n",
    "  \"Company\": \"Toyota\", \n",
    "  \"model\": \"Premio\", \n",
    "  \"year\": 2012 \n",
    "}\n",
    "x = dict_sample.setdefault('model', 'Allion')\n",
    "\n",
    "print(x)\n",
    "# Значение \"Allion\" не повлияло на словарь, потому что у ключа уже есть значение."
   ]
  },
  {
   "cell_type": "markdown",
   "id": "3d43b47b-46ab-4cec-b00e-8d27e05f3d3f",
   "metadata": {},
   "source": [
    "Метод keys()"
   ]
  },
  {
   "cell_type": "markdown",
   "id": "eea4eaeb-983e-40cf-b41e-40a3ded804d8",
   "metadata": {},
   "source": [
    "Этот метод также возвращает итерируемый объект. Он является списком всех ключей в словаре. Как и метод items(), этот отображает изменения в самом словаре."
   ]
  },
  {
   "cell_type": "markdown",
   "id": "797e2225-1d82-4356-a63c-3f46c274ca57",
   "metadata": {},
   "source": [
    "Для использования метода нужно всего лишь использовать его с именем словаря, как показано ниже:"
   ]
  },
  {
   "cell_type": "markdown",
   "id": "d27b42e9-9bc9-4854-a4fb-df8dc983fc1a",
   "metadata": {},
   "source": [
    "dictionary.keys()"
   ]
  },
  {
   "cell_type": "code",
   "execution_count": 139,
   "id": "ba32af2b-5368-44c2-8faa-5087b9772a10",
   "metadata": {},
   "outputs": [
    {
     "name": "stdout",
     "output_type": "stream",
     "text": [
      "dict_keys(['Company', 'model', 'year'])\n"
     ]
    }
   ],
   "source": [
    "dict_sample = {\n",
    "  \"Company\": \"Toyota\", \n",
    "  \"model\": \"Premio\", \n",
    "  \"year\": 2012 \n",
    "}\n",
    "x = dict_sample.keys()\n",
    "print(x)\n",
    "\n",
    "# Часто этот метод используется, чтобы перебрать все ключи в словаре:"
   ]
  },
  {
   "cell_type": "code",
   "execution_count": 143,
   "id": "07a904d3-d04a-4599-ae14-bf7b1d583509",
   "metadata": {},
   "outputs": [
    {
     "name": "stdout",
     "output_type": "stream",
     "text": [
      "Company\n",
      "model\n",
      "year\n"
     ]
    }
   ],
   "source": [
    "dict_sample = {\n",
    "  \"Company\": \"Toyota\", \n",
    "  \"model\": \"Premio\", \n",
    "  \"year\": 2012 \n",
    "}\n",
    "\n",
    "for k in dict_sample.keys():\n",
    "    print(k)"
   ]
  },
  {
   "attachments": {
    "af64d3c0-0d69-44e3-8c83-aa3bde11e089.png": {
     "image/png": "[encoded data removed]"
    }
   },
   "cell_type": "markdown",
   "id": "6c7b8d44-6268-467c-aad4-72c041c84f21",
   "metadata": {},
   "source": [
    "![image.png](attachment:af64d3c0-0d69-44e3-8c83-aa3bde11e089.png)"
   ]
  }
 ],
 "metadata": {
  "kernelspec": {
   "display_name": "Python 3 (ipykernel)",
   "language": "python",
   "name": "python3"
  },
  "language_info": {
   "codemirror_mode": {
    "name": "ipython",
    "version": 3
   },
   "file_extension": ".py",
   "mimetype": "text/x-python",
   "name": "python",
   "nbconvert_exporter": "python",
   "pygments_lexer": "ipython3",
   "version": "3.12.9"
  }
 },
 "nbformat": 4,
 "nbformat_minor": 5
}
