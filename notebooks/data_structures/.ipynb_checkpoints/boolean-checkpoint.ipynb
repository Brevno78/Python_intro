{
 "cells": [
  {
   "cell_type": "markdown",
   "id": "90fab75a-210f-437e-b65c-6878c19f98c4",
   "metadata": {},
   "source": [
    "Здесь будет рассмотрен один из ключевых типов данных Python — булев тип. Булев, или логический тип, является важным концептом программирования, который принимает истинное (true) или ложное (false) значение."
   ]
  },
  {
   "cell_type": "markdown",
   "id": "f2c8f7f9-2153-48e3-837b-88bcb37223a0",
   "metadata": {},
   "source": [
    "Объявить булево значение в коде можно при помощи ключевых слов True или False (верхний регистр важен). Следующий код создает два булевых значения и присваивает их переменным."
   ]
  },
  {
   "cell_type": "code",
   "execution_count": 13,
   "id": "6fa5008d-b7b4-42ed-9633-fd355fc4a1a2",
   "metadata": {},
   "outputs": [],
   "source": [
    "mullet_looks_good = False\n",
    "python_is_fun = True"
   ]
  },
  {
   "cell_type": "markdown",
   "id": "5d2783a5-95b3-41eb-bc0e-978130b49c0b",
   "metadata": {},
   "source": [
    "Чаще всего булево значение возвращается как результат сравнения. В следующем примере кода булево значение False будет сохранено в переменной have_same_name после использования оператора сравнения, это два символа равенства ==."
   ]
  },
  {
   "cell_type": "code",
   "execution_count": 3,
   "id": "5dd380cf-bca6-4494-a9c9-52a463210e79",
   "metadata": {},
   "outputs": [
    {
     "name": "stdout",
     "output_type": "stream",
     "text": [
      "False\n"
     ]
    }
   ],
   "source": [
    "my_name = \"Wammu\"\n",
    "your_name = \"Kars\"\n",
    "have_same_name = my_name == your_name\n",
    "\n",
    "print(have_same_name)"
   ]
  },
  {
   "cell_type": "markdown",
   "id": "f14e286c-e1bc-485d-bf9d-3d03dc581dac",
   "metadata": {},
   "source": [
    "Булева логика используется в коде для того чтобы программа выполняла различные сценарии работы в зависимости от текущий условий. Для выполнения запрашиваемых условий вы можете использовать булевы значения и сравнения вместе с if, elif и else."
   ]
  },
  {
   "cell_type": "code",
   "execution_count": 6,
   "id": "d209d93b-cb67-4967-81f2-9afd8b81208f",
   "metadata": {},
   "outputs": [
    {
     "name": "stdout",
     "output_type": "stream",
     "text": [
      "Эх, какой хороший возраст.\n"
     ]
    }
   ],
   "source": [
    "my_age = 10\n",
    " \n",
    "if my_age >= 100:\n",
    "  print(\"Сто лет! Впечатляет.\")\n",
    "elif my_age <= 3:\n",
    "  print(\"Оуу. Совсем малыш.\")\n",
    "else:\n",
    "  print(\"Эх, какой хороший возраст.\")\n"
   ]
  },
  {
   "cell_type": "markdown",
   "id": "854a28b0-66fb-49d1-a9af-0a7380890fe5",
   "metadata": {},
   "source": [
    "Вы также можете проверить истинности при помощи использования ключевого слова not."
   ]
  },
  {
   "cell_type": "code",
   "execution_count": 10,
   "id": "8c32c58f-3ca8-4355-a36c-fb3dcc18d692",
   "metadata": {},
   "outputs": [
    {
     "name": "stdout",
     "output_type": "stream",
     "text": [
      "Вперед, Викинги!\n"
     ]
    }
   ],
   "source": [
    "favorite_team = 'Викинги'\n",
    "if not favorite_team == 'Викинги':\n",
    "    print('не повезло')\n",
    "else:\n",
    "    print(\"Вперед, Викинги!\")"
   ]
  },
  {
   "cell_type": "markdown",
   "id": "56adbb00-3d52-4410-90b7-f19703b4af2a",
   "metadata": {},
   "source": [
    "В некоторых случаях требуется, чтобы при наличии булевой логики выполнялось несколько условий. Для этого можно вместе использовать ключевые слова and и or. Ключевое слово and сравнивает булевы значения и возвращает True, если оба значения верны. Ключевое слово or сравнивает два значения и возвращает True, если истинно хотя бы одно утверждение."
   ]
  },
  {
   "cell_type": "code",
   "execution_count": 12,
   "id": "1282fb7c-c53e-44e0-94ba-9ff951863d7a",
   "metadata": {},
   "outputs": [
    {
     "name": "stdout",
     "output_type": "stream",
     "text": [
      "Они оба присутствуют в favs\n"
     ]
    }
   ],
   "source": [
    "favs = [\"Донателло\", \"Микеланджело\"]\n",
    "if 'Микеланджело' in favs and 'Донателло' in favs:\n",
    "    print('Они оба присутствуют в favs')\n",
    "elif 'Микеладжело' in favs or 'Донателло' in favs:\n",
    "    print('либо один либо второй')\n",
    "else:\n",
    "    print('ничего')"
   ]
  },
  {
   "cell_type": "markdown",
   "id": "1e8e4bc1-109b-41d1-8fcd-3387da760922",
   "metadata": {},
   "source": [
    "Заключение\n",
    "Булев тип важен для любого языка программирования. При помощи булевой логики код может реагировать на различные данные внутри программы и выполнять выбранные инструкции при разных обстоятельствах."
   ]
  }
 ],
 "metadata": {
  "kernelspec": {
   "display_name": "Python 3 (ipykernel)",
   "language": "python",
   "name": "python3"
  },
  "language_info": {
   "codemirror_mode": {
    "name": "ipython",
    "version": 3
   },
   "file_extension": ".py",
   "mimetype": "text/x-python",
   "name": "python",
   "nbconvert_exporter": "python",
   "pygments_lexer": "ipython3",
   "version": "3.12.9"
  }
 },
 "nbformat": 4,
 "nbformat_minor": 5
}
