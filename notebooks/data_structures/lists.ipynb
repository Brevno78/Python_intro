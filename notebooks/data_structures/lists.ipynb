{
 "cells": [
  {
   "cell_type": "markdown",
   "id": "8ab0eefd-d88c-4e3c-8cf5-571d944092cc",
   "metadata": {},
   "source": [
    "Списки"
   ]
  },
  {
   "cell_type": "markdown",
   "id": "f26e7428-e227-49d6-8d78-efac27fc5deb",
   "metadata": {},
   "source": [
    "Список — это очень удобная структура данных, которая умеет хранить разные типы данных. Ее также можно назвать последовательностью данных."
   ]
  },
  {
   "cell_type": "markdown",
   "id": "dc3aaba4-9cdd-4fb0-b526-522adea6545a",
   "metadata": {},
   "source": [
    "В отличие от словарей у списков есть индексный порядок. Это значит, что каждый элемент в списке имеет индекс, который не поменяется, если его не изменить вручную. В случае других структур, таких как словари, это может быть иначе. Например, у словарей нет индексов для их ключей, поэтому нельзя просто указать на второй или третий элемент, ведь такого порядка не существует. Эту структуру данных стоит воспринимать как мешок перемешанных вещей без конкретного порядка.В отличие от словарей у списков есть индексный порядок. Это значит, что каждый элемент в списке имеет индекс, который не поменяется, если его не изменить вручную. В случае других структур, таких как словари, это может быть иначе. Например, у словарей нет индексов для их ключей, поэтому нельзя просто указать на второй или третий элемент, ведь такого порядка не существует. Эту структуру данных стоит воспринимать как мешок перемешанных вещей без конкретного порядка."
   ]
  },
  {
   "cell_type": "markdown",
   "id": "54701210-f85c-4014-a26b-7a7307b0df5d",
   "metadata": {},
   "source": [
    "Индексация: важно отметить, что индексация списков начинается с 0 (нуля). Это значит, что первый элемент в списке на самом деле является нулевым в мире Python. Об этом очень важно помнить."
   ]
  },
  {
   "cell_type": "markdown",
   "id": "536c2567-a78d-4372-9392-dda9ef8b59f7",
   "metadata": {},
   "source": [
    "Изменяемость: списки являются изменяемым типом, что значит, что можно добавлять или удалять их элементы."
   ]
  },
  {
   "cell_type": "markdown",
   "id": "88246c90-51dc-4ec8-8052-bee7010facea",
   "metadata": {},
   "source": [
    "Списки — распространенная структура данных в Python. Они используются для самых разных целей."
   ]
  },
  {
   "attachments": {
    "30c30013-41d1-4e8c-9162-49cb8c52a460.png": {
     "image/png": "[encoded data removed]"
    }
   },
   "cell_type": "markdown",
   "id": "8870c546-345b-4b24-8dca-d8565cbce174",
   "metadata": {},
   "source": [
    "![image.png](attachment:30c30013-41d1-4e8c-9162-49cb8c52a460.png)"
   ]
  },
  {
   "cell_type": "markdown",
   "id": "881320c0-4ff6-4f2c-8aa4-45c751aff7d3",
   "metadata": {},
   "source": [
    "Рекомендации по работе со списками:\n",
    "1. Списки создаются с помощью квадратных скобок [].\n",
    "2. Элементы списка нужно разделять запятыми.\n",
    "3. Правила синтаксиса, характерные для определенных типов данных, нужно соблюдать внутри списка. Так, если у строки должны быть кавычки, то их нужно использовать и внутри списка, а для чисел и значений булево типа их не нужно использовать."
   ]
  },
  {
   "cell_type": "markdown",
   "id": "5d22dcd7-d17c-4d27-8bad-c34340fb8bb6",
   "metadata": {},
   "source": [
    "Дальше идет список, включающий значения разных типов. Это отличный пример, демонстрирующий нюансы списков."
   ]
  },
  {
   "cell_type": "code",
   "execution_count": 5,
   "id": "7e235bfb-6444-4c53-be6a-a45aa0eebbe1",
   "metadata": {},
   "outputs": [
    {
     "name": "stdout",
     "output_type": "stream",
     "text": [
      "['Python', 'Апельсин', 23, 5.1, False, 'False', '55']\n"
     ]
    }
   ],
   "source": [
    "pr_lists = ['Python', 'Апельсин', 23, 5.1, False, \"False\", \"55\"]\n",
    "print(pr_lists)"
   ]
  },
  {
   "cell_type": "markdown",
   "id": "45aa8bc3-288d-43b0-b4c9-a06bb9600f48",
   "metadata": {},
   "source": [
    "1. Dидно, что внутри находятся значения разных типов. Это строка, целое число, булево значение и снова строка.\n",
    "2. Последние два элемента списка — это строки, хотя они могут напоминать булев тип и целое число. Однако использование кавычек прямо указывает на то, что это строки в Python.\n",
    "3. Если посмотреть на индексы элементов, то можно увидеть, что нулевой элемент — это «Python», а шестой — «22». Оба являются строками. Хотя элементов 7, последним индексом является 6."
   ]
  },
  {
   "cell_type": "markdown",
   "id": "ade1e365-9371-4bfc-b16a-52c3597d3dae",
   "metadata": {},
   "source": [
    "Доступ к элементам: доступ к элементам списка можно получить с помощью их индекса, указанного в квадратных скобках."
   ]
  },
  {
   "cell_type": "code",
   "execution_count": 12,
   "id": "be5d198e-9979-40cd-9a07-76749248f8a8",
   "metadata": {},
   "outputs": [
    {
     "name": "stdout",
     "output_type": "stream",
     "text": [
      "23\n"
     ]
    }
   ],
   "source": [
    "print(pr_lists[2])"
   ]
  },
  {
   "cell_type": "code",
   "execution_count": 13,
   "id": "74473475-6929-4677-9550-479bd6a4695b",
   "metadata": {},
   "outputs": [
    {
     "name": "stdout",
     "output_type": "stream",
     "text": [
      "False\n"
     ]
    }
   ],
   "source": [
    "print(pr_lists[4])"
   ]
  },
  {
   "cell_type": "code",
   "execution_count": 14,
   "id": "656c55f7-8934-4385-850d-ce160762ee2b",
   "metadata": {},
   "outputs": [
    {
     "name": "stdout",
     "output_type": "stream",
     "text": [
      "Python\n"
     ]
    }
   ],
   "source": [
    "print(pr_lists[0])"
   ]
  },
  {
   "cell_type": "code",
   "execution_count": 18,
   "id": "602b80a9-90ff-4ae8-be6f-172206ce712d",
   "metadata": {},
   "outputs": [
    {
     "name": "stdout",
     "output_type": "stream",
     "text": [
      "55\n"
     ]
    }
   ],
   "source": [
    "print(pr_lists[-1])"
   ]
  },
  {
   "cell_type": "markdown",
   "id": "0a7b808c-30a8-4373-9adc-4c7f3199915f",
   "metadata": {},
   "source": [
    "Обратное индексирование. Элементы списка также можно вызывать, начиная с конца — это называется обратным индексированием. В отличие от обычного индексирования, обратное начинается не с 0, а с -1."
   ]
  },
  {
   "cell_type": "markdown",
   "id": "9745d747-9fd6-4312-8708-c1400203399c",
   "metadata": {},
   "source": [
    "Аналогично '[-2]' вернет второй элемент с конца и так далее."
   ]
  },
  {
   "cell_type": "markdown",
   "id": "8016469a-0ce2-445a-83bd-192038ab87b5",
   "metadata": {},
   "source": [
    "Этот подход имеет свои преимущества в определенных ситуациях. Куда практичнее и эффективнее использовать обратное индексирование, ведь благодаря этому можно не считать количество элементов в списке. Еще одно преимущество становится заметным при изменяемой длине списка. В этом случае снова не придется считать элементы с самого начала, чтобы добраться до финального."
   ]
  },
  {
   "cell_type": "markdown",
   "id": "376c26f2-055d-4035-9bed-d5eed95bf78c",
   "metadata": {},
   "source": [
    "Методы и функции списков:"
   ]
  },
  {
   "cell_type": "markdown",
   "id": "fd928c52-a863-45a8-92f3-bcece61c8b19",
   "metadata": {},
   "source": [
    "append() — это, наверное, самый используемый метод списков. Он используется для добавления элементов к списку. Теперь посмотрим на пример, где метод .append() используется для добавления нового элемента в конец списка."
   ]
  },
  {
   "cell_type": "code",
   "execution_count": 40,
   "id": "2b4e8e07-7ac8-499d-99dc-d925909e3953",
   "metadata": {},
   "outputs": [
    {
     "name": "stdout",
     "output_type": "stream",
     "text": [
      "['Python', 'Апельсин', 'BMW']\n"
     ]
    }
   ],
   "source": [
    "list_1 = ['Python', 'Апельсин']\n",
    "list_1.append('BMW')\n",
    "print(list_1)"
   ]
  },
  {
   "cell_type": "markdown",
   "id": "0328fd8d-7632-4f29-9a49-30d673c76456",
   "metadata": {},
   "source": [
    ".insert() — еще один полезный метод для списков. Он используется для вставки элемента в список по индексу."
   ]
  },
  {
   "cell_type": "markdown",
   "id": "41a160c2-dc83-47a6-a34d-c27edc493c16",
   "metadata": {},
   "source": [
    ".insert() принимает два аргумента: индекс, куда нужно вставить новый элемент, и сам элемент."
   ]
  },
  {
   "cell_type": "code",
   "execution_count": 41,
   "id": "c7fd9032-432a-46d3-98a7-adea6148be02",
   "metadata": {},
   "outputs": [
    {
     "name": "stdout",
     "output_type": "stream",
     "text": [
      "['Python', 'Апельсин', 20, 'BMW']\n"
     ]
    }
   ],
   "source": [
    "list_1.insert(2, 20)\n",
    "print(list_1)"
   ]
  },
  {
   "cell_type": "markdown",
   "id": "1d0e1816-4c40-42b1-b167-354dd6f73a8b",
   "metadata": {},
   "source": [
    ".index() помогает определить индекс элемента. Дальше идет пример получения индекса конкретного элемента."
   ]
  },
  {
   "cell_type": "code",
   "execution_count": 42,
   "id": "2d583b6c-a45f-4e38-b4f5-b368bdaacdbf",
   "metadata": {},
   "outputs": [
    {
     "data": {
      "text/plain": [
       "3"
      ]
     },
     "execution_count": 42,
     "metadata": {},
     "output_type": "execute_result"
    }
   ],
   "source": [
    "num = [1, 2, 45, 65, 37]\n",
    "num.index(65)"
   ]
  },
  {
   "cell_type": "markdown",
   "id": "9fc4543f-2afb-422d-a4d8-64825d365ce7",
   "metadata": {},
   "source": [
    "Метод .clear() удаляет все элементы списка."
   ]
  },
  {
   "cell_type": "code",
   "execution_count": 48,
   "id": "c8f16d48-0fa8-464c-87c8-0ef0c3efa6b4",
   "metadata": {},
   "outputs": [
    {
     "data": {
      "text/plain": [
       "[]"
      ]
     },
     "execution_count": 48,
     "metadata": {},
     "output_type": "execute_result"
    }
   ],
   "source": [
    "lucky_numbers = [5, 55, 4, 3, 101, 42]\n",
    "lucky_numbers.clear()\n",
    "lucky_numbers"
   ]
  },
  {
   "cell_type": "markdown",
   "id": "d4e496ed-6cae-4264-bbc4-20ad50ba2781",
   "metadata": {},
   "source": [
    "Метод .remove() удаляет конкретный элемент списка."
   ]
  },
  {
   "cell_type": "code",
   "execution_count": 54,
   "id": "276c4279-8aaa-49bb-bb43-b5b3fca418b4",
   "metadata": {},
   "outputs": [
    {
     "name": "stdout",
     "output_type": "stream",
     "text": [
      "[5, 4, 3, 101, 42]\n"
     ]
    }
   ],
   "source": [
    "lucky_numbers_2 = [5, 55, 4, 3, 101, 42]\n",
    "lucky_numbers_2.remove(55)\n",
    "print(lucky_numbers_2)"
   ]
  },
  {
   "cell_type": "markdown",
   "id": "288f181b-a912-4337-b498-2aa6b9429730",
   "metadata": {},
   "source": [
    "Метод .reverse() разворачивает порядок элементов в списке."
   ]
  },
  {
   "cell_type": "code",
   "execution_count": 57,
   "id": "c209433a-39b0-4f9b-9134-bd06581d0c96",
   "metadata": {},
   "outputs": [
    {
     "name": "stdout",
     "output_type": "stream",
     "text": [
      "[42, 101, 3, 4, 5]\n"
     ]
    }
   ],
   "source": [
    "lucky_numbers_2.reverse()\n",
    "print(lucky_numbers_2)"
   ]
  },
  {
   "cell_type": "markdown",
   "id": "5309cd3b-dcc8-4b5d-bbfb-b8f6b6262709",
   "metadata": {},
   "source": [
    "Метод .count() используется, чтобы подсчитать, как часто конкретный элемент встречается в списке."
   ]
  },
  {
   "cell_type": "code",
   "execution_count": 60,
   "id": "150b78d5-669c-4e8c-86b8-e4e31f936dd4",
   "metadata": {},
   "outputs": [
    {
     "name": "stdout",
     "output_type": "stream",
     "text": [
      "3\n"
     ]
    }
   ],
   "source": [
    "count_1 = [12, 12, 3, 5, 6, 12, 8]\n",
    "print(count_1.count(12))\n"
   ]
  },
  {
   "cell_type": "markdown",
   "id": "ec0a9a62-f7b6-46ee-b26f-aafb6ba0c577",
   "metadata": {},
   "source": [
    "Функция sum() вернет общую сумму всех чисел в списке."
   ]
  },
  {
   "cell_type": "code",
   "execution_count": 62,
   "id": "86bb7185-2e88-41bc-acf0-0758221844c9",
   "metadata": {},
   "outputs": [
    {
     "name": "stdout",
     "output_type": "stream",
     "text": [
      "58\n"
     ]
    }
   ],
   "source": [
    "print(sum(count_1))"
   ]
  },
  {
   "cell_type": "markdown",
   "id": "64a22c2f-8bde-4a35-ba71-a8c4c61007e8",
   "metadata": {},
   "source": [
    "Функция min() покажет элемент с минимальным значением в списке."
   ]
  },
  {
   "cell_type": "code",
   "execution_count": 63,
   "id": "f6d1b861-fbe1-4ceb-ad10-49acdeb9f19d",
   "metadata": {},
   "outputs": [
    {
     "name": "stdout",
     "output_type": "stream",
     "text": [
      "3\n"
     ]
    }
   ],
   "source": [
    "print(min(count_1))"
   ]
  },
  {
   "cell_type": "markdown",
   "id": "0666e4b1-f9a2-43a4-b768-9d3a4dbea722",
   "metadata": {},
   "source": [
    "Функция max() покажет элемент с максимальным значением в списке."
   ]
  },
  {
   "cell_type": "code",
   "execution_count": 64,
   "id": "6b57c677-ddd8-457d-8424-a1d9a42cfa47",
   "metadata": {},
   "outputs": [
    {
     "name": "stdout",
     "output_type": "stream",
     "text": [
      "101\n"
     ]
    }
   ],
   "source": [
    "print(max(lucky_numbers_2))"
   ]
  }
 ],
 "metadata": {
  "kernelspec": {
   "display_name": "Python 3 (ipykernel)",
   "language": "python",
   "name": "python3"
  },
  "language_info": {
   "codemirror_mode": {
    "name": "ipython",
    "version": 3
   },
   "file_extension": ".py",
   "mimetype": "text/x-python",
   "name": "python",
   "nbconvert_exporter": "python",
   "pygments_lexer": "ipython3",
   "version": "3.12.9"
  }
 },
 "nbformat": 4,
 "nbformat_minor": 5
}
