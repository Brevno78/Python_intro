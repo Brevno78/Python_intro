{
 "cells": [
  {
   "cell_type": "code",
   "execution_count": 1,
   "id": "1045adbe-d2d3-42f6-b965-3fa701ed30e3",
   "metadata": {},
   "outputs": [],
   "source": [
    "def greating():\n",
    "    print('Привет')"
   ]
  },
  {
   "cell_type": "code",
   "execution_count": 2,
   "id": "1fb9a20e-0621-4f3f-91a3-5a9733c4b6c4",
   "metadata": {},
   "outputs": [
    {
     "name": "stdout",
     "output_type": "stream",
     "text": [
      "Привет\n"
     ]
    }
   ],
   "source": [
    "greating()"
   ]
  },
  {
   "cell_type": "code",
   "execution_count": 5,
   "id": "2c04262d-1373-4bff-bec3-ca4fc641dc87",
   "metadata": {},
   "outputs": [],
   "source": [
    "def greating_1(name):\n",
    "    print(f'привет, {name}')"
   ]
  },
  {
   "cell_type": "code",
   "execution_count": 9,
   "id": "da87d4ca-40b7-425a-ada3-8945c85a7201",
   "metadata": {},
   "outputs": [
    {
     "name": "stdout",
     "output_type": "stream",
     "text": [
      "привет, Сергей\n"
     ]
    }
   ],
   "source": [
    "greating_1('Сергей')"
   ]
  },
  {
   "cell_type": "code",
   "execution_count": 19,
   "id": "611ee4ec-e835-4920-9ac2-9b8754baa599",
   "metadata": {},
   "outputs": [],
   "source": [
    "def greating_2(name, n):\n",
    "    for i in range(n):\n",
    "        print(f'{i}, привет {name}')"
   ]
  },
  {
   "cell_type": "code",
   "execution_count": 15,
   "id": "326b9d08-c6e2-4c48-bdfd-18644da736fb",
   "metadata": {},
   "outputs": [
    {
     "name": "stdout",
     "output_type": "stream",
     "text": [
      "0, привет Сергей\n",
      "1, привет Сергей\n",
      "2, привет Сергей\n",
      "3, привет Сергей\n",
      "4, привет Сергей\n",
      "5, привет Сергей\n",
      "6, привет Сергей\n",
      "7, привет Сергей\n",
      "8, привет Сергей\n",
      "9, привет Сергей\n"
     ]
    }
   ],
   "source": [
    "greating_2('Сергей', 10)"
   ]
  },
  {
   "cell_type": "code",
   "execution_count": 20,
   "id": "531c419a-45e3-48b5-8ac8-af665ff129bf",
   "metadata": {},
   "outputs": [
    {
     "ename": "TypeError",
     "evalue": "'str' object cannot be interpreted as an integer",
     "output_type": "error",
     "traceback": [
      "\u001b[1;31m---------------------------------------------------------------------------\u001b[0m",
      "\u001b[1;31mTypeError\u001b[0m                                 Traceback (most recent call last)",
      "Cell \u001b[1;32mIn[20], line 1\u001b[0m\n\u001b[1;32m----> 1\u001b[0m \u001b[43mgreating_2\u001b[49m\u001b[43m(\u001b[49m\u001b[38;5;241;43m10\u001b[39;49m\u001b[43m,\u001b[49m\u001b[43m \u001b[49m\u001b[38;5;124;43m'\u001b[39;49m\u001b[38;5;124;43mСергей\u001b[39;49m\u001b[38;5;124;43m'\u001b[39;49m\u001b[43m)\u001b[49m\n",
      "Cell \u001b[1;32mIn[19], line 2\u001b[0m, in \u001b[0;36mgreating_2\u001b[1;34m(name, n)\u001b[0m\n\u001b[0;32m      1\u001b[0m \u001b[38;5;28;01mdef\u001b[39;00m \u001b[38;5;21mgreating_2\u001b[39m(name, n):\n\u001b[1;32m----> 2\u001b[0m     \u001b[38;5;28;01mfor\u001b[39;00m i \u001b[38;5;129;01min\u001b[39;00m \u001b[38;5;28;43mrange\u001b[39;49m\u001b[43m(\u001b[49m\u001b[43mn\u001b[49m\u001b[43m)\u001b[49m:\n\u001b[0;32m      3\u001b[0m         \u001b[38;5;28mprint\u001b[39m(\u001b[38;5;124mf\u001b[39m\u001b[38;5;124m'\u001b[39m\u001b[38;5;132;01m{\u001b[39;00mi\u001b[38;5;132;01m}\u001b[39;00m\u001b[38;5;124m, привет \u001b[39m\u001b[38;5;132;01m{\u001b[39;00mname\u001b[38;5;132;01m}\u001b[39;00m\u001b[38;5;124m'\u001b[39m)\n",
      "\u001b[1;31mTypeError\u001b[0m: 'str' object cannot be interpreted as an integer"
     ]
    }
   ],
   "source": [
    "greating_2(10, 'Сергей')"
   ]
  },
  {
   "cell_type": "code",
   "execution_count": 21,
   "id": "bed332d9-cb72-4d2a-90be-0cec4b5e57cf",
   "metadata": {},
   "outputs": [
    {
     "name": "stdout",
     "output_type": "stream",
     "text": [
      "0, привет Сергей\n",
      "1, привет Сергей\n",
      "2, привет Сергей\n",
      "3, привет Сергей\n",
      "4, привет Сергей\n",
      "5, привет Сергей\n",
      "6, привет Сергей\n",
      "7, привет Сергей\n",
      "8, привет Сергей\n",
      "9, привет Сергей\n"
     ]
    }
   ],
   "source": [
    "greating_2(n = 10, name = 'Сергей')"
   ]
  },
  {
   "cell_type": "code",
   "execution_count": 22,
   "id": "acbb2d95-f9c1-4db7-8510-f7dc7717682c",
   "metadata": {},
   "outputs": [
    {
     "ename": "TypeError",
     "evalue": "greating_2() missing 1 required positional argument: 'n'",
     "output_type": "error",
     "traceback": [
      "\u001b[1;31m---------------------------------------------------------------------------\u001b[0m",
      "\u001b[1;31mTypeError\u001b[0m                                 Traceback (most recent call last)",
      "Cell \u001b[1;32mIn[22], line 1\u001b[0m\n\u001b[1;32m----> 1\u001b[0m \u001b[43mgreating_2\u001b[49m\u001b[43m(\u001b[49m\u001b[38;5;124;43m'\u001b[39;49m\u001b[38;5;124;43mСергей\u001b[39;49m\u001b[38;5;124;43m'\u001b[39;49m\u001b[43m)\u001b[49m\n",
      "\u001b[1;31mTypeError\u001b[0m: greating_2() missing 1 required positional argument: 'n'"
     ]
    }
   ],
   "source": [
    "greating_2('Сергей')"
   ]
  },
  {
   "cell_type": "code",
   "execution_count": 23,
   "id": "ba027dad-65cc-46fd-a2df-a6da4a0706e8",
   "metadata": {},
   "outputs": [],
   "source": [
    "def greating_3(name, n = 10):\n",
    "    for i in range(n):\n",
    "        print(f'{i}, привет {name}')"
   ]
  },
  {
   "cell_type": "code",
   "execution_count": 24,
   "id": "1546732b-512d-4bef-816d-0605d7b92612",
   "metadata": {},
   "outputs": [
    {
     "name": "stdout",
     "output_type": "stream",
     "text": [
      "0, привет Сергей\n",
      "1, привет Сергей\n",
      "2, привет Сергей\n",
      "3, привет Сергей\n",
      "4, привет Сергей\n",
      "5, привет Сергей\n",
      "6, привет Сергей\n",
      "7, привет Сергей\n",
      "8, привет Сергей\n",
      "9, привет Сергей\n"
     ]
    }
   ],
   "source": [
    "greating_3('Сергей')"
   ]
  },
  {
   "cell_type": "code",
   "execution_count": 25,
   "id": "679d91f2-b96b-432e-8e17-bd84d6f3ca69",
   "metadata": {},
   "outputs": [
    {
     "name": "stdout",
     "output_type": "stream",
     "text": [
      "0, привет Сергей\n",
      "1, привет Сергей\n",
      "2, привет Сергей\n",
      "3, привет Сергей\n",
      "4, привет Сергей\n"
     ]
    }
   ],
   "source": [
    "greating_3('Сергей', 5)"
   ]
  },
  {
   "cell_type": "code",
   "execution_count": 26,
   "id": "6f51f1db-0d9d-4ade-ab2f-321318bba732",
   "metadata": {},
   "outputs": [
    {
     "name": "stdout",
     "output_type": "stream",
     "text": [
      "0, привет Сергей\n",
      "1, привет Сергей\n",
      "2, привет Сергей\n",
      "3, привет Сергей\n",
      "4, привет Сергей\n",
      "None\n"
     ]
    }
   ],
   "source": [
    "result = greating_3('Сергей', 5)\n",
    "print(result)"
   ]
  },
  {
   "cell_type": "code",
   "execution_count": 29,
   "id": "1a618ebc-3928-448e-adbb-186476255461",
   "metadata": {},
   "outputs": [],
   "source": [
    "def greating_4(name, n = 10):\n",
    "    for i in range(n):\n",
    "        print(f'{i}, привет {name}')\n",
    "    return [1, 2, 3]"
   ]
  },
  {
   "cell_type": "code",
   "execution_count": 30,
   "id": "048ede8c-a24c-4f65-9451-10a112159570",
   "metadata": {},
   "outputs": [
    {
     "name": "stdout",
     "output_type": "stream",
     "text": [
      "0, привет Сергей\n",
      "1, привет Сергей\n",
      "2, привет Сергей\n",
      "3, привет Сергей\n",
      "4, привет Сергей\n",
      "[1, 2, 3]\n"
     ]
    }
   ],
   "source": [
    "result = greating_4('Сергей', 5)\n",
    "print(result)"
   ]
  },
  {
   "cell_type": "code",
   "execution_count": 31,
   "id": "38f9c100-75f6-47a4-9f2b-2003623ef684",
   "metadata": {},
   "outputs": [],
   "source": [
    "def my_sum(num_1, num_2):\n",
    "    return num_1 + num_2"
   ]
  },
  {
   "cell_type": "code",
   "execution_count": 32,
   "id": "fdc41847-d922-436a-a588-2674b1d30717",
   "metadata": {},
   "outputs": [
    {
     "data": {
      "text/plain": [
       "8"
      ]
     },
     "execution_count": 32,
     "metadata": {},
     "output_type": "execute_result"
    }
   ],
   "source": [
    "my_sum(2, 6)"
   ]
  },
  {
   "cell_type": "code",
   "execution_count": 40,
   "id": "059a5e00-9ef0-4584-b671-bd6252272b3b",
   "metadata": {},
   "outputs": [],
   "source": [
    "import time\n",
    "import datetime\n",
    "from functools import wraps"
   ]
  },
  {
   "cell_type": "code",
   "execution_count": 45,
   "id": "568d2aec-9eea-4560-b229-86959c912476",
   "metadata": {},
   "outputs": [],
   "source": [
    "def decorator_0(foo):\n",
    "    @wraps(foo)\n",
    "    def wrapper(*args, **kwargs):\n",
    "        t_0 = datetime.datetime.now()\n",
    "        print('что то до начала выполнения функции', t_0)\n",
    "        result = foo(*args, **kwargs)\n",
    "        time.sleep(5)\n",
    "        t_1 = datetime.datetime.now()\n",
    "        print('что то после выполнения функции', t_1)\n",
    "        print('время работы функции: ', t_1 - t_0)\n",
    "        return result\n",
    "    return wrapper"
   ]
  },
  {
   "cell_type": "code",
   "execution_count": 46,
   "id": "29b8ff20-6909-490d-a702-52643b75c661",
   "metadata": {},
   "outputs": [],
   "source": [
    "@decorator_0\n",
    "def my_sum_1(num_1, num_2):\n",
    "    return num_1 + num_2"
   ]
  },
  {
   "cell_type": "code",
   "execution_count": 47,
   "id": "7d4e9461-c88d-4d0c-a905-d91da62017c8",
   "metadata": {},
   "outputs": [
    {
     "name": "stdout",
     "output_type": "stream",
     "text": [
      "5\n"
     ]
    }
   ],
   "source": [
    "result_0 = my_sum(2, 3)\n",
    "print(result_0)"
   ]
  },
  {
   "cell_type": "code",
   "execution_count": 48,
   "id": "c21e39ff-619a-4f81-bc68-cd02f83928fb",
   "metadata": {},
   "outputs": [
    {
     "name": "stdout",
     "output_type": "stream",
     "text": [
      "что то до начала выполнения функции 2025-05-11 12:30:58.979924\n",
      "что то после выполнения функции 2025-05-11 12:31:03.980560\n",
      "время работы функции:  0:00:05.000636\n",
      "5\n"
     ]
    }
   ],
   "source": [
    "result_1 = my_sum_1(2, 3)\n",
    "print(result_1)"
   ]
  }
 ],
 "metadata": {
  "kernelspec": {
   "display_name": "Python 3 (ipykernel)",
   "language": "python",
   "name": "python3"
  },
  "language_info": {
   "codemirror_mode": {
    "name": "ipython",
    "version": 3
   },
   "file_extension": ".py",
   "mimetype": "text/x-python",
   "name": "python",
   "nbconvert_exporter": "python",
   "pygments_lexer": "ipython3",
   "version": "3.12.9"
  }
 },
 "nbformat": 4,
 "nbformat_minor": 5
}
