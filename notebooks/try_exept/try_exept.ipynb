{
 "cells": [
  {
   "cell_type": "markdown",
   "id": "462aab6b-6c6d-4056-8828-760a9b31c5da",
   "metadata": {},
   "source": [
    "Обработка исключений"
   ]
  },
  {
   "cell_type": "markdown",
   "id": "879672cb-fc36-4174-beef-bcd9ac5543a6",
   "metadata": {},
   "source": [
    "🔹 Когда использовать try-except?"
   ]
  },
  {
   "cell_type": "markdown",
   "id": "05a200d4-7b46-47f2-b6da-faaba1be1122",
   "metadata": {},
   "source": [
    " - Обработка внешних ошибок (файлы, сетевые запросы, ввод пользователя).\n",
    " - Замена проверкам условий (иногда проще обработать исключение, чем делать много if)\n",
    " - ❌ Не использовать для контроля логики программы (например, if x > 0 лучше, чем ловить ValueError)."
   ]
  },
  {
   "cell_type": "markdown",
   "id": "d5058ba7-6906-4f6a-983d-c868734025b5",
   "metadata": {},
   "source": [
    "Не ловите все ошибки \"скопом\" (это может скрыть баги):\n",
    "- # Плохо:\n",
    "except:  # Ловит ВСЕ исключения (даже KeyboardInterrupt!)\n",
    "- # Хорошо:\n",
    "except FileNotFoundError:"
   ]
  },
  {
   "cell_type": "markdown",
   "id": "ccdf1656-253b-4a1c-b49f-ba4e82af219d",
   "metadata": {},
   "source": [
    "Логируйте ошибки (модуль logging)."
   ]
  },
  {
   "cell_type": "markdown",
   "id": "02e5f0e7-b0f2-4c71-900e-7acd9f76bf82",
   "metadata": {},
   "source": [
    "Генерация своих исключений (через raise)"
   ]
  },
  {
   "cell_type": "markdown",
   "id": "14410ff7-5760-4d01-a337-c75afe7fc517",
   "metadata": {},
   "source": [
    "примеры с raise"
   ]
  },
  {
   "cell_type": "code",
   "execution_count": 31,
   "id": "50d4b345-fbc2-4428-8eef-e651a7f233c0",
   "metadata": {},
   "outputs": [
    {
     "name": "stdout",
     "output_type": "stream",
     "text": [
      "Делитель не может быть нулём\n"
     ]
    }
   ],
   "source": [
    "def divide(a, b): # создал функцию\n",
    "    if b == 0:\n",
    "        raise ValueError('Делитель не может быть нулём')\n",
    "    return a / b\n",
    "try:\n",
    "    divide(10, 0)\n",
    "except ValueError as e:\n",
    "    print(e)"
   ]
  },
  {
   "attachments": {
    "15540098-8bd5-4a14-8388-ffcc8d7755a9.png": {
     "image/png": "[encoded data removed]"
    }
   },
   "cell_type": "markdown",
   "id": "740ad737-3e1b-421f-bfc0-b7e35312a25f",
   "metadata": {},
   "source": [
    "![image.png](attachment:15540098-8bd5-4a14-8388-ffcc8d7755a9.png)"
   ]
  },
  {
   "cell_type": "code",
   "execution_count": 1,
   "id": "74d311e1-83b6-4ca8-8baf-9be08288ec8a",
   "metadata": {},
   "outputs": [
    {
     "ename": "ZeroDivisionError",
     "evalue": "division by zero",
     "output_type": "error",
     "traceback": [
      "\u001b[1;31m---------------------------------------------------------------------------\u001b[0m",
      "\u001b[1;31mZeroDivisionError\u001b[0m                         Traceback (most recent call last)",
      "Cell \u001b[1;32mIn[1], line 1\u001b[0m\n\u001b[1;32m----> 1\u001b[0m \u001b[38;5;241;43m5\u001b[39;49m\u001b[38;5;241;43m/\u001b[39;49m\u001b[38;5;241;43m0\u001b[39;49m\n",
      "\u001b[1;31mZeroDivisionError\u001b[0m: division by zero"
     ]
    }
   ],
   "source": [
    "5/0"
   ]
  },
  {
   "cell_type": "code",
   "execution_count": 5,
   "id": "bd069967-a59a-4137-9517-aebc9dd524e6",
   "metadata": {},
   "outputs": [
    {
     "name": "stdout",
     "output_type": "stream",
     "text": [
      "деление на ноль\n"
     ]
    }
   ],
   "source": [
    "try:\n",
    "    print(5/0)\n",
    "except ZeroDivisionError:\n",
    "    print('деление на ноль')\n",
    "# можно сделать несколько исключений в скобках"
   ]
  },
  {
   "cell_type": "code",
   "execution_count": 7,
   "id": "e17cd4ba-88c2-4549-ad20-a9bc7a16c2d3",
   "metadata": {},
   "outputs": [
    {
     "name": "stdout",
     "output_type": "stream",
     "text": [
      "деление на ноль\n"
     ]
    }
   ],
   "source": [
    "try:\n",
    "    print(5/0)\n",
    "except Exception:\n",
    "    print('деление на ноль')"
   ]
  },
  {
   "cell_type": "code",
   "execution_count": 6,
   "id": "700b8319-e78f-45e5-9f80-d091af5421ce",
   "metadata": {},
   "outputs": [
    {
     "name": "stdout",
     "output_type": "stream",
     "text": [
      "деление на ноль\n",
      "division by zero\n"
     ]
    }
   ],
   "source": [
    "try:\n",
    "    print(5/0)\n",
    "except ZeroDivisionError as err:\n",
    "    print('деление на ноль')\n",
    "    print(err)"
   ]
  },
  {
   "cell_type": "code",
   "execution_count": 13,
   "id": "c12297e4-7dd1-43ed-b46c-003b59374d6c",
   "metadata": {},
   "outputs": [
    {
     "name": "stdout",
     "output_type": "stream",
     "text": [
      "деление на ноль\n",
      "division by zero\n",
      "выполняется всегда\n"
     ]
    }
   ],
   "source": [
    "try:\n",
    "    print(5/0)\n",
    "except ZeroDivisionError as err:\n",
    "    print('деление на ноль')\n",
    "    print(err)\n",
    "except Exception:\n",
    "    pass\n",
    "finally: \n",
    "    print('выполняется всегда')"
   ]
  },
  {
   "cell_type": "code",
   "execution_count": 7,
   "id": "e8f7df3a-1d01-45f5-8e6e-7b000157f66f",
   "metadata": {},
   "outputs": [
    {
     "name": "stdin",
     "output_type": "stream",
     "text": [
      "введите число:  ыпы\n"
     ]
    },
    {
     "name": "stdout",
     "output_type": "stream",
     "text": [
      "нужно ввести число\n"
     ]
    }
   ],
   "source": [
    "try:\n",
    "    num = int(input('введите число: '))\n",
    "    print(num)\n",
    "except ValueError:\n",
    "    print('нужно ввести число')"
   ]
  },
  {
   "cell_type": "markdown",
   "id": "a20ae8c4-aaf6-4226-9dbf-af023bec96eb",
   "metadata": {},
   "source": [
    "Получение информации об ошибке"
   ]
  },
  {
   "cell_type": "code",
   "execution_count": 13,
   "id": "4bd9875c-edb1-4470-8a1a-49d78b5bc8be",
   "metadata": {},
   "outputs": [
    {
     "name": "stdout",
     "output_type": "stream",
     "text": [
      "Файл не найден! Подорбности: [Errno 2] No such file or directory: 'missing file.txt'\n"
     ]
    }
   ],
   "source": [
    "try:\n",
    "    with open('missing file.txt') as f:\n",
    "        print(f.read())\n",
    "except FileNotFoundError as err:\n",
    "    print(f'Файл не найден! Подорбности: {err}')"
   ]
  },
  {
   "cell_type": "markdown",
   "id": "bca04537-13b7-46e7-9818-7935b2fd178b",
   "metadata": {},
   "source": [
    "Блок else (выполняется, если нет ошибок)"
   ]
  },
  {
   "cell_type": "code",
   "execution_count": 17,
   "id": "1f75aeb1-02cc-4bd7-8c19-c4bd5493bb35",
   "metadata": {},
   "outputs": [
    {
     "name": "stdout",
     "output_type": "stream",
     "text": [
      "Поптыка открыть файл...\n",
      "Файл не найден!\n"
     ]
    }
   ],
   "source": [
    "try:\n",
    "    print('Поптыка открыть файл...')\n",
    "    file = open('data.txt', 'r')\n",
    "except FileNotFoundError:\n",
    "    print(\"Файл не найден!\")\n",
    "else:\n",
    "    print('Файл успешно открыт!')\n",
    "    content = file.read()\n",
    "    file.close()\n",
    "# Блок else (выполняется, если нет ошибок)"
   ]
  },
  {
   "cell_type": "markdown",
   "id": "0e20860b-d13f-4edf-b389-db4fd3008075",
   "metadata": {},
   "source": [
    "Блок finally (выполняется всегда)"
   ]
  },
  {
   "cell_type": "markdown",
   "id": "a9086ae9-adc4-4b58-b8d8-f2abd1e28519",
   "metadata": {},
   "source": [
    "Полезен для освобождения ресурсов (например, закрытия файлов), даже если произошла ошибка."
   ]
  },
  {
   "cell_type": "code",
   "execution_count": 23,
   "id": "f6c870ab-ef51-49c0-b404-fae5c5214c97",
   "metadata": {},
   "outputs": [
    {
     "name": "stdout",
     "output_type": "stream",
     "text": [
      "Файл не найден!\n"
     ]
    },
    {
     "ename": "NameError",
     "evalue": "name 'file' is not defined",
     "output_type": "error",
     "traceback": [
      "\u001b[1;31m---------------------------------------------------------------------------\u001b[0m",
      "\u001b[1;31mNameError\u001b[0m                                 Traceback (most recent call last)",
      "Cell \u001b[1;32mIn[23], line 7\u001b[0m\n\u001b[0;32m      5\u001b[0m     \u001b[38;5;28mprint\u001b[39m(\u001b[38;5;124m\"\u001b[39m\u001b[38;5;124mФайл не найден!\u001b[39m\u001b[38;5;124m\"\u001b[39m)\n\u001b[0;32m      6\u001b[0m \u001b[38;5;28;01mfinally\u001b[39;00m:\n\u001b[1;32m----> 7\u001b[0m     \u001b[43mfile\u001b[49m\u001b[38;5;241m.\u001b[39mclose()  \u001b[38;5;66;03m# Закрываем файл в любом случае\u001b[39;00m\n\u001b[0;32m      8\u001b[0m     \u001b[38;5;28mprint\u001b[39m(\u001b[38;5;124m\"\u001b[39m\u001b[38;5;124mОперация завершена.\u001b[39m\u001b[38;5;124m\"\u001b[39m)\n",
      "\u001b[1;31mNameError\u001b[0m: name 'file' is not defined"
     ]
    }
   ],
   "source": [
    "try:\n",
    "    file = open(\"data.txt\", \"r\")\n",
    "    print(file.read())\n",
    "except FileNotFoundError:\n",
    "    print(\"Файл не найден!\")\n",
    "finally:\n",
    "    file.close()  # Закрываем файл в любом случае\n",
    "    print(\"Операция завершена.\")"
   ]
  }
 ],
 "metadata": {
  "kernelspec": {
   "display_name": "Python 3 (ipykernel)",
   "language": "python",
   "name": "python3"
  },
  "language_info": {
   "codemirror_mode": {
    "name": "ipython",
    "version": 3
   },
   "file_extension": ".py",
   "mimetype": "text/x-python",
   "name": "python",
   "nbconvert_exporter": "python",
   "pygments_lexer": "ipython3",
   "version": "3.12.9"
  }
 },
 "nbformat": 4,
 "nbformat_minor": 5
}
