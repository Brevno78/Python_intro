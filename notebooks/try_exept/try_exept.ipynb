{
 "cells": [
  {
   "cell_type": "markdown",
   "id": "462aab6b-6c6d-4056-8828-760a9b31c5da",
   "metadata": {},
   "source": [
    "Обработка исключений"
   ]
  },
  {
   "cell_type": "code",
   "execution_count": 1,
   "id": "74d311e1-83b6-4ca8-8baf-9be08288ec8a",
   "metadata": {},
   "outputs": [
    {
     "ename": "ZeroDivisionError",
     "evalue": "division by zero",
     "output_type": "error",
     "traceback": [
      "\u001b[1;31m---------------------------------------------------------------------------\u001b[0m",
      "\u001b[1;31mZeroDivisionError\u001b[0m                         Traceback (most recent call last)",
      "Cell \u001b[1;32mIn[1], line 1\u001b[0m\n\u001b[1;32m----> 1\u001b[0m \u001b[38;5;241;43m5\u001b[39;49m\u001b[38;5;241;43m/\u001b[39;49m\u001b[38;5;241;43m0\u001b[39;49m\n",
      "\u001b[1;31mZeroDivisionError\u001b[0m: division by zero"
     ]
    }
   ],
   "source": [
    "5/0"
   ]
  },
  {
   "cell_type": "code",
   "execution_count": 5,
   "id": "bd069967-a59a-4137-9517-aebc9dd524e6",
   "metadata": {},
   "outputs": [
    {
     "name": "stdout",
     "output_type": "stream",
     "text": [
      "деление на ноль\n"
     ]
    }
   ],
   "source": [
    "try:\n",
    "    print(5/0)\n",
    "except ZeroDivisionError:\n",
    "    print('деление на ноль')\n",
    "# можно сделать несколько исключений в скобках"
   ]
  },
  {
   "cell_type": "code",
   "execution_count": 7,
   "id": "e17cd4ba-88c2-4549-ad20-a9bc7a16c2d3",
   "metadata": {},
   "outputs": [
    {
     "name": "stdout",
     "output_type": "stream",
     "text": [
      "деление на ноль\n"
     ]
    }
   ],
   "source": [
    "try:\n",
    "    print(5/0)\n",
    "except Exception:\n",
    "    print('деление на ноль')"
   ]
  },
  {
   "cell_type": "code",
   "execution_count": 6,
   "id": "700b8319-e78f-45e5-9f80-d091af5421ce",
   "metadata": {},
   "outputs": [
    {
     "name": "stdout",
     "output_type": "stream",
     "text": [
      "деление на ноль\n",
      "division by zero\n"
     ]
    }
   ],
   "source": [
    "try:\n",
    "    print(5/0)\n",
    "except ZeroDivisionError as err:\n",
    "    print('деление на ноль')\n",
    "    print(err)"
   ]
  },
  {
   "cell_type": "code",
   "execution_count": 13,
   "id": "c12297e4-7dd1-43ed-b46c-003b59374d6c",
   "metadata": {},
   "outputs": [
    {
     "name": "stdout",
     "output_type": "stream",
     "text": [
      "деление на ноль\n",
      "division by zero\n",
      "выполняется всегда\n"
     ]
    }
   ],
   "source": [
    "try:\n",
    "    print(5/0)\n",
    "except ZeroDivisionError as err:\n",
    "    print('деление на ноль')\n",
    "    print(err)\n",
    "except Exception:\n",
    "    pass\n",
    "finally: \n",
    "    print('выполняется всегда')"
   ]
  }
 ],
 "metadata": {
  "kernelspec": {
   "display_name": "Python 3 (ipykernel)",
   "language": "python",
   "name": "python3"
  },
  "language_info": {
   "codemirror_mode": {
    "name": "ipython",
    "version": 3
   },
   "file_extension": ".py",
   "mimetype": "text/x-python",
   "name": "python",
   "nbconvert_exporter": "python",
   "pygments_lexer": "ipython3",
   "version": "3.12.9"
  }
 },
 "nbformat": 4,
 "nbformat_minor": 5
}
