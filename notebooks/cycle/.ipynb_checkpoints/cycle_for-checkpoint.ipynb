{
 "cells": [
  {
   "cell_type": "code",
   "execution_count": 10,
   "id": "72cba6fd-ffda-4438-885a-72d4eb1fcef6",
   "metadata": {},
   "outputs": [
    {
     "name": "stdout",
     "output_type": "stream",
     "text": [
      "3\n",
      "4\n",
      "1\n",
      "3\n",
      "4\n",
      "2\n",
      "3\n",
      "4\n",
      "3\n",
      "3\n",
      "4\n",
      "4\n"
     ]
    }
   ],
   "source": [
    "# после двоеточия нужно что то написать.\n",
    "for i in range(1, 5):\n",
    "    for j in range(3, 5):\n",
    "        print(j)\n",
    "    print(i)"
   ]
  },
  {
   "cell_type": "code",
   "execution_count": 11,
   "id": "8609c4d8-d9d7-44d7-99ee-793b8d24ddb2",
   "metadata": {},
   "outputs": [
    {
     "name": "stdout",
     "output_type": "stream",
     "text": [
      "1\n",
      "10\n",
      "8\n",
      "6\n",
      "4\n",
      "2\n",
      "2\n",
      "3\n",
      "10\n",
      "8\n",
      "6\n",
      "4\n",
      "2\n",
      "4\n",
      "5\n",
      "10\n",
      "8\n",
      "6\n",
      "4\n",
      "2\n",
      "6\n",
      "7\n",
      "10\n",
      "8\n",
      "6\n",
      "4\n",
      "2\n",
      "8\n",
      "9\n",
      "10\n",
      "8\n",
      "6\n",
      "4\n",
      "2\n",
      "10\n"
     ]
    }
   ],
   "source": [
    "for i in range(1, 10, 2):\n",
    "    print(i)\n",
    "    for j in range(10, 1, -2):\n",
    "        print(j)\n",
    "    print(i + 1)"
   ]
  },
  {
   "cell_type": "code",
   "execution_count": null,
   "id": "fb07ded9-6f3e-4e4c-849d-3b4bde6d6ec7",
   "metadata": {},
   "outputs": [],
   "source": [
    "[[1, 1, 1, 1, 1],\n",
    " [1, 1, 1, 1, 1],\n",
    " [1, 1, 1, 1, 1],\n",
    " [1, 1, 1, 1, 1],\n",
    " [1, 1, 1, 1, 1]]"
   ]
  },
  {
   "cell_type": "code",
   "execution_count": 9,
   "id": "01509330-d1ae-4353-a17e-1eab069bc3e9",
   "metadata": {},
   "outputs": [
    {
     "data": {
      "text/plain": [
       "[[1, 0, 0, 0, 0],\n",
       " [1, 1, 0, 0, 0],\n",
       " [1, 1, 1, 0, 0],\n",
       " [1, 1, 1, 1, 0],\n",
       " [1, 1, 1, 1, 1]]"
      ]
     },
     "execution_count": 9,
     "metadata": {},
     "output_type": "execute_result"
    }
   ],
   "source": [
    "matrix = []\n",
    "for i in range(1, 6):\n",
    "    row = []\n",
    "    for j in range(1, 6):\n",
    "        if (i == j) | (j < i):\n",
    "            row.append(1)\n",
    "        else: \n",
    "            row.append(0)\n",
    "    matrix.append(row)\n",
    "matrix"
   ]
  },
  {
   "cell_type": "raw",
   "id": "1a8d1098-fdec-40d8-b822-be266d7af567",
   "metadata": {},
   "source": [
    "Сделать красоту из строк с помощью цикла"
   ]
  },
  {
   "cell_type": "code",
   "execution_count": 19,
   "id": "1be074c8-e4ce-44a5-91f5-19ad5d0548ce",
   "metadata": {},
   "outputs": [
    {
     "name": "stdout",
     "output_type": "stream",
     "text": [
      "1\n",
      "1\n",
      "1\n",
      "1\n",
      "1\n",
      "[1, 1, 1, 1, 1]\n"
     ]
    }
   ],
   "source": [
    "row = []\n",
    "for i in range(1, 6):\n",
    "    row.append(1)\n",
    "print(row)"
   ]
  },
  {
   "cell_type": "code",
   "execution_count": 23,
   "id": "1c93b05f-0721-4411-9733-e081ab6aa025",
   "metadata": {},
   "outputs": [
    {
     "name": "stdout",
     "output_type": "stream",
     "text": [
      "q\n",
      "w\n",
      "e\n",
      "r\n",
      "t\n",
      "y\n",
      "u\n",
      "i\n",
      "o\n"
     ]
    }
   ],
   "source": [
    "a_1 = 'qwertyuio'\n",
    "for i in a_1:\n",
    "    print(i)"
   ]
  },
  {
   "cell_type": "code",
   "execution_count": 4,
   "id": "cdea91a4-66dd-417f-a9c4-6ec2df26a7cc",
   "metadata": {},
   "outputs": [
    {
     "name": "stdout",
     "output_type": "stream",
     "text": [
      "45\n",
      "89\n",
      "Hello\n",
      "!\n"
     ]
    }
   ],
   "source": [
    "for i in 45, 89, 'Hello', '!':\n",
    "    print(i)"
   ]
  },
  {
   "cell_type": "code",
   "execution_count": 14,
   "id": "e68915df-8512-4731-b569-8b4bd8e3704f",
   "metadata": {},
   "outputs": [
    {
     "name": "stdout",
     "output_type": "stream",
     "text": [
      "0\n",
      "1\n",
      "2\n",
      "3\n",
      "4\n",
      "5\n",
      "6\n",
      "7\n",
      "8\n",
      "9\n"
     ]
    }
   ],
   "source": [
    "for i in range (10):\n",
    "    print(i)"
   ]
  },
  {
   "cell_type": "code",
   "execution_count": 19,
   "id": "6046152c-60e7-4cb2-a566-1db8e60f0fe9",
   "metadata": {},
   "outputs": [
    {
     "name": "stdout",
     "output_type": "stream",
     "text": [
      "10\n",
      "9\n",
      "8\n",
      "7\n",
      "6\n",
      "5\n",
      "4\n",
      "3\n",
      "2\n"
     ]
    }
   ],
   "source": [
    "for i in range (10, 1, -1):\n",
    "    print(i)"
   ]
  },
  {
   "cell_type": "code",
   "execution_count": 149,
   "id": "ef92f2d4-5791-4345-a5cb-9b02e9c8e0aa",
   "metadata": {},
   "outputs": [
    {
     "name": "stdout",
     "output_type": "stream",
     "text": [
      "1 * 1 = 1|1 * 2 = 2|1 * 3 = 3|1 * 4 = 4|1 * 5 = 5|1 * 6 = 6|1 * 7 = 7|1 * 8 = 8|1 * 9 = 9|\n",
      "2 * 1 = 2|2 * 2 = 4|2 * 3 = 6|2 * 4 = 8|2 * 5 = 10|2 * 6 = 12|2 * 7 = 14|2 * 8 = 16|2 * 9 = 18|\n",
      "3 * 1 = 3|3 * 2 = 6|3 * 3 = 9|3 * 4 = 12|3 * 5 = 15|3 * 6 = 18|3 * 7 = 21|3 * 8 = 24|3 * 9 = 27|\n",
      "4 * 1 = 4|4 * 2 = 8|4 * 3 = 12|4 * 4 = 16|4 * 5 = 20|4 * 6 = 24|4 * 7 = 28|4 * 8 = 32|4 * 9 = 36|\n",
      "5 * 1 = 5|5 * 2 = 10|5 * 3 = 15|5 * 4 = 20|5 * 5 = 25|5 * 6 = 30|5 * 7 = 35|5 * 8 = 40|5 * 9 = 45|\n",
      "6 * 1 = 6|6 * 2 = 12|6 * 3 = 18|6 * 4 = 24|6 * 5 = 30|6 * 6 = 36|6 * 7 = 42|6 * 8 = 48|6 * 9 = 54|\n",
      "7 * 1 = 7|7 * 2 = 14|7 * 3 = 21|7 * 4 = 28|7 * 5 = 35|7 * 6 = 42|7 * 7 = 49|7 * 8 = 56|7 * 9 = 63|\n",
      "8 * 1 = 8|8 * 2 = 16|8 * 3 = 24|8 * 4 = 32|8 * 5 = 40|8 * 6 = 48|8 * 7 = 56|8 * 8 = 64|8 * 9 = 72|\n",
      "9 * 1 = 9|9 * 2 = 18|9 * 3 = 27|9 * 4 = 36|9 * 5 = 45|9 * 6 = 54|9 * 7 = 63|9 * 8 = 72|9 * 9 = 81|\n"
     ]
    }
   ],
   "source": [
    "for x in range(1, 10):\n",
    "    for y in range (1, 10):\n",
    "        print(x, '*', y, '=', x * y, end = '|')\n",
    "    print()"
   ]
  },
  {
   "cell_type": "code",
   "execution_count": 127,
   "id": "976c9806-6cbb-419e-a0c1-cb7d3c7b1df4",
   "metadata": {},
   "outputs": [
    {
     "name": "stdout",
     "output_type": "stream",
     "text": [
      "\n",
      "1\n",
      "12\n",
      "123\n",
      "1234\n",
      "12345\n",
      "123456\n",
      "1234567\n",
      "12345678\n",
      "123456789\n"
     ]
    }
   ],
   "source": [
    "for i in range(10):\n",
    "    for j in range(i):\n",
    "        print(j + 1, end = '')\n",
    "    print()"
   ]
  },
  {
   "cell_type": "code",
   "execution_count": 3,
   "id": "4287c100-52ef-4895-82de-5c8429dae523",
   "metadata": {
    "collapsed": true,
    "jupyter": {
     "outputs_hidden": true
    },
    "scrolled": true
   },
   "outputs": [
    {
     "data": {
      "text/plain": [
       "[[1, 1, 1, 1, 1, 1, 1, 1, 1, 1],\n",
       " [1, 1, 1, 1, 1, 1, 1, 1, 1],\n",
       " [1, 1, 1, 1, 1, 1, 1, 1],\n",
       " [1, 1, 1, 1, 1, 1, 1],\n",
       " [1, 1, 1, 1, 1, 1],\n",
       " [1, 1, 1, 1, 1],\n",
       " [1, 1, 1, 1],\n",
       " [1, 1, 1],\n",
       " [1, 1],\n",
       " [1]]"
      ]
     },
     "execution_count": 3,
     "metadata": {},
     "output_type": "execute_result"
    }
   ],
   "source": [
    "tringle = []\n",
    "for i in range(10, 0, -1):\n",
    "    row = []\n",
    "    for j in range (i):\n",
    "        row.append(1)\n",
    "    tringle.append(row)\n",
    "tringle"
   ]
  },
  {
   "cell_type": "raw",
   "id": "bbf9f808-df56-438c-87e3-e562a8119b9f",
   "metadata": {},
   "source": [
    "t = []\n",
    "i = 10, r = [], j = 0, r = [1]\n",
    "                j = 1, r = [1, 1]\n",
    "                j = 2, r = [1, 1, 1]\n",
    "                j = 3, r = [1, 1, 1, 1]\n",
    "                j = 4, r = [1, 1, 1, 1, 1]\n",
    "                j = 5, r = [1, 1, 1, 1, 1, 1]\n",
    "                j = 6, r = [1, 1, 1, 1, 1, 1, 1]\n",
    "                j = 7, r = [1, 1, 1, 1, 1, 1, 1, 1]\n",
    "                j = 8, r = [1, 1, 1, 1, 1, 1, 1, 1, 1]\n",
    "                j = 9, r = [1, 1, 1, 1, 1, 1, 1, 1, 1, 1]\n",
    "t = [[1, 1, 1, 1, 1, 1, 1, 1, 1, 1]]\n",
    "i = 9, r = [],  j = 0, r = [1]\n",
    "                j = 1, r = [1, 1]\n",
    "                j = 2, r = [1, 1, 1]\n",
    "                j = 3, r = [1, 1, 1, 1]\n",
    "                j = 4, r = [1, 1, 1, 1, 1]\n",
    "                j = 5, r = [1, 1, 1, 1, 1, 1]\n",
    "                j = 6, r = [1, 1, 1, 1, 1, 1, 1]\n",
    "                j = 7, r = [1, 1, 1, 1, 1, 1, 1, 1]\n",
    "                j = 8, r = [1, 1, 1, 1, 1, 1, 1, 1, 1]\n",
    "t = [[1, 1, 1, 1, 1, 1, 1, 1, 1, 1]\n",
    "     [1, 1, 1, 1, 1, 1, 1, 1, 1]]\n",
    "    "
   ]
  },
  {
   "cell_type": "code",
   "execution_count": 143,
   "id": "b2256186-5d6c-45ca-add3-0d5bc4877f65",
   "metadata": {},
   "outputs": [
    {
     "data": {
      "text/plain": [
       "[[1],\n",
       " [1, 1],\n",
       " [1, 1, 1],\n",
       " [1, 1, 1, 1],\n",
       " [1, 1, 1, 1, 1],\n",
       " [1, 1, 1, 1, 1, 1],\n",
       " [1, 1, 1, 1, 1, 1, 1],\n",
       " [1, 1, 1, 1, 1, 1, 1, 1]]"
      ]
     },
     "execution_count": 143,
     "metadata": {},
     "output_type": "execute_result"
    }
   ],
   "source": [
    "tringle_2 = []\n",
    "for i in range(1, 9):\n",
    "    row = []\n",
    "    for j in range(i):\n",
    "        row.append(1)\n",
    "    tringle_2.append(row)\n",
    "tringle_2"
   ]
  },
  {
   "cell_type": "code",
   "execution_count": 140,
   "id": "c1035630-bb8d-4e30-9f55-edb04b91abaf",
   "metadata": {},
   "outputs": [
    {
     "name": "stdout",
     "output_type": "stream",
     "text": [
      "1 10\n",
      "1 11\n",
      "2 10\n",
      "2 11\n",
      "3 10\n",
      "3 11\n",
      "4 10\n",
      "4 11\n"
     ]
    }
   ],
   "source": [
    "for i in range(1, 5):\n",
    "    for j in range (10, 12):\n",
    "        print(i, j)"
   ]
  }
 ],
 "metadata": {
  "kernelspec": {
   "display_name": "Python 3 (ipykernel)",
   "language": "python",
   "name": "python3"
  },
  "language_info": {
   "codemirror_mode": {
    "name": "ipython",
    "version": 3
   },
   "file_extension": ".py",
   "mimetype": "text/x-python",
   "name": "python",
   "nbconvert_exporter": "python",
   "pygments_lexer": "ipython3",
   "version": "3.12.9"
  }
 },
 "nbformat": 4,
 "nbformat_minor": 5
}
