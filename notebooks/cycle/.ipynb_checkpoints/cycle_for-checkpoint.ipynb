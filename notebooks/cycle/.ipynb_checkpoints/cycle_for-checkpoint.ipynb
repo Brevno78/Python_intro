{
 "cells": [
  {
   "cell_type": "code",
   "execution_count": 10,
   "id": "72cba6fd-ffda-4438-885a-72d4eb1fcef6",
   "metadata": {},
   "outputs": [
    {
     "name": "stdout",
     "output_type": "stream",
     "text": [
      "3\n",
      "4\n",
      "1\n",
      "3\n",
      "4\n",
      "2\n",
      "3\n",
      "4\n",
      "3\n",
      "3\n",
      "4\n",
      "4\n"
     ]
    }
   ],
   "source": [
    "# после двоеточия нужно что то написать.\n",
    "for i in range(1, 5):\n",
    "    for j in range(3, 5):\n",
    "        print(j)\n",
    "    print(i)"
   ]
  },
  {
   "cell_type": "code",
   "execution_count": 11,
   "id": "8609c4d8-d9d7-44d7-99ee-793b8d24ddb2",
   "metadata": {},
   "outputs": [
    {
     "name": "stdout",
     "output_type": "stream",
     "text": [
      "1\n",
      "10\n",
      "8\n",
      "6\n",
      "4\n",
      "2\n",
      "2\n",
      "3\n",
      "10\n",
      "8\n",
      "6\n",
      "4\n",
      "2\n",
      "4\n",
      "5\n",
      "10\n",
      "8\n",
      "6\n",
      "4\n",
      "2\n",
      "6\n",
      "7\n",
      "10\n",
      "8\n",
      "6\n",
      "4\n",
      "2\n",
      "8\n",
      "9\n",
      "10\n",
      "8\n",
      "6\n",
      "4\n",
      "2\n",
      "10\n"
     ]
    }
   ],
   "source": [
    "for i in range(1, 10, 2):\n",
    "    print(i)\n",
    "    for j in range(10, 1, -2):\n",
    "        print(j)\n",
    "    print(i + 1)"
   ]
  },
  {
   "cell_type": "code",
   "execution_count": null,
   "id": "fb07ded9-6f3e-4e4c-849d-3b4bde6d6ec7",
   "metadata": {},
   "outputs": [],
   "source": [
    "[[1, 1, 1, 1, 1],\n",
    " [1, 1, 1, 1, 1],\n",
    " [1, 1, 1, 1, 1],\n",
    " [1, 1, 1, 1, 1],\n",
    " [1, 1, 1, 1, 1]]"
   ]
  },
  {
   "cell_type": "code",
   "execution_count": 22,
   "id": "01509330-d1ae-4353-a17e-1eab069bc3e9",
   "metadata": {},
   "outputs": [
    {
     "data": {
      "text/plain": [
       "[[1, 1, 1, 1, 1],\n",
       " [1, 1, 1, 1, 1],\n",
       " [1, 1, 1, 1, 1],\n",
       " [1, 1, 1, 1, 1],\n",
       " [1, 1, 1, 1, 1]]"
      ]
     },
     "execution_count": 22,
     "metadata": {},
     "output_type": "execute_result"
    }
   ],
   "source": [
    "matrix = []\n",
    "for i in range(1, 6):\n",
    "    row = []\n",
    "    for j in range(1, 6):\n",
    "        row.append(1)\n",
    "    matrix.append(row)\n",
    "matrix"
   ]
  },
  {
   "cell_type": "code",
   "execution_count": 19,
   "id": "1be074c8-e4ce-44a5-91f5-19ad5d0548ce",
   "metadata": {},
   "outputs": [
    {
     "name": "stdout",
     "output_type": "stream",
     "text": [
      "1\n",
      "1\n",
      "1\n",
      "1\n",
      "1\n",
      "[1, 1, 1, 1, 1]\n"
     ]
    }
   ],
   "source": [
    "row = []\n",
    "for i in range(1, 6):\n",
    "    row.append(1)\n",
    "print(row)"
   ]
  },
  {
   "cell_type": "code",
   "execution_count": 23,
   "id": "1c93b05f-0721-4411-9733-e081ab6aa025",
   "metadata": {},
   "outputs": [
    {
     "name": "stdout",
     "output_type": "stream",
     "text": [
      "q\n",
      "w\n",
      "e\n",
      "r\n",
      "t\n",
      "y\n",
      "u\n",
      "i\n",
      "o\n"
     ]
    }
   ],
   "source": [
    "a_1 = 'qwertyuio'\n",
    "for i in a_1:\n",
    "    print(i)"
   ]
  }
 ],
 "metadata": {
  "kernelspec": {
   "display_name": "Python 3 (ipykernel)",
   "language": "python",
   "name": "python3"
  },
  "language_info": {
   "codemirror_mode": {
    "name": "ipython",
    "version": 3
   },
   "file_extension": ".py",
   "mimetype": "text/x-python",
   "name": "python",
   "nbconvert_exporter": "python",
   "pygments_lexer": "ipython3",
   "version": "3.12.9"
  }
 },
 "nbformat": 4,
 "nbformat_minor": 5
}
