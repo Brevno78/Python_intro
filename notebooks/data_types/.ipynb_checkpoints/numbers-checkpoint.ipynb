{
 "cells": [
  {
   "cell_type": "markdown",
   "id": "87401560-30b2-4507-a9b9-83d197a0215a",
   "metadata": {},
   "source": [
    "Числовые типы данных в себя включают:\n",
    "1. Целые числа (int). Это положительные или отрицательные целые числа без десятичных знаков. \n",
    "Что бы посмотреть тип данных используется функция \"Type()\""
   ]
  },
  {
   "cell_type": "code",
   "execution_count": 4,
   "id": "a26bf701-d2f7-44ad-be2d-87dfa818e305",
   "metadata": {},
   "outputs": [
    {
     "name": "stdout",
     "output_type": "stream",
     "text": [
      "5 -10\n"
     ]
    }
   ],
   "source": [
    "# пример:\n",
    "a:[int] = 5 \n",
    "b:[int] = -10\n",
    "print(a, b)"
   ]
  },
  {
   "cell_type": "markdown",
   "id": "372e6938-6567-47d5-b74b-e752a83b6efc",
   "metadata": {},
   "source": [
    "2. Числа с плавающей точкой (float). Это десятичные числа, которые имеют дробную часть."
   ]
  },
  {
   "cell_type": "code",
   "execution_count": 13,
   "id": "8cabd938-3125-49df-85b2-cf883c6356f6",
   "metadata": {},
   "outputs": [
    {
     "name": "stdout",
     "output_type": "stream",
     "text": [
      "5.0 -10.3\n"
     ]
    }
   ],
   "source": [
    "# пример:\n",
    "a_1:[float] = 5.0\n",
    "b_1:[float] = -10.3\n",
    "print(a_1, b_1)\n"
   ]
  },
  {
   "cell_type": "markdown",
   "id": "6024ddbf-3082-4d72-ba40-5f1ada453dd4",
   "metadata": {},
   "source": [
    "Комплексные числа: это числа, которые включают мнимую часть."
   ]
  },
  {
   "cell_type": "code",
   "execution_count": 6,
   "id": "631f9fd6-087d-405d-8770-575ca370de05",
   "metadata": {},
   "outputs": [
    {
     "name": "stdout",
     "output_type": "stream",
     "text": [
      "(2+2j) (3+4j)\n"
     ]
    }
   ],
   "source": [
    "a_2:[complex] = 2 + 2j\n",
    "b_2:[complex] = 3 + 4j\n",
    "print(a_2, b_2)"
   ]
  },
  {
   "cell_type": "markdown",
   "id": "37a13865-1d4d-4158-9aeb-8ae5c2f028ca",
   "metadata": {},
   "source": [
    "В Python также можно создавать крупные числа, но в таком случае нельзя использовать запятые."
   ]
  },
  {
   "cell_type": "code",
   "execution_count": 27,
   "id": "787a9a2f-21f6-430e-b3d3-70070aed48b2",
   "metadata": {},
   "outputs": [],
   "source": [
    "# неправильный вариант\n",
    "c_1:[int] = 1,000,000"
   ]
  },
  {
   "cell_type": "code",
   "execution_count": 28,
   "id": "fa9961db-0018-470a-99be-e32d260e7236",
   "metadata": {},
   "outputs": [
    {
     "name": "stdout",
     "output_type": "stream",
     "text": [
      "1000000\n"
     ]
    }
   ],
   "source": [
    "# правильный вариант\n",
    "c_2:[int] = 1_000_000\n",
    "print(c_2)"
   ]
  },
  {
   "cell_type": "markdown",
   "id": "d1099c6f-edc8-4675-be65-a4db3062ed55",
   "metadata": {},
   "source": [
    "Простые операции с числами:\n",
    "- сложение;\n",
    "- вычитание;\n",
    "- умножение;\n",
    "- деление;\n",
    "- деление без остатка;\n",
    "- остаток от деления;\n",
    "- возведение в степень."
   ]
  },
  {
   "cell_type": "markdown",
   "id": "0835c582-378d-4ec5-ba29-2f66eca6177f",
   "metadata": {},
   "source": [
    "Сложение: "
   ]
  },
  {
   "cell_type": "code",
   "execution_count": 29,
   "id": "5b4c2b31-87bc-44b1-935d-469ecd843408",
   "metadata": {},
   "outputs": [
    {
     "name": "stdout",
     "output_type": "stream",
     "text": [
      "11\n"
     ]
    }
   ],
   "source": [
    "m = 4\n",
    "n = 7\n",
    "v = m + n\n",
    "print(v)"
   ]
  },
  {
   "cell_type": "markdown",
   "id": "fe2c20d4-4e85-4d0c-a129-3e0f43a802e8",
   "metadata": {},
   "source": [
    "При сложение типа int с типом float получится тип float, например:"
   ]
  },
  {
   "cell_type": "code",
   "execution_count": 30,
   "id": "f9e4a81a-0486-4608-b462-61b786597635",
   "metadata": {
    "scrolled": true
   },
   "outputs": [
    {
     "name": "stdout",
     "output_type": "stream",
     "text": [
      "11.0\n"
     ]
    }
   ],
   "source": [
    "m_1 = 4\n",
    "n_1 = 7.0\n",
    "v_1 = n_1 + m_1\n",
    "print(v_1)"
   ]
  },
  {
   "cell_type": "markdown",
   "id": "04019845-4209-4132-ac24-ed50ebdf660c",
   "metadata": {},
   "source": [
    "Таким образом сложение двух целых чисел дает целое число, но если хотя бы один из операндов является числом с плавающей точкой, то и результат станет такого же типа."
   ]
  },
  {
   "cell_type": "markdown",
   "id": "6b980e7c-ab54-4765-9d2f-79472a0350bd",
   "metadata": {},
   "source": [
    "Вычитание:\n",
    "В Python для операции вычитания используется оператор -."
   ]
  },
  {
   "cell_type": "code",
   "execution_count": 1,
   "id": "8705c399-6919-4972-9c87-6e5322a32d91",
   "metadata": {},
   "outputs": [
    {
     "name": "stdout",
     "output_type": "stream",
     "text": [
      "3\n"
     ]
    }
   ],
   "source": [
    "a_2:[int] = 10\n",
    "b_2:[int] = 7\n",
    "c_2:[int] = a_2 - b_2\n",
    "print(c_2)\n"
   ]
  },
  {
   "cell_type": "markdown",
   "id": "96ef4a5d-643e-4389-9498-80533114c53f",
   "metadata": {},
   "source": [
    "Положительные числа получаются в случае вычитания маленького числа из более крупного. Если же из маленького наоборот вычесть большое, то результатом будет отрицательно число. По аналогии с операцией сложения при вычитании если один из операндов является числом с плавающей точкой, то и весь результат будет такого типа."
   ]
  },
  {
   "cell_type": "code",
   "execution_count": 4,
   "id": "5c70d522-5e4e-404f-b4af-7169853bf9f8",
   "metadata": {},
   "outputs": [
    {
     "name": "stdout",
     "output_type": "stream",
     "text": [
      "-3\n"
     ]
    }
   ],
   "source": [
    "c_3 = b_2 - a_2\n",
    "print(c_3)"
   ]
  },
  {
   "cell_type": "markdown",
   "id": "72343467-649f-4260-9ece-4cf59b7ac47e",
   "metadata": {},
   "source": [
    "Умножение"
   ]
  },
  {
   "cell_type": "markdown",
   "id": "8129be12-e8ff-42f4-a011-0d4669ac30ac",
   "metadata": {},
   "source": [
    "Для умножения в Python применяется оператор *."
   ]
  },
  {
   "cell_type": "markdown",
   "id": "db71bdc0-873f-4093-8507-b5e4b094d95d",
   "metadata": {},
   "source": [
    "Если перемножить два целых числа, то результатом будет целое число. Если же использовать число с плавающей точкой, то результатом будет также число с плавающей точкой."
   ]
  },
  {
   "cell_type": "code",
   "execution_count": 7,
   "id": "fa4d8fbd-f275-43a7-b4d8-724ed9699e49",
   "metadata": {},
   "outputs": [
    {
     "name": "stdout",
     "output_type": "stream",
     "text": [
      "17.5\n"
     ]
    }
   ],
   "source": [
    "a_3: [float] = 3.5\n",
    "b_3: [int] = 5\n",
    "c1 = a_3 * b_3\n",
    "print(c1)"
   ]
  },
  {
   "cell_type": "markdown",
   "id": "1a79f5a6-dfd8-4232-9d1e-102146c355ad",
   "metadata": {},
   "source": [
    "Деление"
   ]
  },
  {
   "cell_type": "markdown",
   "id": "927e39a3-b974-4885-8ec4-f74c2e51ecce",
   "metadata": {},
   "source": [
    "В Python деление выполняется с помощью оператора /."
   ]
  },
  {
   "cell_type": "markdown",
   "id": "d27172b9-79ae-47d9-a4c1-76b8287ab12f",
   "metadata": {},
   "source": [
    "В отличие от трех предыдущих операций при делении результатом всегда будет число с плавающей точкой. Также нужно помнить о том, что на 0 делить нельзя, иначе Python вернет ошибку ZeroDivisionError."
   ]
  },
  {
   "cell_type": "code",
   "execution_count": 11,
   "id": "eee2bfb5-df7f-4596-8f0a-78699841b586",
   "metadata": {},
   "outputs": [
    {
     "name": "stdout",
     "output_type": "stream",
     "text": [
      "5.0\n"
     ]
    }
   ],
   "source": [
    "s_1 = 10\n",
    "s_2 = 2\n",
    "s_3 = s_1 / s_2\n",
    "print(s_3)"
   ]
  },
  {
   "cell_type": "markdown",
   "id": "1a8fb43d-d28b-452d-b5df-bf083872c88e",
   "metadata": {},
   "source": [
    "Деление без остатка"
   ]
  },
  {
   "cell_type": "markdown",
   "id": "0332049a-14aa-4fdc-b97f-8ab122a83f71",
   "metadata": {},
   "source": [
    "При обычном делении с использованием оператора / результатом будет точное число с плавающей точкой. Но иногда достаточно получить лишь целую часть операции. Для этого есть операции интегрального деления."
   ]
  },
  {
   "cell_type": "code",
   "execution_count": 12,
   "id": "cecf8b1f-d3d3-4600-9dcd-63441d41c22d",
   "metadata": {},
   "outputs": [
    {
     "name": "stdout",
     "output_type": "stream",
     "text": [
      "5\n"
     ]
    }
   ],
   "source": [
    "s1 = s_1 // s_2\n",
    "print(s1)"
   ]
  },
  {
   "cell_type": "markdown",
   "id": "63396ef4-491c-49ec-8cfd-c2327c516d60",
   "metadata": {},
   "source": [
    "Результатом такой операции становится частное. Остаток же можно получить с помощью модуля, о котором речь пойдет дальше."
   ]
  },
  {
   "cell_type": "markdown",
   "id": "f15e957c-bb95-4c22-9cb7-c9529ec7d778",
   "metadata": {},
   "source": [
    "Остаток от деления"
   ]
  },
  {
   "cell_type": "markdown",
   "id": "d5ba580e-1c00-4ff8-acaa-c0ce1103b8f8",
   "metadata": {},
   "source": [
    "Для получения остатка деления двух чисел используется оператор деления по модулю %."
   ]
  },
  {
   "cell_type": "code",
   "execution_count": 13,
   "id": "5d3d9380-668c-433d-9697-2ffaa66531b1",
   "metadata": {},
   "outputs": [
    {
     "name": "stdout",
     "output_type": "stream",
     "text": [
      "0\n"
     ]
    }
   ],
   "source": [
    "s_2 = s_1 % s_2\n",
    "print(s_2)\n"
   ]
  },
  {
   "cell_type": "markdown",
   "id": "285fe54c-b75c-4cb6-9239-23b94c1d76de",
   "metadata": {},
   "source": [
    "Возведение в степень"
   ]
  },
  {
   "cell_type": "markdown",
   "id": "25a44964-3470-4281-a768-5f50d5c776c1",
   "metadata": {},
   "source": [
    "Число можно возвести в степень с помощью оператора **."
   ]
  },
  {
   "cell_type": "code",
   "execution_count": 17,
   "id": "c2fd504c-a4e4-47bb-967f-7c685eefb214",
   "metadata": {},
   "outputs": [
    {
     "name": "stdout",
     "output_type": "stream",
     "text": [
      "100\n"
     ]
    }
   ],
   "source": [
    "s2 = s_1**2\n",
    "print(s2)"
   ]
  },
  {
   "cell_type": "markdown",
   "id": "ac607674-60d1-4d0d-9f6a-38e528ff464a",
   "metadata": {},
   "source": [
    "Комплексные числа"
   ]
  },
  {
   "cell_type": "code",
   "execution_count": 19,
   "id": "dda8b8e1-5b5a-4d96-b094-aae7b86126f3",
   "metadata": {},
   "outputs": [
    {
     "name": "stdout",
     "output_type": "stream",
     "text": [
      "Сумма двух комплексных чисел равна:  (5+6j)\n"
     ]
    }
   ],
   "source": [
    "# создание двух комплексных чисел\n",
    "var1 = 2 + 2j\n",
    "var2 = 3 + 4j\n",
    "# сложение двух комплексных чисел\n",
    "sum = var1 + var2\n",
    "print(\"Сумма двух комплексных чисел равна: \", sum)"
   ]
  },
  {
   "cell_type": "markdown",
   "id": "5207df1e-d43c-4122-92d3-6a2718dcf075",
   "metadata": {},
   "source": [
    "Конвертация типов чисел"
   ]
  },
  {
   "cell_type": "markdown",
   "id": "654fdd86-33fa-4b6f-b601-c79abfcf5e50",
   "metadata": {},
   "source": [
    "Конвертация типа — это метод конвертации числа из одного типа в другой. Для этого можно использовать функции float(), int() и complex()."
   ]
  },
  {
   "cell_type": "code",
   "execution_count": 27,
   "id": "0b370873-6776-4635-bd0b-25624fcade1f",
   "metadata": {},
   "outputs": [
    {
     "name": "stdout",
     "output_type": "stream",
     "text": [
      "(2+0j) <class 'complex'>\n",
      "(1+0j) <class 'complex'>\n",
      "1.0 <class 'float'>\n"
     ]
    }
   ],
   "source": [
    "x = 1  # создание целого числа\n",
    "y = 2.0  # создание числа с плавающей точкой\n",
    "z = 2+3j  # создание комплексного числа\n",
    "a1 = float(x)\n",
    "b1 = int(y)\n",
    "g1 = complex(x)\n",
    "g2 = complex(y)\n",
    "print(g2, type(g2))\n",
    "print(g1, type(g1))\n",
    "print(a1, type(a1))"
   ]
  },
  {
   "cell_type": "markdown",
   "id": "9ee4b7a2-c675-471a-9801-69646678c3eb",
   "metadata": {},
   "source": [
    "Случайные числа"
   ]
  },
  {
   "cell_type": "markdown",
   "id": "7cb5b693-399b-455d-82c2-185180b0eee3",
   "metadata": {},
   "source": [
    "Случайные числа используются в играх, криптографии и так далее. В Python нативной поддержки случайных чисел нет, но есть встроенный модуль random, который используется для работы с целыми числами. Рассмотрим пример генерации случайных чисел с помощью такого модуля."
   ]
  },
  {
   "cell_type": "code",
   "execution_count": 35,
   "id": "e91f2395-8a46-4b94-9695-7803448ae3ca",
   "metadata": {},
   "outputs": [
    {
     "name": "stdout",
     "output_type": "stream",
     "text": [
      "981\n"
     ]
    }
   ],
   "source": [
    "import random\n",
    "print(random.randrange(1, 1000))"
   ]
  },
  {
   "cell_type": "markdown",
   "id": "8c6bd948-72f2-42d8-b38e-fd12b56d259e",
   "metadata": {},
   "source": [
    "Встроенные математические функции"
   ]
  },
  {
   "cell_type": "markdown",
   "id": "91f2170c-f7a1-4c7f-a962-3d4087ae8009",
   "metadata": {},
   "source": [
    "В Python есть множество встроенных функций для работы с числами. Вот самые важные из них."
   ]
  },
  {
   "cell_type": "code",
   "execution_count": null,
   "id": "672c8d8a-317b-4dd7-8b4b-39aeb758c1cd",
   "metadata": {},
   "outputs": [],
   "source": []
  }
 ],
 "metadata": {
  "kernelspec": {
   "display_name": "Python 3 (ipykernel)",
   "language": "python",
   "name": "python3"
  },
  "language_info": {
   "codemirror_mode": {
    "name": "ipython",
    "version": 3
   },
   "file_extension": ".py",
   "mimetype": "text/x-python",
   "name": "python",
   "nbconvert_exporter": "python",
   "pygments_lexer": "ipython3",
   "version": "3.12.9"
  }
 },
 "nbformat": 4,
 "nbformat_minor": 5
}
