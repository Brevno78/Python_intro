{
 "cells": [
  {
   "cell_type": "markdown",
   "id": "87401560-30b2-4507-a9b9-83d197a0215a",
   "metadata": {},
   "source": [
    "Числовые типы данных в себя включают:\n",
    "1. Целые числа (int). Это положительные или отрицательные целые числа без десятичных знаков. \n",
    "Что бы посмотреть тип данных используется функция \"Type()\""
   ]
  },
  {
   "cell_type": "code",
   "execution_count": 4,
   "id": "a26bf701-d2f7-44ad-be2d-87dfa818e305",
   "metadata": {},
   "outputs": [
    {
     "name": "stdout",
     "output_type": "stream",
     "text": [
      "5 -10\n"
     ]
    }
   ],
   "source": [
    "# пример:\n",
    "a:[int] = 5 \n",
    "b:[int] = -10\n",
    "print(a, b)"
   ]
  },
  {
   "cell_type": "markdown",
   "id": "372e6938-6567-47d5-b74b-e752a83b6efc",
   "metadata": {},
   "source": [
    "2. Числа с плавающей точкой (float). Это десятичные числа, которые имеют дробную часть."
   ]
  },
  {
   "cell_type": "code",
   "execution_count": 13,
   "id": "8cabd938-3125-49df-85b2-cf883c6356f6",
   "metadata": {},
   "outputs": [
    {
     "name": "stdout",
     "output_type": "stream",
     "text": [
      "5.0 -10.3\n"
     ]
    }
   ],
   "source": [
    "# пример:\n",
    "a_1:[float] = 5.0\n",
    "b_1:[float] = -10.3\n",
    "print(a_1, b_1)\n"
   ]
  },
  {
   "cell_type": "markdown",
   "id": "6024ddbf-3082-4d72-ba40-5f1ada453dd4",
   "metadata": {},
   "source": [
    "Комплексные числа: это числа, которые включают мнимую часть."
   ]
  },
  {
   "cell_type": "code",
   "execution_count": 6,
   "id": "631f9fd6-087d-405d-8770-575ca370de05",
   "metadata": {},
   "outputs": [
    {
     "name": "stdout",
     "output_type": "stream",
     "text": [
      "(2+2j) (3+4j)\n"
     ]
    }
   ],
   "source": [
    "a_2:[complex] = 2 + 2j\n",
    "b_2:[complex] = 3 + 4j\n",
    "print(a_2, b_2)"
   ]
  },
  {
   "cell_type": "markdown",
   "id": "37a13865-1d4d-4158-9aeb-8ae5c2f028ca",
   "metadata": {},
   "source": [
    "В Python также можно создавать крупные числа, но в таком случае нельзя использовать запятые."
   ]
  },
  {
   "cell_type": "code",
   "execution_count": 27,
   "id": "787a9a2f-21f6-430e-b3d3-70070aed48b2",
   "metadata": {},
   "outputs": [],
   "source": [
    "# неправильный вариант\n",
    "c_1:[int] = 1,000,000"
   ]
  },
  {
   "cell_type": "code",
   "execution_count": 28,
   "id": "fa9961db-0018-470a-99be-e32d260e7236",
   "metadata": {},
   "outputs": [
    {
     "name": "stdout",
     "output_type": "stream",
     "text": [
      "1000000\n"
     ]
    }
   ],
   "source": [
    "# правильный вариант\n",
    "c_2:[int] = 1_000_000\n",
    "print(c_2)"
   ]
  },
  {
   "cell_type": "markdown",
   "id": "d1099c6f-edc8-4675-be65-a4db3062ed55",
   "metadata": {},
   "source": [
    "Простые операции с числами:\n",
    "- сложение;\n",
    "- вычитание;\n",
    "- умножение;\n",
    "- деление;\n",
    "- деление без остатка;\n",
    "- остаток от деления;\n",
    "- возведение в степень."
   ]
  },
  {
   "cell_type": "markdown",
   "id": "0835c582-378d-4ec5-ba29-2f66eca6177f",
   "metadata": {},
   "source": [
    "Сложение: "
   ]
  },
  {
   "cell_type": "code",
   "execution_count": 29,
   "id": "5b4c2b31-87bc-44b1-935d-469ecd843408",
   "metadata": {},
   "outputs": [
    {
     "name": "stdout",
     "output_type": "stream",
     "text": [
      "11\n"
     ]
    }
   ],
   "source": [
    "m = 4\n",
    "n = 7\n",
    "v = m + n\n",
    "print(v)"
   ]
  },
  {
   "cell_type": "markdown",
   "id": "fe2c20d4-4e85-4d0c-a129-3e0f43a802e8",
   "metadata": {},
   "source": [
    "При сложение типа int с типом float получится тип float, например:"
   ]
  },
  {
   "cell_type": "code",
   "execution_count": 30,
   "id": "f9e4a81a-0486-4608-b462-61b786597635",
   "metadata": {
    "scrolled": true
   },
   "outputs": [
    {
     "name": "stdout",
     "output_type": "stream",
     "text": [
      "11.0\n"
     ]
    }
   ],
   "source": [
    "m_1 = 4\n",
    "n_1 = 7.0\n",
    "v_1 = n_1 + m_1\n",
    "print(v_1)"
   ]
  },
  {
   "cell_type": "markdown",
   "id": "04019845-4209-4132-ac24-ed50ebdf660c",
   "metadata": {},
   "source": [
    "Таким образом сложение двух целых чисел дает целое число, но если хотя бы один из операндов является числом с плавающей точкой, то и результат станет такого же типа."
   ]
  },
  {
   "cell_type": "markdown",
   "id": "6b980e7c-ab54-4765-9d2f-79472a0350bd",
   "metadata": {},
   "source": [
    "Вычитание:"
   ]
  },
  {
   "cell_type": "code",
   "execution_count": null,
   "id": "8705c399-6919-4972-9c87-6e5322a32d91",
   "metadata": {},
   "outputs": [],
   "source": []
  }
 ],
 "metadata": {
  "kernelspec": {
   "display_name": "Python 3 (ipykernel)",
   "language": "python",
   "name": "python3"
  },
  "language_info": {
   "codemirror_mode": {
    "name": "ipython",
    "version": 3
   },
   "file_extension": ".py",
   "mimetype": "text/x-python",
   "name": "python",
   "nbconvert_exporter": "python",
   "pygments_lexer": "ipython3",
   "version": "3.12.9"
  }
 },
 "nbformat": 4,
 "nbformat_minor": 5
}
