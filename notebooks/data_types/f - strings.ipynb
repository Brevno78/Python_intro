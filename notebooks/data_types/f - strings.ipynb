{
 "cells": [
  {
   "cell_type": "markdown",
   "id": "36145267-9078-4eda-a654-ae0b3aeeda7c",
   "metadata": {},
   "source": [
    "F-строки в Python (форматированные строковые литералы) — это строковые литералы, в которых перед открывающейся кавычкой стоит символ f."
   ]
  },
  {
   "cell_type": "markdown",
   "id": "26691c7d-5ce0-49e9-acde-381a70fc6002",
   "metadata": {},
   "source": [
    "Синтаксис аналогичен тому, который вы используете в str.format(), но не такой перегруженный."
   ]
  },
  {
   "cell_type": "code",
   "execution_count": 5,
   "id": "e7a6b73d-5993-44a7-9cb0-2ab1e8b432db",
   "metadata": {},
   "outputs": [
    {
     "name": "stdout",
     "output_type": "stream",
     "text": [
      "Hello Eric, you are 74\n"
     ]
    }
   ],
   "source": [
    "name = 'Eric'\n",
    "age = 74\n",
    "print(f'Hello {name}, you are {age}')"
   ]
  },
  {
   "cell_type": "markdown",
   "id": "54e5afec-7bf0-4259-bacb-a523f6d569c8",
   "metadata": {},
   "source": [
    "Так же можно использовать заглавную букву F."
   ]
  },
  {
   "cell_type": "code",
   "execution_count": 4,
   "id": "e38e781e-eb0d-4eb9-99d9-b1fa3e45ca3c",
   "metadata": {},
   "outputs": [
    {
     "name": "stdout",
     "output_type": "stream",
     "text": [
      "Hello Eric, you are 74\n"
     ]
    }
   ],
   "source": [
    "print(F'Hello {name}, you are {age}')"
   ]
  },
  {
   "cell_type": "markdown",
   "id": "e3aa4676-113b-481c-9ec3-da15eb9fefc4",
   "metadata": {},
   "source": [
    "Так как f-строки оцениваются по мере выражения, можно внести любую или все доступные выражения Python в них. Это позволит вам делать интересные вещи, например следующее:"
   ]
  },
  {
   "cell_type": "code",
   "execution_count": 6,
   "id": "3084329b-bb61-457f-bbc4-d980ef62e240",
   "metadata": {},
   "outputs": [
    {
     "name": "stdout",
     "output_type": "stream",
     "text": [
      " 90\n"
     ]
    }
   ],
   "source": [
    "print(f' {2 * 45}')"
   ]
  },
  {
   "cell_type": "markdown",
   "id": "9a2f29ec-249b-485d-b539-0c706d924c36",
   "metadata": {},
   "source": [
    "Также можно вызывать функции. Пример:"
   ]
  },
  {
   "cell_type": "code",
   "execution_count": 11,
   "id": "307aa828-0d7f-406a-82fb-ce6db16753e0",
   "metadata": {},
   "outputs": [
    {
     "name": "stdout",
     "output_type": "stream",
     "text": [
      "eric edle is funny\n"
     ]
    }
   ],
   "source": [
    "def to_lowercase(input):\n",
    "    return input.lower()\n",
    "\n",
    "name = 'Eric Edle'\n",
    "print(f'{to_lowercase(name)} is funny')"
   ]
  },
  {
   "cell_type": "markdown",
   "id": "d2e1a69c-2dd4-414d-8ebc-8e3b20fd9497",
   "metadata": {},
   "source": [
    "Так же можно вызвать метод напрямую:"
   ]
  },
  {
   "cell_type": "code",
   "execution_count": 12,
   "id": "8477429a-ccf0-458d-98e8-66c77d8417dd",
   "metadata": {},
   "outputs": [
    {
     "name": "stdout",
     "output_type": "stream",
     "text": [
      "eric edle is funny\n"
     ]
    }
   ],
   "source": [
    "print(f'{name.lower()} is funny')"
   ]
  },
  {
   "cell_type": "markdown",
   "id": "a68584fb-f5f3-4b8e-aef4-1407ab145010",
   "metadata": {},
   "source": [
    "Можно использовать объекты, созданные из классов при помощи f-строки. Представим, что у вас есть следующий класс:"
   ]
  },
  {
   "cell_type": "code",
   "execution_count": 32,
   "id": "729771c4-6788-497d-9877-8b416fd521c1",
   "metadata": {},
   "outputs": [],
   "source": [
    "class Comedian:\n",
    "    def __init__ (self, first_name, last_name, age):\n",
    "        self.first_name = first_name\n",
    "        self.last_name = last_name\n",
    "        self.age = age\n",
    "    def __str__(self):\n",
    "        return f'{self.first_name} {self.last_name} is {self.age}.'\n",
    "    \n",
    "    def __repr__(self):\n",
    "        return f'{self.first_name} {self.last_name} is {self.age}. Surprise!'"
   ]
  },
  {
   "cell_type": "markdown",
   "id": "3e6122a3-236b-4017-92a5-16649e50df9f",
   "metadata": {},
   "source": [
    "Вы могли бы сделать следующее:"
   ]
  },
  {
   "cell_type": "code",
   "execution_count": 22,
   "id": "efabc044-67b2-498b-b98c-07fc3369e634",
   "metadata": {},
   "outputs": [
    {
     "name": "stdout",
     "output_type": "stream",
     "text": [
      "Eric Edle is 75.\n"
     ]
    }
   ],
   "source": [
    "new_comedian = Comedian('Eric', 'Edle', '75')\n",
    "print(f'{new_comedian}')"
   ]
  },
  {
   "cell_type": "markdown",
   "id": "92d69967-79e7-4065-94f8-f670a70d6607",
   "metadata": {},
   "source": [
    "Методы __str__() и __repr__() работают с тем, как объекты отображаются в качестве строк, так что вам нужно убедиться в том, что вы используете один из этих методов в вашем определении класса. Если вы хотите выбрать один, попробуйте __repr__(), так как его можно использовать вместо __str__()."
   ]
  },
  {
   "cell_type": "markdown",
   "id": "a45fa006-52fe-40d1-ae1d-040e15857435",
   "metadata": {},
   "source": [
    "Строка, которая возвращается __str__() является неформальным строковым представлением объекта и должна быть читаемой. Строка, которую вернул __str__() — это официальное выражение и должно быть однозначным. При вызове str() и repr(), предпочтительнее использовать __str__() и __repr__() напрямую."
   ]
  },
  {
   "cell_type": "markdown",
   "id": "87e8abdb-9569-4fdf-8bae-e145a36ed54d",
   "metadata": {},
   "source": [
    "По умолчанию, f-строки будут использовать __str__(), но вы должны убедиться в том, что они используют __repr__(), если вы включаете флаг преобразования !r:"
   ]
  },
  {
   "cell_type": "code",
   "execution_count": 38,
   "id": "8de3dd34-213d-40ba-8370-945b454b104f",
   "metadata": {},
   "outputs": [
    {
     "name": "stdout",
     "output_type": "stream",
     "text": [
      "<__main__.Comedian object at 0x00000199B8126810>\n"
     ]
    }
   ],
   "source": [
    "print(f\"{new_comedian!r}\") \n",
    "# ВОПРОСЫ"
   ]
  }
 ],
 "metadata": {
  "kernelspec": {
   "display_name": "Python 3 (ipykernel)",
   "language": "python",
   "name": "python3"
  },
  "language_info": {
   "codemirror_mode": {
    "name": "ipython",
    "version": 3
   },
   "file_extension": ".py",
   "mimetype": "text/x-python",
   "name": "python",
   "nbconvert_exporter": "python",
   "pygments_lexer": "ipython3",
   "version": "3.12.9"
  }
 },
 "nbformat": 4,
 "nbformat_minor": 5
}
