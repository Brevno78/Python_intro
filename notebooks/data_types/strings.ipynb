{
 "cells": [
  {
   "cell_type": "markdown",
   "id": "1cf3ca37-5485-43d5-803a-63a0ab0e5761",
   "metadata": {},
   "source": [
    "# B"
   ]
  },
  {
   "cell_type": "markdown",
   "id": "579e1b29-f14a-433b-8d03-6230fc1c7453",
   "metadata": {},
   "source": [
    "Строки в python 3: методы, функции, форматирование"
   ]
  },
  {
   "cell_type": "markdown",
   "id": "bd2b309b-8757-40f2-8cf5-8f6de0086687",
   "metadata": {},
   "source": [
    "Строка в Python — это упорядоченная неизменяемая последовательность символов, используемые для хранения и представления текстовой информации"
   ]
  },
  {
   "cell_type": "markdown",
   "id": "6253e888-1c80-41ab-bff3-f4bc9dfc5592",
   "metadata": {},
   "source": [
    "Для определения строк Python позволяет использовать как одинарные, так и двойные кавычки"
   ]
  },
  {
   "cell_type": "markdown",
   "id": "61449d4b-1138-4373-8032-f78affe21878",
   "metadata": {},
   "source": [
    "Если строка длинная, её можно разбить на части и разместить их на разных строках кода. В этом случае вся строка заключается в круглые скобки, а её отдельные части — в кавычки."
   ]
  },
  {
   "cell_type": "markdown",
   "id": "5586aa2b-0aac-4794-8d1e-75c16df47f4b",
   "metadata": {},
   "source": [
    "Строковые операторы:\n"
   ]
  },
  {
   "cell_type": "markdown",
   "id": "e7affbbb-bb48-4bff-9c0f-43fe1e242f8e",
   "metadata": {},
   "source": [
    "Оператор сложения строк +:\n",
    "\"+\" — оператор конкатенации строк. Он возвращает строку, состоящую из других строк, как показано здесь:"
   ]
  },
  {
   "cell_type": "code",
   "execution_count": 6,
   "id": "41f1449e-5f41-487b-afe1-dbfde1a4a39d",
   "metadata": {},
   "outputs": [
    {
     "name": "stdout",
     "output_type": "stream",
     "text": [
      "Python\n"
     ]
    }
   ],
   "source": [
    "s = 'Py'\n",
    "t = 'th'\n",
    "r = 'on'\n",
    "str_1 = s + t + r\n",
    "print(str_1)"
   ]
  },
  {
   "cell_type": "markdown",
   "id": "960f2f0a-e626-4be9-8ce7-bff6a65f7b2b",
   "metadata": {},
   "source": [
    "Оператор умножения строк *"
   ]
  },
  {
   "cell_type": "markdown",
   "id": "e4ddf807-8ddf-4e53-8208-e4f76b0aab0a",
   "metadata": {},
   "source": [
    "\"*\" — оператор создает несколько копий строки. Если s это строка, а n целое число, любое из следующих выражений возвращает строку, состоящую из n объединенных копий s:\n"
   ]
  },
  {
   "cell_type": "code",
   "execution_count": 8,
   "id": "4a130af8-8a7d-4cde-8275-140fdda5d3e7",
   "metadata": {},
   "outputs": [
    {
     "name": "stdout",
     "output_type": "stream",
     "text": [
      "Py.Py.Py.Py.\n"
     ]
    }
   ],
   "source": [
    "s = 'Py.'\n",
    "b = s * 4\n",
    "print(b)"
   ]
  },
  {
   "cell_type": "markdown",
   "id": "3399c920-4694-45d4-9dfc-5e5dc0d5c603",
   "metadata": {},
   "source": [
    "Значение множителя n должно быть целым положительным числом. Оно может быть нулем или отрицательным, но этом случае результатом будет пустая строка:"
   ]
  },
  {
   "cell_type": "code",
   "execution_count": 9,
   "id": "39a2ce9d-227a-45c1-9302-a04064ffb6fc",
   "metadata": {},
   "outputs": [
    {
     "data": {
      "text/plain": [
       "''"
      ]
     },
     "execution_count": 9,
     "metadata": {},
     "output_type": "execute_result"
    }
   ],
   "source": [
    "'py' * -6 "
   ]
  },
  {
   "cell_type": "markdown",
   "id": "da24843e-4e30-4075-a7f5-b2e9a59e6a93",
   "metadata": {},
   "source": [
    "Оператор принадлежности подстроки in"
   ]
  },
  {
   "cell_type": "markdown",
   "id": "2d6d6012-2032-4947-b075-ea17ad88f2bf",
   "metadata": {},
   "source": [
    "Python также предоставляет оператор принадлежности, который можно использоваться для манипуляций со строками. Оператор in возвращает True, если подстрока входит в строку, и False, если нет:"
   ]
  },
  {
   "cell_type": "code",
   "execution_count": 15,
   "id": "17923d28-6dec-471c-a87b-803993c6dcfa",
   "metadata": {},
   "outputs": [
    {
     "data": {
      "text/plain": [
       "True"
      ]
     },
     "execution_count": 15,
     "metadata": {},
     "output_type": "execute_result"
    }
   ],
   "source": [
    "s = 'Python'\n",
    "s in 'i love Python.'\n",
    "True \n"
   ]
  },
  {
   "cell_type": "code",
   "execution_count": 16,
   "id": "dbb16de1-2fcc-4f36-b569-af379d009456",
   "metadata": {},
   "outputs": [
    {
     "data": {
      "text/plain": [
       "False"
      ]
     },
     "execution_count": 16,
     "metadata": {},
     "output_type": "execute_result"
    }
   ],
   "source": [
    "s in 'i love java.'\n",
    "False"
   ]
  },
  {
   "cell_type": "markdown",
   "id": "e24769d5-ee97-4955-97d7-7c6dc2c9c3a7",
   "metadata": {},
   "source": [
    "Есть также оператор not in, у которого обратная логика:"
   ]
  },
  {
   "cell_type": "code",
   "execution_count": 14,
   "id": "073acaa1-130c-489d-a1e1-115a8e9053aa",
   "metadata": {},
   "outputs": [
    {
     "data": {
      "text/plain": [
       "True"
      ]
     },
     "execution_count": 14,
     "metadata": {},
     "output_type": "execute_result"
    }
   ],
   "source": [
    "'z' not in 'abc'\n",
    "True"
   ]
  },
  {
   "cell_type": "code",
   "execution_count": 17,
   "id": "5d40f1e3-fda9-4a5d-9390-f30f56d82ca1",
   "metadata": {},
   "outputs": [
    {
     "data": {
      "text/plain": [
       "False"
      ]
     },
     "execution_count": 17,
     "metadata": {},
     "output_type": "execute_result"
    }
   ],
   "source": [
    "'z' not in 'xyz'\n",
    "False"
   ]
  },
  {
   "cell_type": "markdown",
   "id": "0ce44106-ea0b-4aa4-9792-5e9715be4d2a",
   "metadata": {},
   "source": [
    "Встроенные функции строк в python"
   ]
  },
  {
   "cell_type": "markdown",
   "id": "5e6c930c-5bd8-4388-9137-c4dac7ee0f62",
   "metadata": {},
   "source": [
    "Python предоставляет множество функций, которые встроены в интерпретатор. Вот несколько, которые работают со строками:"
   ]
  },
  {
   "attachments": {
    "8690e9d9-2466-4cde-b80f-96581b9c0cdf.png": {
     "image/png": "[encoded data removed]"
    }
   },
   "cell_type": "markdown",
   "id": "8e59511f-0b85-40b0-8e2d-708bf71f6aab",
   "metadata": {},
   "source": [
    "![image.png](attachment:8690e9d9-2466-4cde-b80f-96581b9c0cdf.png)"
   ]
  },
  {
   "cell_type": "markdown",
   "id": "5dbf9d3c-e5b1-468d-abe6-403d3a4f8e79",
   "metadata": {},
   "source": [
    "Функция ord(c) возвращает числовое значение для заданного символа."
   ]
  },
  {
   "cell_type": "markdown",
   "id": "d1aa6c8b-c0c7-4084-82a2-2c86ea48d64c",
   "metadata": {},
   "source": [
    "На базовом уровне компьютеры хранят всю информацию в виде цифр. Для представления символьных данных используется схема перевода, которая содержит каждый символ с его репрезентативным номером."
   ]
  },
  {
   "cell_type": "markdown",
   "id": "23dd54c3-4f17-427c-8a24-48cde120ce12",
   "metadata": {},
   "source": [
    "Самая простая схема в повседневном использовании называется ASCII . Она охватывает латинские символы, с которыми мы чаще работает. Для этих символов ord(c) возвращает значение ASCII для символа c:"
   ]
  },
  {
   "cell_type": "code",
   "execution_count": 19,
   "id": "dc557092-bc63-4da7-954a-79d59aa83e5d",
   "metadata": {},
   "outputs": [
    {
     "data": {
      "text/plain": [
       "97"
      ]
     },
     "execution_count": 19,
     "metadata": {},
     "output_type": "execute_result"
    }
   ],
   "source": [
    "ord('a')"
   ]
  },
  {
   "cell_type": "code",
   "execution_count": 20,
   "id": "e8034004-41f8-4a34-9373-9937fc688cd2",
   "metadata": {},
   "outputs": [
    {
     "data": {
      "text/plain": [
       "35"
      ]
     },
     "execution_count": 20,
     "metadata": {},
     "output_type": "execute_result"
    }
   ],
   "source": [
    "ord('#')"
   ]
  },
  {
   "cell_type": "markdown",
   "id": "477c5d99-6f0d-44da-8f2e-66e507ca9299",
   "metadata": {},
   "source": [
    "Полный набор символов, которые потенциально могут быть представлены в коде, намного больше обычных латинских букв, цифр и символом."
   ]
  },
  {
   "cell_type": "markdown",
   "id": "08b36cc9-2cec-48ed-b4d4-18e8b49d06ff",
   "metadata": {},
   "source": [
    "Unicode — это современный стандарт, который пытается предоставить числовой код для всех возможных символов, на всех возможных языках, на каждой возможной платформе. Python 3 поддерживает Unicode, в том числе позволяет использовать символы Unicode в строках."
   ]
  },
  {
   "cell_type": "markdown",
   "id": "f3fa4ef5-6189-4ce8-9d75-4348f0ba3f2c",
   "metadata": {},
   "source": [
    "Функция ord() также возвращает числовые значения для символов Юникода:"
   ]
  },
  {
   "cell_type": "code",
   "execution_count": 22,
   "id": "f248a059-7883-4bf2-9de1-97dfb3958b9e",
   "metadata": {},
   "outputs": [
    {
     "data": {
      "text/plain": [
       "8364"
      ]
     },
     "execution_count": 22,
     "metadata": {},
     "output_type": "execute_result"
    }
   ],
   "source": [
    "ord('€')"
   ]
  },
  {
   "cell_type": "code",
   "execution_count": 23,
   "id": "1d159e31-dd64-401c-ba2c-55ff859f7b1d",
   "metadata": {},
   "outputs": [
    {
     "data": {
      "text/plain": [
       "8721"
      ]
     },
     "execution_count": 23,
     "metadata": {},
     "output_type": "execute_result"
    }
   ],
   "source": [
    "ord('∑')"
   ]
  },
  {
   "cell_type": "markdown",
   "id": "26a6ab9a-da1d-4398-8d04-f392e1294c0d",
   "metadata": {},
   "source": [
    "Функция chr(n) возвращает символьное значение для данного целого числа."
   ]
  },
  {
   "cell_type": "markdown",
   "id": "0b7b0076-bac2-4ac4-b9dd-89f2aaeb694a",
   "metadata": {},
   "source": [
    "chr() действует обратно ord(). Если задано числовое значение n, chr(n) возвращает строку, представляющую символ n:"
   ]
  },
  {
   "cell_type": "code",
   "execution_count": 24,
   "id": "76afc601-1109-426d-8f7e-174318c98271",
   "metadata": {},
   "outputs": [
    {
     "data": {
      "text/plain": [
       "'a'"
      ]
     },
     "execution_count": 24,
     "metadata": {},
     "output_type": "execute_result"
    }
   ],
   "source": [
    "chr(97)"
   ]
  },
  {
   "cell_type": "code",
   "execution_count": 25,
   "id": "9a8d04c8-464a-4755-9371-c930c64dd4f7",
   "metadata": {},
   "outputs": [
    {
     "data": {
      "text/plain": [
       "'#'"
      ]
     },
     "execution_count": 25,
     "metadata": {},
     "output_type": "execute_result"
    }
   ],
   "source": [
    "chr(35)"
   ]
  },
  {
   "cell_type": "markdown",
   "id": "2d1054a3-e8c0-4ce1-be2f-a2e7888e7bb5",
   "metadata": {},
   "source": [
    "chr() также обрабатывает символы Юникода:"
   ]
  },
  {
   "cell_type": "code",
   "execution_count": 26,
   "id": "bb4b03ce-a39d-4146-87e5-ac16c4b0fcf4",
   "metadata": {},
   "outputs": [
    {
     "data": {
      "text/plain": [
       "'€'"
      ]
     },
     "execution_count": 26,
     "metadata": {},
     "output_type": "execute_result"
    }
   ],
   "source": [
    "chr(8364)"
   ]
  },
  {
   "cell_type": "code",
   "execution_count": 27,
   "id": "cb695eb2-8ae1-4d60-b198-bd06f8ea669d",
   "metadata": {},
   "outputs": [
    {
     "data": {
      "text/plain": [
       "'∑'"
      ]
     },
     "execution_count": 27,
     "metadata": {},
     "output_type": "execute_result"
    }
   ],
   "source": [
    "chr(8721)"
   ]
  },
  {
   "cell_type": "markdown",
   "id": "3c3c47d3-7cb4-4fea-a5c1-0dc49f731fb9",
   "metadata": {},
   "source": [
    "Функция len(s) возвращает длину строки."
   ]
  },
  {
   "cell_type": "code",
   "execution_count": 31,
   "id": "9a185fca-38b1-4a7d-90b4-8a3d4014b733",
   "metadata": {},
   "outputs": [
    {
     "data": {
      "text/plain": [
       "15"
      ]
     },
     "execution_count": 31,
     "metadata": {},
     "output_type": "execute_result"
    }
   ],
   "source": [
    "st = 'простая строка.'\n",
    "len(st)"
   ]
  },
  {
   "cell_type": "markdown",
   "id": "5a8eb069-0d55-41b5-a021-e2faf537669e",
   "metadata": {},
   "source": [
    "Функция str(obj) возвращает строковое представление объекта."
   ]
  },
  {
   "cell_type": "markdown",
   "id": "cc49a9c3-c3fb-4b12-9a84-8584d6c91cd1",
   "metadata": {},
   "source": [
    "Практически любой объект в Python может быть представлен как строка. str(obj) возвращает строковое представление объекта obj:"
   ]
  },
  {
   "cell_type": "code",
   "execution_count": 32,
   "id": "16397ef9-c4e7-440e-b3c4-72b9bb1278b5",
   "metadata": {},
   "outputs": [
    {
     "data": {
      "text/plain": [
       "'49.2'"
      ]
     },
     "execution_count": 32,
     "metadata": {},
     "output_type": "execute_result"
    }
   ],
   "source": [
    "str(49.2)"
   ]
  },
  {
   "cell_type": "code",
   "execution_count": 33,
   "id": "6f53757e-dd77-4153-bbee-94611c97e1e8",
   "metadata": {},
   "outputs": [
    {
     "data": {
      "text/plain": [
       "'(3+5j)'"
      ]
     },
     "execution_count": 33,
     "metadata": {},
     "output_type": "execute_result"
    }
   ],
   "source": [
    "str(3 + 5j)"
   ]
  },
  {
   "cell_type": "markdown",
   "id": "dad4bc08-d6aa-42cf-bb45-acf1b4f8e17c",
   "metadata": {},
   "source": [
    "Индексация строк"
   ]
  },
  {
   "cell_type": "markdown",
   "id": "6dda45d0-a71a-4439-8102-5ef94ecc6869",
   "metadata": {},
   "source": [
    "Часто в языках программирования, отдельные элементы в упорядоченном наборе данных могут быть доступны с помощью числового индекса или ключа. Этот процесс называется индексация."
   ]
  },
  {
   "cell_type": "markdown",
   "id": "d0cbb436-7383-4264-97a4-75cec36ae5ee",
   "metadata": {},
   "source": [
    "В Python строки являются упорядоченными последовательностями символьных данных и могут быть проиндексированы. Доступ к отдельным символам в строке можно получить, указав имя строки, за которым следует число в квадратных скобках []."
   ]
  },
  {
   "cell_type": "markdown",
   "id": "82032324-03ca-49c5-a63a-d1d30a337fb8",
   "metadata": {},
   "source": [
    "Индексация строк начинается с нуля: у первого символа индекс 0, следующего 1 и так далее. Индекс последнего символа в python — ‘‘длина строки минус один’’."
   ]
  },
  {
   "cell_type": "markdown",
   "id": "ed60cef7-420e-42af-9dab-6eaf48b1b757",
   "metadata": {},
   "source": [
    "Например, схематическое представление индексов строки 'foobar' выглядит следующим образом:"
   ]
  },
  {
   "attachments": {
    "4c688aca-5997-4437-9986-b0ce85738b6d.png": {
     "image/png": "[encoded data removed]"
    }
   },
   "cell_type": "markdown",
   "id": "a2fe5242-56c7-4a06-9296-63be72c9072f",
   "metadata": {},
   "source": [
    "![image.png](attachment:4c688aca-5997-4437-9986-b0ce85738b6d.png)"
   ]
  },
  {
   "cell_type": "markdown",
   "id": "679b5c62-1193-4557-acd4-0d5b71534c23",
   "metadata": {},
   "source": [
    "Отдельные символы доступны по индексу следующим образом:"
   ]
  },
  {
   "cell_type": "code",
   "execution_count": 36,
   "id": "1fae6d4b-1882-4f73-960f-72b61a18c61f",
   "metadata": {},
   "outputs": [
    {
     "data": {
      "text/plain": [
       "6"
      ]
     },
     "execution_count": 36,
     "metadata": {},
     "output_type": "execute_result"
    }
   ],
   "source": [
    "s1 = 'foobar'\n",
    "len(s1)"
   ]
  },
  {
   "cell_type": "code",
   "execution_count": 42,
   "id": "ba819e5f-a2e8-4159-9e2b-54c2efec9d2c",
   "metadata": {},
   "outputs": [
    {
     "name": "stdout",
     "output_type": "stream",
     "text": [
      "f\n",
      "o\n",
      "o\n",
      "b\n",
      "a\n",
      "r\n"
     ]
    }
   ],
   "source": [
    "print(s1[0])\n",
    "print(s1[1])\n",
    "print(s1[2])\n",
    "print(s1[3])\n",
    "print(s1[4])\n",
    "print(s1[5])"
   ]
  },
  {
   "cell_type": "markdown",
   "id": "d13c8a34-70b6-4c20-8ddc-052c3b212a99",
   "metadata": {},
   "source": [
    "Попытка обращения по индексу большему чем len(s) - 1, приводит к ошибке IndexError:"
   ]
  },
  {
   "attachments": {
    "3d7be954-8ad9-47ea-8089-53cd782e9730.png": {
     "image/png": "[encoded data removed]"
    }
   },
   "cell_type": "markdown",
   "id": "dbec2997-736f-4e28-946f-83c7352709da",
   "metadata": {},
   "source": [
    "![image.png](attachment:3d7be954-8ad9-47ea-8089-53cd782e9730.png)"
   ]
  },
  {
   "cell_type": "markdown",
   "id": "3192c228-0bd4-4ef9-98bd-0326fae983f6",
   "metadata": {},
   "source": [
    "Индексы строк также могут быть указаны отрицательными числами. В этом случае индексирование начинается с конца строки: -1 относится к последнему символу, -2 к предпоследнему и так далее. Вот такая же диаграмма, показывающая как положительные, так и отрицательные индексы строки 'foobar':"
   ]
  },
  {
   "attachments": {
    "74890d97-2dae-4e05-9214-140ffb786fd9.png": {
     "image/png": "[encoded data removed]"
    }
   },
   "cell_type": "markdown",
   "id": "3111e024-6fde-4775-9cdf-658c1a12b8f6",
   "metadata": {},
   "source": [
    "![image.png](attachment:74890d97-2dae-4e05-9214-140ffb786fd9.png)"
   ]
  },
  {
   "cell_type": "markdown",
   "id": "77f84e9c-eceb-44d1-b663-5be85ad3ccca",
   "metadata": {},
   "source": [
    "Вот несколько примеров отрицательного индексирования:"
   ]
  },
  {
   "cell_type": "code",
   "execution_count": 50,
   "id": "f242dffe-59f3-4afd-9879-7469e0cfa24d",
   "metadata": {},
   "outputs": [
    {
     "name": "stdout",
     "output_type": "stream",
     "text": [
      "r\n",
      "o\n",
      "f\n"
     ]
    }
   ],
   "source": [
    "s2 = 'foobar'\n",
    "print(s2[-1])\n",
    "print(s2[-5])\n",
    "print(s2[-len(s2)])"
   ]
  },
  {
   "cell_type": "markdown",
   "id": "23ad53c5-3494-4dc7-9864-97a0205ec409",
   "metadata": {},
   "source": [
    "Попытка обращения по индексу меньшему чем -len(s), приводит к ошибке IndexError:"
   ]
  },
  {
   "attachments": {
    "b4d90a26-4d60-4a84-8f77-c21350306468.png": {
     "image/png": "[encoded data removed]"
    }
   },
   "cell_type": "markdown",
   "id": "a2a80a27-42d9-499f-a960-6cbadb45a0fd",
   "metadata": {},
   "source": [
    "![image.png](attachment:b4d90a26-4d60-4a84-8f77-c21350306468.png)"
   ]
  },
  {
   "cell_type": "markdown",
   "id": "47f2f2ec-811b-4698-ae4c-3526d85869e2",
   "metadata": {},
   "source": [
    "Для любой непустой строки s, код s[len(s)-1] и s[-1] возвращают последний символ. Нет индекса, который применим к пустой строке."
   ]
  },
  {
   "cell_type": "markdown",
   "id": "5c4d0d3b-33ea-4c7e-b686-cf6f8918eda4",
   "metadata": {},
   "source": [
    "Срезы строк"
   ]
  },
  {
   "cell_type": "markdown",
   "id": "0cb69c39-dab9-4895-85c9-a917c0e49232",
   "metadata": {},
   "source": [
    "Python также допускает возможность извлечения подстроки из строки, известную как ‘‘string slice’’. Если s это строка, выражение формы s[m:n] возвращает часть s, начинающуюся с позиции m, и до позиции n, но не включая позицию:"
   ]
  },
  {
   "cell_type": "code",
   "execution_count": 53,
   "id": "40247b72-728d-4c38-a9a2-3c6e8c830113",
   "metadata": {},
   "outputs": [
    {
     "data": {
      "text/plain": [
       "'tho'"
      ]
     },
     "execution_count": 53,
     "metadata": {},
     "output_type": "execute_result"
    }
   ],
   "source": [
    "s = 'Python'\n",
    "s[2:5]"
   ]
  },
  {
   "attachments": {
    "17b1b7e8-cad2-4c90-9c2d-d34dcc608ffe.png": {
     "image/png": "[encoded data removed]"
    }
   },
   "cell_type": "markdown",
   "id": "219421e3-0aab-40e5-afd0-4a0acc99c0b9",
   "metadata": {},
   "source": [
    "![image.png](attachment:17b1b7e8-cad2-4c90-9c2d-d34dcc608ffe.png)"
   ]
  },
  {
   "cell_type": "markdown",
   "id": "f67a983e-cb11-4b5e-ba7f-65626aee8f21",
   "metadata": {},
   "source": [
    "Опять же, второй индекс указывает символ, который не включен в результат. Символ 'n' в приведенном выше примере. Это может показаться немного не интуитивным, но дает результат: выражение s[m:n] вернет подстроку, которая является разницей n - m, в данном случае 5 - 2 = 3."
   ]
  },
  {
   "cell_type": "markdown",
   "id": "e31495e7-687f-4cd9-b959-2160b9349a44",
   "metadata": {},
   "source": [
    "Если пропустить первый индекс, срез начинается с начала строки. Таким образом, s[:m] = s[0:m]:"
   ]
  },
  {
   "cell_type": "code",
   "execution_count": 55,
   "id": "5bd473fb-2a9f-4c63-be4a-6be0281758a5",
   "metadata": {},
   "outputs": [
    {
     "data": {
      "text/plain": [
       "'Pyth'"
      ]
     },
     "execution_count": 55,
     "metadata": {},
     "output_type": "execute_result"
    }
   ],
   "source": [
    "s[:4]"
   ]
  },
  {
   "cell_type": "code",
   "execution_count": 56,
   "id": "c6b68f24-9dc9-41ac-aeee-bb8918ce6965",
   "metadata": {},
   "outputs": [
    {
     "data": {
      "text/plain": [
       "'Pyth'"
      ]
     },
     "execution_count": 56,
     "metadata": {},
     "output_type": "execute_result"
    }
   ],
   "source": [
    "s[0:4]"
   ]
  },
  {
   "cell_type": "markdown",
   "id": "c48147d3-b86f-4fbd-919f-202b4eda59ce",
   "metadata": {},
   "source": [
    "Аналогично, если опустить второй индекс s[n:], срез длится от первого индекса до конца строки. Это хорошая, лаконичная альтернатива более громоздкой s[n:len(s)]:"
   ]
  },
  {
   "cell_type": "code",
   "execution_count": 57,
   "id": "0ee371c8-f237-40ab-a01a-60d736012aa5",
   "metadata": {},
   "outputs": [
    {
     "data": {
      "text/plain": [
       "'thon'"
      ]
     },
     "execution_count": 57,
     "metadata": {},
     "output_type": "execute_result"
    }
   ],
   "source": [
    "s[2:]"
   ]
  },
  {
   "cell_type": "code",
   "execution_count": 58,
   "id": "8c779bd5-882e-478d-aa45-b7e9cce8e7ad",
   "metadata": {},
   "outputs": [
    {
     "data": {
      "text/plain": [
       "'thon'"
      ]
     },
     "execution_count": 58,
     "metadata": {},
     "output_type": "execute_result"
    }
   ],
   "source": [
    "s[2: len(s)]"
   ]
  },
  {
   "cell_type": "markdown",
   "id": "84aaf9c1-2bf5-40b0-ba24-ea8c7906452c",
   "metadata": {},
   "source": [
    "Для любой строки s и любого целого n числа (0 ≤ n ≤ len(s)), s[:n] + s[n:]будет s:"
   ]
  },
  {
   "cell_type": "code",
   "execution_count": 59,
   "id": "075bd616-cbbb-4acc-ad98-ee213d491ddd",
   "metadata": {},
   "outputs": [
    {
     "data": {
      "text/plain": [
       "'Python'"
      ]
     },
     "execution_count": 59,
     "metadata": {},
     "output_type": "execute_result"
    }
   ],
   "source": [
    "s[:4] + s[4:]"
   ]
  },
  {
   "cell_type": "code",
   "execution_count": 62,
   "id": "7160770a-aa70-4b5b-9108-17d19b31e7a0",
   "metadata": {},
   "outputs": [
    {
     "data": {
      "text/plain": [
       "True"
      ]
     },
     "execution_count": 62,
     "metadata": {},
     "output_type": "execute_result"
    }
   ],
   "source": [
    "s[:4] + s[4:] == s"
   ]
  },
  {
   "cell_type": "markdown",
   "id": "9505853f-f723-4b94-8ca7-daf7070e7c1a",
   "metadata": {},
   "source": [
    "Пропуск обоих индексов возвращает исходную строку. Это не копия, это ссылка на исходную строку:"
   ]
  },
  {
   "cell_type": "code",
   "execution_count": 68,
   "id": "1929e954-05fc-4927-b8db-2c008e4b3051",
   "metadata": {},
   "outputs": [
    {
     "name": "stdout",
     "output_type": "stream",
     "text": [
      "2038657744112\n",
      "2038657744112\n"
     ]
    },
    {
     "data": {
      "text/plain": [
       "True"
      ]
     },
     "execution_count": 68,
     "metadata": {},
     "output_type": "execute_result"
    }
   ],
   "source": [
    "s = 'python'\n",
    "t = s[:]\n",
    "print(id(s))\n",
    "print(id(t))\n",
    "s is t "
   ]
  },
  {
   "cell_type": "markdown",
   "id": "3d65590d-642f-456c-844b-e7467cf9ae01",
   "metadata": {},
   "source": [
    "Если первый индекс в срезе больше или равен второму индексу, Python возвращает пустую строку. Это еще один не очевидный способ сгенерировать пустую строку, если вы его искали:"
   ]
  },
  {
   "cell_type": "code",
   "execution_count": 69,
   "id": "aab687de-fa6b-4310-8412-a16f4467a046",
   "metadata": {},
   "outputs": [
    {
     "data": {
      "text/plain": [
       "''"
      ]
     },
     "execution_count": 69,
     "metadata": {},
     "output_type": "execute_result"
    }
   ],
   "source": [
    "s[2:2]"
   ]
  },
  {
   "cell_type": "code",
   "execution_count": 70,
   "id": "99d5b7f0-ce79-4cc5-ac3e-f79faba62a35",
   "metadata": {},
   "outputs": [
    {
     "data": {
      "text/plain": [
       "''"
      ]
     },
     "execution_count": 70,
     "metadata": {},
     "output_type": "execute_result"
    }
   ],
   "source": [
    "s[4:2]"
   ]
  },
  {
   "cell_type": "markdown",
   "id": "5c494d58-9a42-4ad8-a636-f69bcfddb475",
   "metadata": {},
   "source": [
    "Отрицательные индексы можно использовать и со срезами. Вот пример кода Python:"
   ]
  },
  {
   "cell_type": "code",
   "execution_count": 71,
   "id": "5565a510-30c0-4c41-92e3-4bb39d11d422",
   "metadata": {},
   "outputs": [
    {
     "data": {
      "text/plain": [
       "'yth'"
      ]
     },
     "execution_count": 71,
     "metadata": {},
     "output_type": "execute_result"
    }
   ],
   "source": [
    "s[-5:-2]"
   ]
  },
  {
   "cell_type": "code",
   "execution_count": 72,
   "id": "144cc714-e8ab-410c-bf28-1d123ed78872",
   "metadata": {},
   "outputs": [
    {
     "data": {
      "text/plain": [
       "'yth'"
      ]
     },
     "execution_count": 72,
     "metadata": {},
     "output_type": "execute_result"
    }
   ],
   "source": [
    "s[1:4]"
   ]
  },
  {
   "cell_type": "code",
   "execution_count": 73,
   "id": "df3c83b1-85df-4a2a-a70f-b945c06e984f",
   "metadata": {},
   "outputs": [
    {
     "data": {
      "text/plain": [
       "True"
      ]
     },
     "execution_count": 73,
     "metadata": {},
     "output_type": "execute_result"
    }
   ],
   "source": [
    "s[-5:-2] == s[1:4]"
   ]
  },
  {
   "cell_type": "markdown",
   "id": "774a0365-c0ad-449a-bf24-a2d215054ac9",
   "metadata": {},
   "source": [
    "Шаг для среза строки\n",
    "- Существует еще один вариант синтаксиса среза, о котором стоит упомянуть. Добавление дополнительного : и третьего индекса означает шаг, который указывает, сколько символов следует пропустить после извлечения каждого символа в срезе."
   ]
  },
  {
   "cell_type": "markdown",
   "id": "7ca5ee05-0276-400e-9025-c8e018d31c8d",
   "metadata": {},
   "source": [
    "Например , для строки 'python' срез 0:6:2 начинается с первого символа и заканчивается последним символом (всей строкой), каждый второй символ пропускается. Это показано на следующей схеме:"
   ]
  },
  {
   "attachments": {
    "d3278d4f-e3fa-4739-9f96-3834fcaf03b9.png": {
     "image/png": "[encoded data removed]"
    }
   },
   "cell_type": "markdown",
   "id": "97143191-54f9-4a83-b796-7048c9d35f5a",
   "metadata": {},
   "source": [
    "![image.png](attachment:d3278d4f-e3fa-4739-9f96-3834fcaf03b9.png)"
   ]
  },
  {
   "cell_type": "code",
   "execution_count": 74,
   "id": "56d45283-530c-4afb-a266-7f3269d28387",
   "metadata": {},
   "outputs": [
    {
     "data": {
      "text/plain": [
       "'foa'"
      ]
     },
     "execution_count": 74,
     "metadata": {},
     "output_type": "execute_result"
    }
   ],
   "source": [
    "s = 'foobar'\n",
    "s[0:6:2]"
   ]
  },
  {
   "cell_type": "code",
   "execution_count": 75,
   "id": "546e3d97-b393-4490-a6cc-7919bed8ff60",
   "metadata": {},
   "outputs": [
    {
     "data": {
      "text/plain": [
       "'oa'"
      ]
     },
     "execution_count": 75,
     "metadata": {},
     "output_type": "execute_result"
    }
   ],
   "source": [
    "s[1:6:3]"
   ]
  },
  {
   "cell_type": "markdown",
   "id": "901640cf-a31b-4991-8092-7f4c15ed281c",
   "metadata": {},
   "source": [
    "Как и в случае с простым срезом, первый и второй индексы могут быть пропущены:"
   ]
  },
  {
   "cell_type": "code",
   "execution_count": 77,
   "id": "7787d138-6aaa-48c1-b74a-0f684bfc3607",
   "metadata": {},
   "outputs": [
    {
     "name": "stdout",
     "output_type": "stream",
     "text": [
      "1234512345123451234512345\n"
     ]
    }
   ],
   "source": [
    "s = '12345' * 5\n",
    "print(s)"
   ]
  },
  {
   "cell_type": "code",
   "execution_count": 78,
   "id": "3cb99c26-a66d-4097-9adb-761c19293f20",
   "metadata": {},
   "outputs": [
    {
     "data": {
      "text/plain": [
       "'11111'"
      ]
     },
     "execution_count": 78,
     "metadata": {},
     "output_type": "execute_result"
    }
   ],
   "source": [
    "s[::5]"
   ]
  },
  {
   "cell_type": "markdown",
   "id": "c4b417d8-2c7b-497b-9030-b3641a8935e3",
   "metadata": {},
   "source": [
    "Вы также можете указать отрицательное значение шага, в этом случае Python идет с конца строки. Начальный/первый индекс должен быть больше конечного/второго индекса:"
   ]
  },
  {
   "cell_type": "code",
   "execution_count": 80,
   "id": "9bf46839-b6f1-438c-b188-34f230802682",
   "metadata": {},
   "outputs": [
    {
     "data": {
      "text/plain": [
       "'nhy'"
      ]
     },
     "execution_count": 80,
     "metadata": {},
     "output_type": "execute_result"
    }
   ],
   "source": [
    "s = 'Python'\n",
    "s[5:0:-2]"
   ]
  },
  {
   "cell_type": "markdown",
   "id": "8eb25b32-3dc0-449d-957c-b4e70c637319",
   "metadata": {},
   "source": [
    "В приведенном выше примере, 5:0:-2 означает «начать с последнего символа и делать два шага назад, но не включая первый символ.”"
   ]
  },
  {
   "cell_type": "markdown",
   "id": "2d01a5bb-e370-4f69-bc55-24ab3702c3f9",
   "metadata": {},
   "source": [
    "Когда вы идете назад, если первый и второй индексы пропущены, значения по умолчанию применяются так: первый индекс — конец строки, а второй индекс — начало. Вот пример:"
   ]
  },
  {
   "cell_type": "code",
   "execution_count": 81,
   "id": "26dda25d-e947-485c-bcb1-4ee33a657c9f",
   "metadata": {},
   "outputs": [
    {
     "name": "stdout",
     "output_type": "stream",
     "text": [
      "1234512345123451234512345\n"
     ]
    }
   ],
   "source": [
    "s = '12345' * 5\n",
    "print(s)"
   ]
  },
  {
   "cell_type": "code",
   "execution_count": 82,
   "id": "0bef4e03-2c9b-46b3-bfe3-1d5a811004e5",
   "metadata": {},
   "outputs": [
    {
     "data": {
      "text/plain": [
       "'55555'"
      ]
     },
     "execution_count": 82,
     "metadata": {},
     "output_type": "execute_result"
    }
   ],
   "source": [
    "s[::-5]"
   ]
  },
  {
   "cell_type": "markdown",
   "id": "b0931494-3e98-4177-a0a5-0f70a4e5b9da",
   "metadata": {},
   "source": [
    "Это общая парадигма для разворота (reverse) строки:"
   ]
  },
  {
   "cell_type": "code",
   "execution_count": 88,
   "id": "20d776bb-991b-4196-aec2-3d7c9c6307e5",
   "metadata": {},
   "outputs": [
    {
     "data": {
      "text/plain": [
       "'.ьтсе и оно кат ,тичанз ,ноелопаН щиравот тировог кат илсЕ'"
      ]
     },
     "execution_count": 88,
     "metadata": {},
     "output_type": "execute_result"
    }
   ],
   "source": [
    "s = 'Если так говорит товарищ Наполеон, значит, так оно и есть.'\n",
    "s[::-1]"
   ]
  },
  {
   "cell_type": "markdown",
   "id": "885475f5-b7bf-425f-abdc-d020d283dcf5",
   "metadata": {},
   "source": [
    "Форматирование строки\n",
    "- В Python версии 3.6 был представлен новый способ форматирования строк. Эта функция официально названа литералом отформатированной строки, но обычно упоминается как f-string."
   ]
  },
  {
   "cell_type": "markdown",
   "id": "9a28a3de-0e37-43ef-83f4-a9c6a3151b6f",
   "metadata": {},
   "source": [
    "Одной простой особенностью f-строк, которые вы можете начать использовать сразу, является интерполяция переменной. Вы можете указать имя переменной непосредственно в f-строковом литерале (f'string'), и python заменит имя соответствующим значением."
   ]
  },
  {
   "cell_type": "markdown",
   "id": "6d4cec40-dec3-4bfd-a621-8805ce4a90a4",
   "metadata": {},
   "source": [
    "Например, предположим, что вы хотите отобразить результат арифметического вычисления. Это можно сделать с помощью простого print() и оператора ,, разделяющего числовые значения и строковые:"
   ]
  },
  {
   "cell_type": "code",
   "execution_count": 90,
   "id": "27b2825e-8679-487b-a073-854d133018ff",
   "metadata": {},
   "outputs": [
    {
     "name": "stdout",
     "output_type": "stream",
     "text": [
      "произведение 25 на 20 равно 500\n"
     ]
    }
   ],
   "source": [
    "m = 20\n",
    "n = 25\n",
    "prod = m * n\n",
    "print('произведение', n, 'на', m, 'равно', prod) "
   ]
  },
  {
   "cell_type": "markdown",
   "id": "8fef3b02-6f10-47b0-a24f-efa45aaa240f",
   "metadata": {},
   "source": [
    "Но это громоздко. Чтобы выполнить то же самое с помощью f-строки:"
   ]
  },
  {
   "cell_type": "markdown",
   "id": "10978070-4845-4040-aabf-10d59e9ee638",
   "metadata": {},
   "source": [
    "- Напишите f или F перед кавычками строки. Это укажет python, что это f-строка вместо стандартной.\n",
    "- Укажите любые переменные для воспроизведения в фигурных скобках ({})."
   ]
  },
  {
   "cell_type": "code",
   "execution_count": 94,
   "id": "ab520dd7-4bb1-4398-b38a-0adcf2792750",
   "metadata": {},
   "outputs": [
    {
     "name": "stdout",
     "output_type": "stream",
     "text": [
      " произведение 25 на 20 равно 500\n"
     ]
    }
   ],
   "source": [
    "print(f' произведение {n} на {m} равно {prod}')"
   ]
  },
  {
   "cell_type": "markdown",
   "id": "536429c9-5843-405f-a248-396e9630b287",
   "metadata": {},
   "source": [
    "Любой из трех типов кавычек в python можно использовать для f-строки:"
   ]
  },
  {
   "cell_type": "code",
   "execution_count": 103,
   "id": "2f609f59-5996-460e-8f3d-a0ab5c07b627",
   "metadata": {},
   "outputs": [
    {
     "name": "stdout",
     "output_type": "stream",
     "text": [
      " Cобака говорит Гав!\n",
      " Собака говорит Гав!\n",
      " Собака говорит Гав!\n"
     ]
    }
   ],
   "source": [
    "var = 'Гав'\n",
    "print(f' Cобака говорит {var}!')\n",
    "print(f\" Собака говорит {var}!\")\n",
    "print(f''' Собака говорит {var}!''')"
   ]
  },
  {
   "cell_type": "markdown",
   "id": "3a02cee4-dd48-46a9-b742-2c71484c4347",
   "metadata": {},
   "source": [
    "Изменение строк\n",
    "- Строки — один из типов данных, которые Python считает неизменяемыми, что означает невозможность их изменять. Как вы ниже увидите, python дает возможность изменять (заменять и перезаписывать) строки."
   ]
  },
  {
   "cell_type": "markdown",
   "id": "f93c66ca-b1fe-4c93-af33-1c440ef813ee",
   "metadata": {},
   "source": [
    "Такой синтаксис приведет к ошибке TypeError:"
   ]
  },
  {
   "attachments": {
    "a9879aaa-8c87-4d46-a395-53815ab272c0.png": {
     "image/png": "[encoded data removed]"
    }
   },
   "cell_type": "markdown",
   "id": "5aae3cf3-9446-425b-b4a8-e29c36846def",
   "metadata": {},
   "source": [
    "![image.png](attachment:a9879aaa-8c87-4d46-a395-53815ab272c0.png)"
   ]
  },
  {
   "cell_type": "markdown",
   "id": "acf0e2b2-7689-4810-ba8b-499ebff767b2",
   "metadata": {},
   "source": [
    "На самом деле нет особой необходимости изменять строки. Обычно вы можете легко сгенерировать копию исходной строки с необходимыми изменениями. Есть минимум 2 способа сделать это в python. Вот первый:"
   ]
  },
  {
   "cell_type": "code",
   "execution_count": 114,
   "id": "0f901bf2-21a6-4c75-9681-af4a4cb492fe",
   "metadata": {},
   "outputs": [
    {
     "name": "stdout",
     "output_type": "stream",
     "text": [
      "Pytton\n"
     ]
    }
   ],
   "source": [
    "s = 'Python'\n",
    "s = s[:3] + 't' + s[4:]\n",
    "print(s)"
   ]
  },
  {
   "cell_type": "markdown",
   "id": "b38ff9a7-6b1e-4a64-a253-ca20dda6b705",
   "metadata": {},
   "source": [
    "Есть встроенный метод string.replace(x, y):"
   ]
  },
  {
   "cell_type": "code",
   "execution_count": 115,
   "id": "72c5c6d2-5595-498a-9326-5ceedb85d6af",
   "metadata": {},
   "outputs": [
    {
     "name": "stdout",
     "output_type": "stream",
     "text": [
      "Pytton\n"
     ]
    }
   ],
   "source": [
    "s = 'Python'\n",
    "s = s.replace('h', 't')\n",
    "print(s)"
   ]
  },
  {
   "cell_type": "markdown",
   "id": "e9fc1a6e-0cc4-4940-8fc1-45bb736d4904",
   "metadata": {},
   "source": [
    "Встроенные методы строк в python\n",
    "- Методы похожи на функции. Метод — специализированный тип вызываемой процедуры, тесно связанный с объектом. Как и функция, метод вызывается для выполнения отдельной задачи, но он вызывается только вместе с определенным объектом и знает о нем во время выполнения.\n",
    "- Синтаксис для вызова метода объекта выглядит следующим образом:"
   ]
  },
  {
   "attachments": {
    "647fce9e-8550-4a4f-a7ee-432442d96b44.png": {
     "image/png": "[encoded data removed]"
    }
   },
   "cell_type": "markdown",
   "id": "e8985c6d-ba3b-4711-8da5-fbd40943d77b",
   "metadata": {},
   "source": [
    "![image.png](attachment:647fce9e-8550-4a4f-a7ee-432442d96b44.png)"
   ]
  },
  {
   "cell_type": "markdown",
   "id": "47f89e6a-f012-40ce-8443-6e77749c5938",
   "metadata": {},
   "source": [
    "В приведенных методах аргументы, указанные в квадратных скобках ([]), являются необязательными."
   ]
  },
  {
   "cell_type": "markdown",
   "id": "d2bf8eff-0ad2-42c6-9991-75fc01da4ed0",
   "metadata": {},
   "source": [
    "Изменение регистра строки\n",
    "- Методы этой группы выполняют преобразование регистра строки."
   ]
  },
  {
   "cell_type": "markdown",
   "id": "3b291acc-3613-4c8f-8438-47feaaf5bf3d",
   "metadata": {},
   "source": [
    "string.capitalize() приводит первую букву в верхний регистр, остальные в нижний."
   ]
  },
  {
   "cell_type": "code",
   "execution_count": 127,
   "id": "3442357a-b14a-49ad-b398-967841e01fb7",
   "metadata": {},
   "outputs": [
    {
     "data": {
      "text/plain": [
       "'Everything you can imagine is real'"
      ]
     },
     "execution_count": 127,
     "metadata": {},
     "output_type": "execute_result"
    }
   ],
   "source": [
    "a = 'everyTHing yoU Can IMaGine is rEAl'\n",
    "a.capitalize()"
   ]
  },
  {
   "cell_type": "markdown",
   "id": "e1b56e3a-f19e-4f97-a954-ebf40a180ec9",
   "metadata": {},
   "source": [
    "Не алфавитные символы не изменяются:"
   ]
  },
  {
   "cell_type": "code",
   "execution_count": 128,
   "id": "2111eb64-5e8a-49aa-881e-a5fa08605119",
   "metadata": {},
   "outputs": [
    {
     "data": {
      "text/plain": [
       "'Follow us @python'"
      ]
     },
     "execution_count": 128,
     "metadata": {},
     "output_type": "execute_result"
    }
   ],
   "source": [
    "s = 'follow us @PYTHON'\n",
    "s.capitalize()"
   ]
  },
  {
   "cell_type": "markdown",
   "id": "c1069b24-2634-4990-9b6c-dcaa390811c6",
   "metadata": {},
   "source": [
    "string.lower() преобразует все буквенные символы в строчные."
   ]
  },
  {
   "cell_type": "code",
   "execution_count": 129,
   "id": "cea80342-6dc6-4964-afc3-6d1ae15de28d",
   "metadata": {},
   "outputs": [
    {
     "data": {
      "text/plain": [
       "'everything you can imagine is real'"
      ]
     },
     "execution_count": 129,
     "metadata": {},
     "output_type": "execute_result"
    }
   ],
   "source": [
    "v = 'everyTHing yoU Can IMaGine is rEAl'\n",
    "v.lower()"
   ]
  },
  {
   "cell_type": "markdown",
   "id": "9ab34373-8007-4e5e-82cb-4543b7cd7b88",
   "metadata": {},
   "source": [
    "string.swapcase() меняет регистр буквенных символов на противоположный."
   ]
  },
  {
   "cell_type": "code",
   "execution_count": 130,
   "id": "7a6736fc-544e-4474-97b0-2277bfb4b063",
   "metadata": {},
   "outputs": [
    {
     "data": {
      "text/plain": [
       "'EVERYthING YOu cAN imAgINE IS ReaL'"
      ]
     },
     "execution_count": 130,
     "metadata": {},
     "output_type": "execute_result"
    }
   ],
   "source": [
    "v1 = 'everyTHing yoU Can IMaGine is rEAl'\n",
    "v1.swapcase()"
   ]
  },
  {
   "cell_type": "markdown",
   "id": "1ae22ee2-f7c6-44aa-aeeb-7ca36b4b63dc",
   "metadata": {},
   "source": [
    "string.title() преобразует первые буквы всех слов в заглавные"
   ]
  },
  {
   "cell_type": "code",
   "execution_count": 131,
   "id": "50ce527e-ae7c-4e63-8464-f45773a462d8",
   "metadata": {},
   "outputs": [
    {
     "data": {
      "text/plain": [
       "'Everything You Can Imagine Is Real'"
      ]
     },
     "execution_count": 131,
     "metadata": {},
     "output_type": "execute_result"
    }
   ],
   "source": [
    "v2 = 'everyTHing yoU Can IMaGine is rEAl'\n",
    "v2.title()"
   ]
  },
  {
   "cell_type": "markdown",
   "id": "0d208896-1ddc-4947-bf64-1681c5ad31e8",
   "metadata": {},
   "source": [
    "string.upper() преобразует все буквенные символы в заглавные."
   ]
  },
  {
   "cell_type": "code",
   "execution_count": 132,
   "id": "ceef5f02-da64-4ac4-8957-e7dfac5cd809",
   "metadata": {},
   "outputs": [
    {
     "data": {
      "text/plain": [
       "'EVERYTHING YOU CAN IMAGINE IS REAL'"
      ]
     },
     "execution_count": 132,
     "metadata": {},
     "output_type": "execute_result"
    }
   ],
   "source": [
    "v3 = 'everyTHing yoU Can IMaGine is rEAl'\n",
    "v3.upper()"
   ]
  },
  {
   "cell_type": "markdown",
   "id": "acbdeef6-d506-4a31-880a-0d37bbf11f5b",
   "metadata": {},
   "source": [
    "Найти и заменить подстроку в строке\n",
    "- Эти методы предоставляют различные способы поиска в целевой строке указанной подстроки\n",
    "- Каждый метод в этой группе поддерживает необязательные аргументы \"start\" и \"end\" аргументы. Они задают диапазон поиска: действие метода ограничено частью целевой строки, начинающейся в позиции символа \"start\" и продолжающейся вплоть до позиции символа \"end\", но не включая его. Если \"start\" указано, а \"end\" нет, метод применяется к части строки от \"start\" конца."
   ]
  },
  {
   "cell_type": "markdown",
   "id": "831b17b6-6fdd-4045-8f35-ab1064778ded",
   "metadata": {},
   "source": [
    "string.count(\"sub\"[, \"start\"[, \"end\"]]) подсчитывает количество вхождений подстроки в строку."
   ]
  },
  {
   "cell_type": "code",
   "execution_count": 135,
   "id": "c87ee794-a487-4fc9-a88d-d235877fe10c",
   "metadata": {},
   "outputs": [
    {
     "data": {
      "text/plain": [
       "2"
      ]
     },
     "execution_count": 135,
     "metadata": {},
     "output_type": "execute_result"
    }
   ],
   "source": [
    "a1 = 'foo goo moo'\n",
    "a1.count('oo')\n",
    "# Количество вхождений изменится, если указать <start> и <end>:\n",
    "a1.count('oo', 0, 8)"
   ]
  },
  {
   "cell_type": "markdown",
   "id": "901db437-0417-4974-bbc0-26416c3d10f8",
   "metadata": {},
   "source": [
    "string.endswith('suffix'[, 'start'[, 'end>']) определяет, заканчивается ли строка заданной подстрокой."
   ]
  },
  {
   "cell_type": "code",
   "execution_count": 137,
   "id": "77a5cc7c-8ba6-4305-9726-6bcb3623dceb",
   "metadata": {},
   "outputs": [
    {
     "data": {
      "text/plain": [
       "True"
      ]
     },
     "execution_count": 137,
     "metadata": {},
     "output_type": "execute_result"
    }
   ],
   "source": [
    "t = 'Python'\n",
    "t.endswith('on')"
   ]
  },
  {
   "cell_type": "code",
   "execution_count": 138,
   "id": "9998ced2-6a18-41f6-8b71-928b45bec246",
   "metadata": {},
   "outputs": [
    {
     "data": {
      "text/plain": [
       "False"
      ]
     },
     "execution_count": 138,
     "metadata": {},
     "output_type": "execute_result"
    }
   ],
   "source": [
    "t.endswith('or')"
   ]
  },
  {
   "cell_type": "markdown",
   "id": "1577995a-f986-443b-9972-1e2ffc33df1b",
   "metadata": {},
   "source": [
    "Сравнение ограничено подстрокой, между 'start' и 'end', если они указаны:"
   ]
  },
  {
   "cell_type": "code",
   "execution_count": 146,
   "id": "f9200a26-b632-4e5b-ba90-7da13e42c354",
   "metadata": {},
   "outputs": [
    {
     "data": {
      "text/plain": [
       "True"
      ]
     },
     "execution_count": 146,
     "metadata": {},
     "output_type": "execute_result"
    }
   ],
   "source": [
    "'python'.endswith('yt', 0, 3)"
   ]
  },
  {
   "cell_type": "code",
   "execution_count": 147,
   "id": "13bb5845-5de3-4457-a1bd-d565b6c72b53",
   "metadata": {},
   "outputs": [
    {
     "data": {
      "text/plain": [
       "False"
      ]
     },
     "execution_count": 147,
     "metadata": {},
     "output_type": "execute_result"
    }
   ],
   "source": [
    "'Python'.endswith('er', 0, 3)"
   ]
  },
  {
   "cell_type": "markdown",
   "id": "aec4b8d8-2c76-42f6-a2de-0a577628997c",
   "metadata": {},
   "source": [
    "string.find('sub'[, 'start'[, 'end']) ищет в строке заданную подстроку."
   ]
  },
  {
   "cell_type": "code",
   "execution_count": 148,
   "id": "86d7c072-0818-4cbf-95c0-f1522a77a69b",
   "metadata": {},
   "outputs": [
    {
     "data": {
      "text/plain": [
       "3"
      ]
     },
     "execution_count": 148,
     "metadata": {},
     "output_type": "execute_result"
    }
   ],
   "source": [
    "g = 'Follow Us @Python'\n",
    "g.find('low')"
   ]
  },
  {
   "cell_type": "markdown",
   "id": "7b9ca3db-2588-4008-97da-bcf8e1c2e68a",
   "metadata": {},
   "source": [
    "Этот метод возвращает, -1 если указанная подстрока не найдена:"
   ]
  },
  {
   "cell_type": "code",
   "execution_count": 149,
   "id": "8d10706c-e193-4de0-9074-576153f75d39",
   "metadata": {},
   "outputs": [
    {
     "data": {
      "text/plain": [
       "-1"
      ]
     },
     "execution_count": 149,
     "metadata": {},
     "output_type": "execute_result"
    }
   ],
   "source": [
    "'Follow Us @Python'.find('you')"
   ]
  },
  {
   "cell_type": "markdown",
   "id": "d49bfc3d-dc08-452b-8b53-aab6b5d4f1ec",
   "metadata": {},
   "source": [
    "Поиск в строке ограничивается подстрокой, между 'start' и 'end', если они указаны:"
   ]
  },
  {
   "cell_type": "code",
   "execution_count": 150,
   "id": "8451754c-af2a-407c-a8e6-a8a30fcfb869",
   "metadata": {},
   "outputs": [
    {
     "data": {
      "text/plain": [
       "7"
      ]
     },
     "execution_count": 150,
     "metadata": {},
     "output_type": "execute_result"
    }
   ],
   "source": [
    "'Follow Us @Python'.find('Us', 4)"
   ]
  },
  {
   "cell_type": "code",
   "execution_count": 151,
   "id": "8443c9c7-cb08-4c81-8a35-58e30230392f",
   "metadata": {},
   "outputs": [
    {
     "data": {
      "text/plain": [
       "-1"
      ]
     },
     "execution_count": 151,
     "metadata": {},
     "output_type": "execute_result"
    }
   ],
   "source": [
    "'Follow Us @Python'.find('Us', 4, 7)"
   ]
  },
  {
   "cell_type": "markdown",
   "id": "ff292585-f833-4248-9b6e-96c3b4638eef",
   "metadata": {},
   "source": [
    "string.index('sub'[, 'start'[, 'end']]) ищет в строке заданную подстроку.\n",
    "- Этот метод идентичен .find(), за исключением того, что он вызывает исключение ValueError, если 'sub' не найден:"
   ]
  },
  {
   "attachments": {
    "1ecfdfe8-3ffc-46be-8ee8-3420899cc222.png": {
     "image/png": "[encoded data removed]"
    }
   },
   "cell_type": "markdown",
   "id": "b28e9cc4-f25f-4ed9-9555-873793ac3501",
   "metadata": {},
   "source": [
    "![image.png](attachment:1ecfdfe8-3ffc-46be-8ee8-3420899cc222.png)"
   ]
  },
  {
   "cell_type": "markdown",
   "id": "b6a92886-b44c-41c2-922d-15f85f0a2599",
   "metadata": {},
   "source": [
    "string.rfind('sub'[, 'start'[, 'end']]) ищет в строке заданную подстроку, начиная с конца"
   ]
  },
  {
   "cell_type": "code",
   "execution_count": 153,
   "id": "a3b433dd-b30d-4ef1-b350-1f8db0021939",
   "metadata": {},
   "outputs": [
    {
     "data": {
      "text/plain": [
       "15"
      ]
     },
     "execution_count": 153,
     "metadata": {},
     "output_type": "execute_result"
    }
   ],
   "source": [
    "'Follow Us @Python'.rfind('o')"
   ]
  },
  {
   "cell_type": "markdown",
   "id": "5ab1e4b2-56a5-4d38-b3cd-41db9310ef4e",
   "metadata": {},
   "source": [
    "Как и в .find(), если подстрока не найдена, возвращается -1:"
   ]
  },
  {
   "cell_type": "code",
   "execution_count": 154,
   "id": "330768c4-0041-43d8-8d81-8a1fd3a8c1ba",
   "metadata": {},
   "outputs": [
    {
     "data": {
      "text/plain": [
       "-1"
      ]
     },
     "execution_count": 154,
     "metadata": {},
     "output_type": "execute_result"
    }
   ],
   "source": [
    "'Follow Us @Python'.rfind('a')"
   ]
  },
  {
   "cell_type": "markdown",
   "id": "c0ddd25d-19ef-4eff-80a7-f8b903d994c2",
   "metadata": {},
   "source": [
    "Поиск в строке ограничивается подстрокой, между 'start' и 'end', если они указаны:"
   ]
  },
  {
   "cell_type": "code",
   "execution_count": 156,
   "id": "6f582898-ff29-45e4-b374-2d71546c7d3f",
   "metadata": {},
   "outputs": [
    {
     "data": {
      "text/plain": [
       "7"
      ]
     },
     "execution_count": 156,
     "metadata": {},
     "output_type": "execute_result"
    }
   ],
   "source": [
    "'Follow Us @Python'.rfind('Us', 0, 14)"
   ]
  },
  {
   "cell_type": "code",
   "execution_count": 157,
   "id": "7b8168c5-7946-4987-ab13-f4469b9df8ed",
   "metadata": {},
   "outputs": [
    {
     "data": {
      "text/plain": [
       "-1"
      ]
     },
     "execution_count": 157,
     "metadata": {},
     "output_type": "execute_result"
    }
   ],
   "source": [
    "'Follow Us @Python'.rfind('Us', 9, 14)"
   ]
  },
  {
   "cell_type": "markdown",
   "id": "df36e202-d9e0-4b93-8087-095d5233b5e1",
   "metadata": {},
   "source": [
    "string.rindex('sub'[, 'start'[, 'end']]) ищет в строке заданную подстроку, начиная с конца."
   ]
  },
  {
   "cell_type": "markdown",
   "id": "a90f6713-d2d5-468c-a4cc-a52736be05c0",
   "metadata": {},
   "source": [
    "Этот метод идентичен .rfind(), за исключением того, что он вызывает исключение ValueError, если 'sub' не найден:"
   ]
  },
  {
   "attachments": {
    "05018480-7cf8-4dbf-b14e-2ec9e2de94df.png": {
     "image/png": "[encoded data removed]"
    }
   },
   "cell_type": "markdown",
   "id": "00f48495-fcbe-42ab-b8de-ccaa119ef545",
   "metadata": {},
   "source": [
    "![image.png](attachment:05018480-7cf8-4dbf-b14e-2ec9e2de94df.png)"
   ]
  },
  {
   "cell_type": "markdown",
   "id": "22b843e7-068f-4685-829b-7a4534d7e77a",
   "metadata": {},
   "source": [
    "string.startswith('prefix'[, 'start'[, 'end']]) определяет, начинается ли строка с заданной подстроки\n",
    "- s.startswith('suffix') возвращает, True если s начинается с указанного 'suffix' и False если нет:"
   ]
  },
  {
   "cell_type": "code",
   "execution_count": 160,
   "id": "323894b7-3d9a-42b2-8681-61a19b6835c0",
   "metadata": {},
   "outputs": [
    {
     "data": {
      "text/plain": [
       "True"
      ]
     },
     "execution_count": 160,
     "metadata": {},
     "output_type": "execute_result"
    }
   ],
   "source": [
    "g2 = 'Follow Us @Python'\n",
    "g2.startswith('Fo')"
   ]
  },
  {
   "cell_type": "code",
   "execution_count": 161,
   "id": "e863c898-fe94-48d4-9873-a6dfd7128daa",
   "metadata": {},
   "outputs": [
    {
     "data": {
      "text/plain": [
       "False"
      ]
     },
     "execution_count": 161,
     "metadata": {},
     "output_type": "execute_result"
    }
   ],
   "source": [
    "g2.startswith('yo')"
   ]
  },
  {
   "cell_type": "markdown",
   "id": "c14c4240-8f34-4a5f-99c1-57c4538f49eb",
   "metadata": {},
   "source": [
    "Сравнение ограничено подстрокой, между 'start' и 'end', если они указаны:"
   ]
  },
  {
   "cell_type": "code",
   "execution_count": 162,
   "id": "bdfb6bc8-3966-4a75-ae6e-dff913398a20",
   "metadata": {},
   "outputs": [
    {
     "data": {
      "text/plain": [
       "True"
      ]
     },
     "execution_count": 162,
     "metadata": {},
     "output_type": "execute_result"
    }
   ],
   "source": [
    "'Follow Us @Python'.startswith('Us', 7)"
   ]
  },
  {
   "cell_type": "code",
   "execution_count": 163,
   "id": "73dd6d2d-d156-4e94-8086-7cbf99762df2",
   "metadata": {},
   "outputs": [
    {
     "data": {
      "text/plain": [
       "False"
      ]
     },
     "execution_count": 163,
     "metadata": {},
     "output_type": "execute_result"
    }
   ],
   "source": [
    "'Follow Us @Python'.startswith('Us', 8, 16)"
   ]
  },
  {
   "cell_type": "markdown",
   "id": "10ff86ee-0958-4484-aa10-b58056e082ad",
   "metadata": {},
   "source": [
    "Классификация строк"
   ]
  },
  {
   "cell_type": "markdown",
   "id": "a13a6cae-286d-4388-abcd-b21c39118ae1",
   "metadata": {},
   "source": [
    "Методы в этой группе классифицируют строку на основе символов, которые она содержит."
   ]
  },
  {
   "cell_type": "markdown",
   "id": "efa0d542-ab60-4aee-8583-49e15ca6ea74",
   "metadata": {},
   "source": [
    "string.isalnum() определяет, состоит ли строка из букв и цифр.\n",
    "- s.isalnum() возвращает True, если строка s не пустая, а все ее символы буквенно-цифровые (либо буква, либо цифра). В другом случае False :"
   ]
  },
  {
   "cell_type": "code",
   "execution_count": 2,
   "id": "5255eb10-712e-46c1-9d4e-a908b15ba704",
   "metadata": {},
   "outputs": [
    {
     "data": {
      "text/plain": [
       "True"
      ]
     },
     "execution_count": 2,
     "metadata": {},
     "output_type": "execute_result"
    }
   ],
   "source": [
    "a2 = 'ABCD123'\n",
    "a2.isalnum()"
   ]
  },
  {
   "cell_type": "code",
   "execution_count": 3,
   "id": "e2572227-47cf-4f52-869b-5a7354cdd34e",
   "metadata": {},
   "outputs": [
    {
     "data": {
      "text/plain": [
       "False"
      ]
     },
     "execution_count": 3,
     "metadata": {},
     "output_type": "execute_result"
    }
   ],
   "source": [
    "a3 = 'abcd@34'\n",
    "a3.isalnum()"
   ]
  },
  {
   "cell_type": "markdown",
   "id": "8ebc5e56-fda9-4072-966a-aeec1c400ead",
   "metadata": {},
   "source": [
    "string.isalpha() определяет, состоит ли строка только из букв."
   ]
  },
  {
   "cell_type": "markdown",
   "id": "e58cfe1f-099f-4614-a118-f5dd52ee441f",
   "metadata": {},
   "source": [
    "s.isalpha() возвращает True, если строка s не пустая, а все ее символы буквенные. В другом случае False:"
   ]
  },
  {
   "cell_type": "code",
   "execution_count": 5,
   "id": "779d9481-1d8b-4be9-bd95-13c39d2cb4be",
   "metadata": {},
   "outputs": [
    {
     "data": {
      "text/plain": [
       "True"
      ]
     },
     "execution_count": 5,
     "metadata": {},
     "output_type": "execute_result"
    }
   ],
   "source": [
    "'ABCabc'.isalpha()"
   ]
  },
  {
   "cell_type": "code",
   "execution_count": 6,
   "id": "85c460b4-e0ef-4d5b-bde2-175961561f1d",
   "metadata": {},
   "outputs": [
    {
     "data": {
      "text/plain": [
       "False"
      ]
     },
     "execution_count": 6,
     "metadata": {},
     "output_type": "execute_result"
    }
   ],
   "source": [
    "'abc123'.isalpha()"
   ]
  },
  {
   "cell_type": "markdown",
   "id": "09026a86-5ed5-4a71-a0d5-74d940b30626",
   "metadata": {},
   "source": [
    "string.isdigit() определяет, состоит ли строка из цифр (проверка на число)."
   ]
  },
  {
   "cell_type": "markdown",
   "id": "e087890f-b415-4798-9317-80812f81d4dd",
   "metadata": {},
   "source": [
    "s.digit() возвращает True когда строка s не пустая и все ее символы являются цифрами, а в False если нет:"
   ]
  },
  {
   "cell_type": "code",
   "execution_count": 7,
   "id": "8ca0a3ba-b420-4879-bbf1-01b81fa37edf",
   "metadata": {},
   "outputs": [
    {
     "data": {
      "text/plain": [
       "True"
      ]
     },
     "execution_count": 7,
     "metadata": {},
     "output_type": "execute_result"
    }
   ],
   "source": [
    "'123'.isdigit()"
   ]
  },
  {
   "cell_type": "code",
   "execution_count": 8,
   "id": "c0c6fcf0-1a63-475b-b36f-fe6ec960dcab",
   "metadata": {},
   "outputs": [
    {
     "data": {
      "text/plain": [
       "False"
      ]
     },
     "execution_count": 8,
     "metadata": {},
     "output_type": "execute_result"
    }
   ],
   "source": [
    "'123abc'.isdigit()"
   ]
  },
  {
   "cell_type": "markdown",
   "id": "689f4482-5adf-4045-b332-d079f7599d1b",
   "metadata": {},
   "source": [
    "string.isidentifier() определяет, является ли строка допустимым идентификатором Python."
   ]
  },
  {
   "cell_type": "markdown",
   "id": "ba19c43e-4dc1-4b2f-aad1-104cd907a1fc",
   "metadata": {},
   "source": [
    "s.isidentifier() возвращает True, если s валидный идентификатор (название переменной, функции, класса и т.д.) python, а в False если нет:"
   ]
  },
  {
   "cell_type": "code",
   "execution_count": 9,
   "id": "3c895689-99ea-401c-a94e-44c672340a26",
   "metadata": {},
   "outputs": [
    {
     "data": {
      "text/plain": [
       "True"
      ]
     },
     "execution_count": 9,
     "metadata": {},
     "output_type": "execute_result"
    }
   ],
   "source": [
    "'foo32'.isidentifier()"
   ]
  },
  {
   "cell_type": "code",
   "execution_count": 10,
   "id": "0974639d-6ad1-40a5-b0fa-a35bf5966c23",
   "metadata": {},
   "outputs": [
    {
     "data": {
      "text/plain": [
       "False"
      ]
     },
     "execution_count": 10,
     "metadata": {},
     "output_type": "execute_result"
    }
   ],
   "source": [
    "'32foo'.isidentifier()"
   ]
  },
  {
   "cell_type": "code",
   "execution_count": 11,
   "id": "ecbfd275-dfc4-43b4-90e0-82f89a58a5f6",
   "metadata": {},
   "outputs": [
    {
     "data": {
      "text/plain": [
       "False"
      ]
     },
     "execution_count": 11,
     "metadata": {},
     "output_type": "execute_result"
    }
   ],
   "source": [
    "'foo$32'.isidentifier()"
   ]
  },
  {
   "cell_type": "markdown",
   "id": "60e2e918-b7ef-4eaa-82a6-1dab15760789",
   "metadata": {},
   "source": [
    "Важно: .isidentifier() вернет True для строки, которая соответствует зарезервированному ключевому слову python, даже если его нельзя использовать:"
   ]
  },
  {
   "cell_type": "code",
   "execution_count": 12,
   "id": "ad10ddee-6b01-454f-bc8c-c31d13ca11d5",
   "metadata": {},
   "outputs": [
    {
     "data": {
      "text/plain": [
       "True"
      ]
     },
     "execution_count": 12,
     "metadata": {},
     "output_type": "execute_result"
    }
   ],
   "source": [
    "'and'.isidentifier()"
   ]
  },
  {
   "cell_type": "markdown",
   "id": "93d5b3f8-e88b-409d-af36-91892245c1d8",
   "metadata": {},
   "source": [
    "Вы можете проверить, является ли строка ключевым словом Python, используя функцию iskeyword(), которая находится в модуле keyword. Один из возможных способов сделать это:"
   ]
  },
  {
   "cell_type": "code",
   "execution_count": 13,
   "id": "d8f070b8-659e-463e-950d-5b9d400b7d43",
   "metadata": {},
   "outputs": [
    {
     "data": {
      "text/plain": [
       "True"
      ]
     },
     "execution_count": 13,
     "metadata": {},
     "output_type": "execute_result"
    }
   ],
   "source": [
    "from keyword import iskeyword\n",
    "iskeyword('and')"
   ]
  },
  {
   "cell_type": "markdown",
   "id": "e4c40d3c-8801-48a7-8ef5-47b2e5e12886",
   "metadata": {},
   "source": [
    "Если вы действительно хотите убедиться, что строку можно использовать как идентификатор python, вы должны проверить, что .isidentifier() = True и iskeyword() = False."
   ]
  },
  {
   "cell_type": "markdown",
   "id": "6558403a-9970-47b0-8777-98e431fc2f72",
   "metadata": {},
   "source": [
    "string.islower() определяет, являются ли буквенные символы строки строчными."
   ]
  },
  {
   "cell_type": "markdown",
   "id": "12263b6f-4326-41b6-b696-e6e9971743e3",
   "metadata": {},
   "source": [
    "s.islower() возвращает True, если строка s не пустая, и все содержащиеся в нем буквенные символы строчные, а False если нет. Не алфавитные символы игнорируются:"
   ]
  },
  {
   "cell_type": "code",
   "execution_count": 14,
   "id": "00b089d2-a65d-466f-87f3-4b1061eb2773",
   "metadata": {},
   "outputs": [
    {
     "data": {
      "text/plain": [
       "True"
      ]
     },
     "execution_count": 14,
     "metadata": {},
     "output_type": "execute_result"
    }
   ],
   "source": [
    "'abc'.islower()"
   ]
  },
  {
   "cell_type": "code",
   "execution_count": 15,
   "id": "007d4689-e31f-47cc-bd8a-9fa1d4ca5afa",
   "metadata": {},
   "outputs": [
    {
     "data": {
      "text/plain": [
       "True"
      ]
     },
     "execution_count": 15,
     "metadata": {},
     "output_type": "execute_result"
    }
   ],
   "source": [
    "'abc23'.islower()"
   ]
  },
  {
   "cell_type": "code",
   "execution_count": 16,
   "id": "e3d08d99-23ca-4eef-9100-1a785cb8ae7a",
   "metadata": {},
   "outputs": [
    {
     "data": {
      "text/plain": [
       "False"
      ]
     },
     "execution_count": 16,
     "metadata": {},
     "output_type": "execute_result"
    }
   ],
   "source": [
    "'Abc'.islower()"
   ]
  },
  {
   "cell_type": "markdown",
   "id": "e1111a8f-cf5b-477d-803c-f41d827d4f21",
   "metadata": {},
   "source": [
    "string.isprintable() определяет, состоит ли строка только из печатаемых символов.\n",
    "- s.isprintable() возвращает, True если строка s пустая или все буквенные символы которые она содержит можно вывести на экран. Возвращает, False если s содержит хотя бы один специальный символ. Не алфавитные символы игнорируются:"
   ]
  },
  {
   "cell_type": "code",
   "execution_count": 18,
   "id": "55343b34-5f01-42ed-bcdf-a9ece3282131",
   "metadata": {},
   "outputs": [
    {
     "data": {
      "text/plain": [
       "False"
      ]
     },
     "execution_count": 18,
     "metadata": {},
     "output_type": "execute_result"
    }
   ],
   "source": [
    "'a\\tb'.isprintable()\n",
    "# \\t - символ табуляции"
   ]
  },
  {
   "cell_type": "code",
   "execution_count": 19,
   "id": "a1c567e2-ecdb-4730-8110-78e05a98fccf",
   "metadata": {},
   "outputs": [
    {
     "data": {
      "text/plain": [
       "True"
      ]
     },
     "execution_count": 19,
     "metadata": {},
     "output_type": "execute_result"
    }
   ],
   "source": [
    "'a b'.isprintable()"
   ]
  },
  {
   "cell_type": "code",
   "execution_count": 20,
   "id": "a0c688f2-9b84-48a2-815c-1c30da2237b0",
   "metadata": {},
   "outputs": [
    {
     "data": {
      "text/plain": [
       "True"
      ]
     },
     "execution_count": 20,
     "metadata": {},
     "output_type": "execute_result"
    }
   ],
   "source": [
    "''.isprintable"
   ]
  },
  {
   "cell_type": "code",
   "execution_count": 23,
   "id": "5950b9b8-06e4-4fbb-9494-726d07d2a112",
   "metadata": {},
   "outputs": [
    {
     "data": {
      "text/plain": [
       "False"
      ]
     },
     "execution_count": 23,
     "metadata": {},
     "output_type": "execute_result"
    }
   ],
   "source": [
    "'a\\nb'.isprintable()\n",
    "# \\n - символ перевода строки"
   ]
  },
  {
   "cell_type": "markdown",
   "id": "d4c93291-d4cb-4744-8610-2f51d8637575",
   "metadata": {},
   "source": [
    "Важно: Это единственный .is****() метод, который возвращает True, если s пустая строка. Все остальные возвращаются False."
   ]
  },
  {
   "cell_type": "markdown",
   "id": "aadc8140-3b02-4fa8-b176-625c9e48acfc",
   "metadata": {},
   "source": [
    "string.isspace() определяет, состоит ли строка только из пробельных символов."
   ]
  },
  {
   "cell_type": "markdown",
   "id": "98677cec-e72e-4e48-8163-2c6d47952dee",
   "metadata": {},
   "source": [
    "s.isspace() возвращает True, если s не пустая строка, и все символы являются пробельными, а False, если нет."
   ]
  },
  {
   "cell_type": "markdown",
   "id": "a253434a-cd50-4070-b472-90f0a76daa72",
   "metadata": {},
   "source": [
    "Наиболее часто встречающиеся пробельные символы — это пробел ' ', табуляция '\\t' и новая строка '\\n':"
   ]
  },
  {
   "cell_type": "code",
   "execution_count": 24,
   "id": "906896fc-25eb-4db7-ba45-232bcbc4e50f",
   "metadata": {},
   "outputs": [
    {
     "data": {
      "text/plain": [
       "True"
      ]
     },
     "execution_count": 24,
     "metadata": {},
     "output_type": "execute_result"
    }
   ],
   "source": [
    "' \\t  \\n '.isspace()"
   ]
  },
  {
   "cell_type": "code",
   "execution_count": 25,
   "id": "6af14ae5-3552-4f1e-a94f-276fd8da3338",
   "metadata": {},
   "outputs": [
    {
     "data": {
      "text/plain": [
       "False"
      ]
     },
     "execution_count": 25,
     "metadata": {},
     "output_type": "execute_result"
    }
   ],
   "source": [
    "' a '.isspace()"
   ]
  },
  {
   "cell_type": "markdown",
   "id": "cfe9c4d8-9ce5-4296-9ae5-b77fc6c2888b",
   "metadata": {},
   "source": [
    "Тем не менее есть несколько символов ASCII, которые считаются пробелами. И если учитывать символы Юникода, их еще больше:"
   ]
  },
  {
   "cell_type": "code",
   "execution_count": 26,
   "id": "4bded80b-b479-490d-9dc6-c0ae82a3f5a9",
   "metadata": {},
   "outputs": [
    {
     "data": {
      "text/plain": [
       "True"
      ]
     },
     "execution_count": 26,
     "metadata": {},
     "output_type": "execute_result"
    }
   ],
   "source": [
    "'\\f\\u2005\\r'.isspace()"
   ]
  },
  {
   "cell_type": "markdown",
   "id": "d483c694-81c5-4f6f-8ce8-436f6290110d",
   "metadata": {},
   "source": [
    "'\\f' и '\\r' являются escape-последовательностями для символов ASCII; '\\u2005' это escape-последовательность для Unicode."
   ]
  },
  {
   "cell_type": "markdown",
   "id": "0cc9f2f2-68ae-4633-8e3d-b6e06c51a180",
   "metadata": {},
   "source": [
    "string.istitle() определяет, начинаются ли слова строки с заглавной буквы."
   ]
  },
  {
   "cell_type": "markdown",
   "id": "1eac9793-cff6-4f51-86f1-969383b1d385",
   "metadata": {},
   "source": [
    "s.istitle() возвращает True когда s не пустая строка и первый алфавитный символ каждого слова в верхнем регистре, а все остальные буквенные символы в каждом слове строчные. Возвращает False, если нет:"
   ]
  },
  {
   "cell_type": "code",
   "execution_count": 27,
   "id": "155fda14-7697-43c9-8ff3-bc72542847c9",
   "metadata": {},
   "outputs": [
    {
     "data": {
      "text/plain": [
       "True"
      ]
     },
     "execution_count": 27,
     "metadata": {},
     "output_type": "execute_result"
    }
   ],
   "source": [
    "'This Is A Title'.istitle()"
   ]
  },
  {
   "cell_type": "code",
   "execution_count": 28,
   "id": "4f52208a-3545-4229-9281-3b4c20923510",
   "metadata": {},
   "outputs": [
    {
     "data": {
      "text/plain": [
       "False"
      ]
     },
     "execution_count": 28,
     "metadata": {},
     "output_type": "execute_result"
    }
   ],
   "source": [
    "'This is a title'.istitle()"
   ]
  },
  {
   "cell_type": "code",
   "execution_count": 29,
   "id": "54b06ef8-d640-41ae-a76c-aaf7103ff11c",
   "metadata": {},
   "outputs": [
    {
     "data": {
      "text/plain": [
       "True"
      ]
     },
     "execution_count": 29,
     "metadata": {},
     "output_type": "execute_result"
    }
   ],
   "source": [
    "'Give Me The #$#@ Ball!'.istitle()"
   ]
  },
  {
   "cell_type": "markdown",
   "id": "938011b9-7365-44c8-9ad0-dc06162e1473",
   "metadata": {},
   "source": [
    "string.isupper() определяет, являются ли буквенные символы строки заглавными"
   ]
  },
  {
   "cell_type": "markdown",
   "id": "fd34b611-0891-4873-b015-88c67e616ca9",
   "metadata": {},
   "source": [
    "s.isupper() возвращает True, если строка s не пустая, и все содержащиеся в ней буквенные символы являются заглавными, и в False, если нет. Не алфавитные символы игнорируются:"
   ]
  },
  {
   "cell_type": "code",
   "execution_count": 30,
   "id": "501c3145-0616-4a7d-83b2-8a249eb268ec",
   "metadata": {},
   "outputs": [
    {
     "data": {
      "text/plain": [
       "True"
      ]
     },
     "execution_count": 30,
     "metadata": {},
     "output_type": "execute_result"
    }
   ],
   "source": [
    "'ABC'.isupper()"
   ]
  },
  {
   "cell_type": "code",
   "execution_count": 31,
   "id": "7676ad5d-c26f-458b-9882-209f0bea79d5",
   "metadata": {},
   "outputs": [
    {
     "data": {
      "text/plain": [
       "True"
      ]
     },
     "execution_count": 31,
     "metadata": {},
     "output_type": "execute_result"
    }
   ],
   "source": [
    "'ABC1$D'.isupper()"
   ]
  },
  {
   "cell_type": "code",
   "execution_count": 32,
   "id": "0b09345f-b4b9-4bbe-bb77-40f6cf3766d1",
   "metadata": {},
   "outputs": [
    {
     "data": {
      "text/plain": [
       "False"
      ]
     },
     "execution_count": 32,
     "metadata": {},
     "output_type": "execute_result"
    }
   ],
   "source": [
    "'Abc1$D'.isupper()"
   ]
  },
  {
   "cell_type": "markdown",
   "id": "859a2880-a600-48f6-8d81-739a9118b78d",
   "metadata": {},
   "source": [
    "Выравнивание строк, отступы"
   ]
  },
  {
   "cell_type": "markdown",
   "id": "b79d039d-db02-4c3b-b457-8071324978ff",
   "metadata": {},
   "source": [
    "Методы в этой группе влияют на вывод строки."
   ]
  },
  {
   "cell_type": "markdown",
   "id": "57fc1388-454f-4c72-9582-61dd71103342",
   "metadata": {},
   "source": [
    "string.center('width'[, 'fill']) выравнивает строку по центру."
   ]
  },
  {
   "cell_type": "markdown",
   "id": "dbdcfef7-7a0b-49c4-a4c6-b5cc8dd468ae",
   "metadata": {},
   "source": [
    "s.center('width') возвращает строку, состоящую из s выровненной по ширине 'width'. По умолчанию отступ состоит из пробела ASCII:\n",
    "\n"
   ]
  },
  {
   "cell_type": "code",
   "execution_count": 34,
   "id": "5dbf0113-f498-4c13-9a9c-e48083693bf1",
   "metadata": {},
   "outputs": [
    {
     "data": {
      "text/plain": [
       "'            py           '"
      ]
     },
     "execution_count": 34,
     "metadata": {},
     "output_type": "execute_result"
    }
   ],
   "source": [
    "'py'.center(25)"
   ]
  },
  {
   "cell_type": "markdown",
   "id": "eb0b1085-cb17-40ff-a112-741632a33f25",
   "metadata": {},
   "source": [
    "Если указан необязательный аргумент 'fill', он используется как символ заполнения:"
   ]
  },
  {
   "cell_type": "code",
   "execution_count": 45,
   "id": "2f0c4ccf-e42d-4965-9d74-cedcfef275aa",
   "metadata": {},
   "outputs": [
    {
     "data": {
      "text/plain": [
       "'------------py------------'"
      ]
     },
     "execution_count": 45,
     "metadata": {},
     "output_type": "execute_result"
    }
   ],
   "source": [
    "'py'.center(26, '-')"
   ]
  },
  {
   "cell_type": "markdown",
   "id": "8082a6e3-4331-46f8-90be-af6b560a778c",
   "metadata": {},
   "source": [
    "Если s больше или равна 'width', строка возвращается без изменений:"
   ]
  },
  {
   "cell_type": "code",
   "execution_count": 44,
   "id": "10ece2a3-ac0b-47e8-91f1-c1a92834cae1",
   "metadata": {},
   "outputs": [
    {
     "data": {
      "text/plain": [
       "'python'"
      ]
     },
     "execution_count": 44,
     "metadata": {},
     "output_type": "execute_result"
    }
   ],
   "source": [
    "'python'.center(4)"
   ]
  },
  {
   "cell_type": "markdown",
   "id": "9a9d5585-f18f-42b6-8fd8-888f61ec84e3",
   "metadata": {},
   "source": [
    "string.expandtabs(tabsize=8) заменяет табуляции на пробелы"
   ]
  },
  {
   "cell_type": "markdown",
   "id": "f620d328-5a63-45a3-9b7d-eddba2a9303d",
   "metadata": {},
   "source": [
    "s.expandtabs() заменяет каждый символ табуляции ('\\t') пробелами. По умолчанию табуляция заменяются на 8 пробелов:"
   ]
  },
  {
   "cell_type": "code",
   "execution_count": 46,
   "id": "f92b795b-9d6c-477d-932d-2e98c44f62dd",
   "metadata": {},
   "outputs": [
    {
     "data": {
      "text/plain": [
       "'a       b       c'"
      ]
     },
     "execution_count": 46,
     "metadata": {},
     "output_type": "execute_result"
    }
   ],
   "source": [
    "'a\\tb\\tc'.expandtabs()"
   ]
  },
  {
   "cell_type": "code",
   "execution_count": 47,
   "id": "07d6511d-0a6e-4127-9bde-4a1a28f6c1fa",
   "metadata": {},
   "outputs": [
    {
     "data": {
      "text/plain": [
       "'aaa     bbb     c'"
      ]
     },
     "execution_count": 47,
     "metadata": {},
     "output_type": "execute_result"
    }
   ],
   "source": [
    "'aaa\\tbbb\\tc'.expandtabs()"
   ]
  },
  {
   "cell_type": "markdown",
   "id": "72c83172-fdce-4d53-9fc9-27773a62a76d",
   "metadata": {},
   "source": [
    "tabsize необязательный параметр, задающий количество пробелов:"
   ]
  },
  {
   "cell_type": "code",
   "execution_count": 49,
   "id": "bbddad74-f956-44e9-b89a-7c1f36b249f5",
   "metadata": {},
   "outputs": [
    {
     "data": {
      "text/plain": [
       "'a         b         c'"
      ]
     },
     "execution_count": 49,
     "metadata": {},
     "output_type": "execute_result"
    }
   ],
   "source": [
    "'a\\tb\\tc'.expandtabs(10)"
   ]
  },
  {
   "cell_type": "code",
   "execution_count": 53,
   "id": "0dba1272-3b7f-42f7-9dd4-23be4b8b6f90",
   "metadata": {},
   "outputs": [
    {
     "data": {
      "text/plain": [
       "'aaa                 bbb                 c'"
      ]
     },
     "execution_count": 53,
     "metadata": {},
     "output_type": "execute_result"
    }
   ],
   "source": [
    "'aaa\\tbbb\\tc'.expandtabs(tabsize = 20)"
   ]
  },
  {
   "cell_type": "markdown",
   "id": "23922b0f-d06d-491b-8250-cc3174429531",
   "metadata": {},
   "source": [
    "string.ljust('width'[, 'fill']) выравнивание по левому краю строки в поле."
   ]
  },
  {
   "cell_type": "markdown",
   "id": "bf60caa0-0e2f-48fa-87b8-743f3248e92c",
   "metadata": {},
   "source": [
    "s.ljust('width') возвращает строку s, выравненную по левому краю в поле шириной 'width'. По умолчанию отступ состоит из пробела ASCII:"
   ]
  },
  {
   "cell_type": "code",
   "execution_count": 60,
   "id": "5790bc98-2631-4ce6-ae25-376e15a40017",
   "metadata": {},
   "outputs": [
    {
     "data": {
      "text/plain": [
       "'python----'"
      ]
     },
     "execution_count": 60,
     "metadata": {},
     "output_type": "execute_result"
    }
   ],
   "source": [
    "'python'.ljust(10, '-')"
   ]
  },
  {
   "cell_type": "markdown",
   "id": "6be6d381-3357-49ec-b950-030907b7198a",
   "metadata": {},
   "source": [
    "Если указан аргумент 'fill' , он используется как символ заполнения"
   ]
  },
  {
   "cell_type": "markdown",
   "id": "46732b32-2ca0-4b57-ab6b-7de019baa518",
   "metadata": {},
   "source": [
    "Если s больше или равна 'width', строка возвращается без изменений:"
   ]
  },
  {
   "cell_type": "markdown",
   "id": "6f5c9ecc-fbff-41e6-95d6-ac544a29dd3e",
   "metadata": {},
   "source": [
    "string.lstrip(['chars']) обрезает пробельные символы слева"
   ]
  },
  {
   "cell_type": "markdown",
   "id": "2268caa4-cd64-4eba-be10-85fb490b2c3e",
   "metadata": {},
   "source": [
    "s.lstrip()возвращает копию s в которой все пробельные символы с левого края удалены:"
   ]
  },
  {
   "cell_type": "code",
   "execution_count": 61,
   "id": "052e3a9f-5a0f-488d-b407-4695a19eca6c",
   "metadata": {},
   "outputs": [
    {
     "data": {
      "text/plain": [
       "'foo bar baz   '"
      ]
     },
     "execution_count": 61,
     "metadata": {},
     "output_type": "execute_result"
    }
   ],
   "source": [
    "'   foo bar baz   '.lstrip()"
   ]
  },
  {
   "cell_type": "code",
   "execution_count": 62,
   "id": "0a51e8e6-885d-410c-a952-9e7031781aeb",
   "metadata": {},
   "outputs": [
    {
     "data": {
      "text/plain": [
       "'foo\\t\\nbar\\t\\nbaz'"
      ]
     },
     "execution_count": 62,
     "metadata": {},
     "output_type": "execute_result"
    }
   ],
   "source": [
    "'\\t\\nfoo\\t\\nbar\\t\\nbaz'.lstrip()"
   ]
  },
  {
   "cell_type": "markdown",
   "id": "932d0c62-efe0-447f-bdda-6d8a5112bc4a",
   "metadata": {},
   "source": [
    "Необязательный аргумент 'chars', определяет набор символов, которые будут удалены:"
   ]
  },
  {
   "cell_type": "code",
   "execution_count": null,
   "id": "44012592-d5e4-4310-a892-a317e850b91c",
   "metadata": {},
   "outputs": [
    {
     "data": {
      "text/plain": [
       "'www.pythonru.com'"
      ]
     },
     "execution_count": 64,
     "metadata": {},
     "output_type": "execute_result"
    }
   ],
   "source": [
    "'https://www.pythonru.com'.lstrip('/https://')"
   ]
  }
 ],
 "metadata": {
  "kernelspec": {
   "display_name": "Python 3 (ipykernel)",
   "language": "python",
   "name": "python3"
  },
  "language_info": {
   "codemirror_mode": {
    "name": "ipython",
    "version": 3
   },
   "file_extension": ".py",
   "mimetype": "text/x-python",
   "name": "python",
   "nbconvert_exporter": "python",
   "pygments_lexer": "ipython3",
   "version": "3.12.9"
  }
 },
 "nbformat": 4,
 "nbformat_minor": 5
}
