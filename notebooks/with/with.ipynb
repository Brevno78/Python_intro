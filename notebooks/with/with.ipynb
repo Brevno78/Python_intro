{
 "cells": [
  {
   "cell_type": "code",
   "execution_count": null,
   "id": "9a61f2b8-4de6-4151-89bd-a528588eaf07",
   "metadata": {},
   "outputs": [],
   "source": []
  }
 ],
 "metadata": {
  "kernelspec": {
   "display_name": "",
   "name": ""
  },
  "language_info": {
   "name": ""
  }
 },
 "nbformat": 4,
 "nbformat_minor": 5
}
