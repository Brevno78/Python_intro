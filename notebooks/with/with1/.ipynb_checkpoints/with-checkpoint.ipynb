{
 "cells": [
  {
   "cell_type": "code",
   "execution_count": 5,
   "id": "3903c5a6-d926-4841-b52e-0b468b56ed12",
   "metadata": {},
   "outputs": [],
   "source": [
    "import os"
   ]
  },
  {
   "cell_type": "markdown",
   "id": "49970f5c-d875-426a-86b6-197fc1f9bffc",
   "metadata": {},
   "source": [
    "Конструкция with open(...) as f: в Python — это менеджер контекста, который обеспечивает безопасное открытие и автоматическое закрытие файла, даже если при работе с ним произойдёт ошибк"
   ]
  },
  {
   "cell_type": "markdown",
   "id": "919a6991-e76d-4ea5-9ebd-8fc5a2f02570",
   "metadata": {},
   "source": [
    " Основное назначение\n",
    "Открывает файл и гарантирует его закрытие после использования.\n",
    "\n",
    "Упрощает код (не нужно вручную вызывать f.close()).\n",
    "\n",
    "Защищает от утечки ресурсов (например, если программа упадёт при чтении файла)."
   ]
  },
  {
   "cell_type": "markdown",
   "id": "b825abbe-cfef-4066-8f6f-558f5a98afde",
   "metadata": {},
   "source": [
    "🔹 Синтаксис"
   ]
  },
  {
   "attachments": {
    "e6f93282-9a5c-4441-84c5-4560fa033700.png": {
     "image/png": "[encoded data removed]"
    }
   },
   "cell_type": "markdown",
   "id": "8ae74ca3-9f86-4033-8447-06dfc228cc0e",
   "metadata": {},
   "source": [
    "![image.png](attachment:e6f93282-9a5c-4441-84c5-4560fa033700.png)"
   ]
  },
  {
   "cell_type": "markdown",
   "id": "b3d5869e-1633-4ec8-9e83-ddc21d18b72c",
   "metadata": {},
   "source": [
    "Параметры open()\n",
    "Путь к файлу (строка).\n",
    "\n",
    "Режим работы (опционально, по умолчанию 'r' — чтение):\n",
    "\n",
    "'r' — чтение (текстовый режим).\n",
    "\n",
    "'w' — запись (перезаписывает файл).\n",
    "\n",
    "'a' — дозапись в конец файла.\n",
    "\n",
    "'b' — бинарный режим (например, 'rb' для чтения изображений).\n",
    "\n",
    "'+' — чтение + запись (например, 'r+')."
   ]
  },
  {
   "cell_type": "markdown",
   "id": "f3347531-916d-4abb-bc7e-2fc6c5610abe",
   "metadata": {},
   "source": [
    "1. Чтение файла ('r')"
   ]
  },
  {
   "cell_type": "code",
   "execution_count": 56,
   "id": "89525ac9-4c5e-4798-8f5f-919714f9f6e9",
   "metadata": {},
   "outputs": [
    {
     "name": "stdout",
     "output_type": "stream",
     "text": [
      "sfsdafgsadfg\n"
     ]
    }
   ],
   "source": [
    "with open('file_for_with/filewith1.xlsx', \"r\") as f: # только чтение\n",
    "        content = f.read()  # Читает весь файл\n",
    "print(content)"
   ]
  },
  {
   "cell_type": "markdown",
   "id": "246c1ac0-8c4a-48b3-953e-3d521dcc7ca7",
   "metadata": {},
   "source": [
    "Использую try except если файла нет"
   ]
  },
  {
   "cell_type": "code",
   "execution_count": 64,
   "id": "8c5ee66c-ca5c-474f-a4a9-3eb39f0b9f42",
   "metadata": {},
   "outputs": [
    {
     "name": "stdout",
     "output_type": "stream",
     "text": [
      "Файл не найден\n"
     ]
    }
   ],
   "source": [
    "try:\n",
    "    with open('file_for_with/flewith10.xlsx', 'r') as f: # только чтение\n",
    "        content = f.read()\n",
    "except:\n",
    "    print('Файл не найден')"
   ]
  },
  {
   "cell_type": "markdown",
   "id": "cbdc228f-b51f-48fa-8f75-5e8bca7354ad",
   "metadata": {},
   "source": [
    " Задача 2: Запись в файл"
   ]
  },
  {
   "cell_type": "code",
   "execution_count": 89,
   "id": "14f09670-a632-45d0-85a4-1e06e96460ec",
   "metadata": {},
   "outputs": [
    {
     "name": "stdout",
     "output_type": "stream",
     "text": [
      "<_io.TextIOWrapper name='file_for_with/filewith5.txt' mode='w' encoding='utf-8'>\n"
     ]
    }
   ],
   "source": [
    "with open('file_for_with/filewith5.txt', 'w', encoding = 'utf-8') as file:\n",
    "    file.write('привет - это тест контекстного менеджера')\n",
    "    print(file)"
   ]
  }
 ],
 "metadata": {
  "kernelspec": {
   "display_name": "Python 3 (ipykernel)",
   "language": "python",
   "name": "python3"
  },
  "language_info": {
   "codemirror_mode": {
    "name": "ipython",
    "version": 3
   },
   "file_extension": ".py",
   "mimetype": "text/x-python",
   "name": "python",
   "nbconvert_exporter": "python",
   "pygments_lexer": "ipython3",
   "version": "3.12.9"
  }
 },
 "nbformat": 4,
 "nbformat_minor": 5
}
